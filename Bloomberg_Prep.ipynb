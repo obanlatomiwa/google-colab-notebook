{
  "nbformat": 4,
  "nbformat_minor": 0,
  "metadata": {
    "colab": {
      "provenance": []
    },
    "kernelspec": {
      "name": "python3",
      "display_name": "Python 3"
    },
    "language_info": {
      "name": "python"
    }
  },
  "cells": [
    {
      "cell_type": "markdown",
      "source": [
        "# Subset - Without duplicates - Important"
      ],
      "metadata": {
        "id": "i6HIcOb0W8ob"
      }
    },
    {
      "cell_type": "code",
      "source": [
        "# https://leetcode.com/problems/subsets/\n",
        "\n",
        "# O(n * 2 ** n) time, O(n * 2 ** n) space\n",
        "class Solution:\n",
        "    def subsets(self, nums: List[int]) -> List[List[int]]:\n",
        "\n",
        "        result = [[]]\n",
        "\n",
        "        for num in nums:\n",
        "            result += [cur + [num] for cur in result]\n",
        "\n",
        "        return result\n",
        "\n",
        "# O(n * 2 ** n) time, O(n) space - Main solution\n",
        "class Solution:\n",
        "    def subsets(self, nums: List[int]) -> List[List[int]]:\n",
        "        result = []\n",
        "\n",
        "        subset = []\n",
        "        def backtrack(idx):\n",
        "            if idx == len(nums):\n",
        "                result.append(subset[:])\n",
        "                return\n",
        "\n",
        "            # decsion to include nums[idx]\n",
        "            subset.append(nums[idx])\n",
        "            backtrack(idx + 1)\n",
        "\n",
        "            # decsion to not include nums[idx]\n",
        "            subset.pop()\n",
        "            backtrack(idx + 1)\n",
        "\n",
        "        backtrack(0)\n",
        "        return result\n",
        "\n"
      ],
      "metadata": {
        "id": "zAMUoQDDW9rd"
      },
      "execution_count": null,
      "outputs": []
    },
    {
      "cell_type": "markdown",
      "source": [
        "# Subset II - With duplicates - Important"
      ],
      "metadata": {
        "id": "z0xOT1LuWi4S"
      }
    },
    {
      "cell_type": "code",
      "source": [
        "#  Subsets II [https://leetcode.com/problems/subsets-ii/]\n",
        "# O(n * 2 ** n) time, O(n) space\n",
        "\n",
        "# Iterative\n",
        "class Solution:\n",
        "    def subsetsWithDup(self, nums: List[int]) -> List[List[int]]:\n",
        "        result = [[]]\n",
        "        nums.sort()\n",
        "        for num in nums:\n",
        "            result += [cur + [num] for cur in result if cur + [num] not in result]\n",
        "\n",
        "        return result\n",
        "\n",
        "# Recursive\n",
        "# O(n * 2^n) time\n",
        "class Solution:\n",
        "    def subsetsWithDup(self, nums: List[int]) -> List[List[int]]:\n",
        "        result = []\n",
        "        nums.sort()\n",
        "\n",
        "        def backtrack(nums, path):\n",
        "            result.append(path)\n",
        "\n",
        "            for i in range(len(nums)):\n",
        "                if i > 0 and nums[i] == nums[i - 1]:\n",
        "                    continue\n",
        "\n",
        "                backtrack(nums[i + 1:], path + [nums[i]])\n",
        "\n",
        "        backtrack(nums, [])\n",
        "        return result"
      ],
      "metadata": {
        "id": "rcw5lorfWpR4"
      },
      "execution_count": null,
      "outputs": []
    },
    {
      "cell_type": "markdown",
      "source": [
        "# Longest Substring Without Repeating Characters - Important"
      ],
      "metadata": {
        "id": "55_72KK6se4-"
      }
    },
    {
      "cell_type": "code",
      "source": [
        "# https://leetcode.com/problems/longest-substring-without-repeating-characters/\n",
        "\n",
        "# O(n) time, O(min(m,n)) space m = length of hashmap\n",
        "class Solution:\n",
        "    def lengthOfLongestSubstring(self, s: str) -> int:\n",
        "        lastSeen = {}\n",
        "        longest = [0, 1]\n",
        "        startIdx = 0\n",
        "\n",
        "        if not s:\n",
        "            return 0\n",
        "\n",
        "        for i, char in enumerate(s):\n",
        "            if char in lastSeen:\n",
        "                startIdx = max(startIdx, lastSeen[char] + 1)\n",
        "            if longest[1] - longest[0] < i + 1 - startIdx:\n",
        "                longest = [startIdx, i + 1]\n",
        "            lastSeen[char] = i\n",
        "\n",
        "\n",
        "        return longest[1] - longest[0]\n",
        "\n",
        "\n",
        "# O(n) time O(n) space\n",
        "class Solution:\n",
        "    def lengthOfLongestSubstring(self, s: str) -> int:\n",
        "        if len(s) == 0:\n",
        "            return 0\n",
        "\n",
        "        i, j = 0, 0\n",
        "        count = 0\n",
        "        sett = set()\n",
        "\n",
        "        while i < len(s) and j < len(s):\n",
        "            if s[j] not in sett:\n",
        "                sett.add(s[j])\n",
        "                j += 1\n",
        "                count = max(count, j - i)\n",
        "\n",
        "            else:\n",
        "                sett.remove(s[i])\n",
        "                i += 1\n",
        "                count = max(count, j - i)\n",
        "\n",
        "        return count"
      ],
      "metadata": {
        "id": "3laEArjRsfk2"
      },
      "execution_count": null,
      "outputs": []
    },
    {
      "cell_type": "markdown",
      "source": [
        "# Palindrome Numbers"
      ],
      "metadata": {
        "id": "I4yWJfP3yhb3"
      }
    },
    {
      "cell_type": "code",
      "source": [
        "# https://leetcode.com/problems/palindrome-number/\n",
        "# O(n) time O(1) space\n",
        "\n",
        "class Solution:\n",
        "    def isPalindrome(self, x: int) -> bool:\n",
        "        if x < 0 or (x % 10 == 0 and x != 0):\n",
        "            return False\n",
        "\n",
        "        first = x\n",
        "        last = 0\n",
        "\n",
        "        while first:\n",
        "            temp = first % 10\n",
        "            last = (last * 10) + temp\n",
        "            first //= 10\n",
        "\n",
        "        return x == last\n",
        "\n"
      ],
      "metadata": {
        "id": "FQwUw94zyjIC"
      },
      "execution_count": null,
      "outputs": []
    },
    {
      "cell_type": "markdown",
      "source": [
        "# Min Stack - Important"
      ],
      "metadata": {
        "id": "T3L6AzGZ6pfq"
      }
    },
    {
      "cell_type": "code",
      "source": [
        "# https://leetcode.com/problems/min-stack/\n",
        "\n",
        "class MinStack:\n",
        "\n",
        "    def __init__(self):\n",
        "        \"\"\"\n",
        "        initialize your data structure here.\n",
        "        \"\"\"\n",
        "        self.stack = []\n",
        "        self.mini = []\n",
        "\n",
        "    def push(self, val: int) -> None:\n",
        "        if not self.mini or self.mini[-1] >= val:\n",
        "            self.mini.append(val)\n",
        "        self.stack.append(val)\n",
        "\n",
        "    def pop(self) -> None:\n",
        "        temp = self.stack.pop()\n",
        "        if temp == self.mini[-1]:\n",
        "            self.mini.pop()\n",
        "\n",
        "    def top(self) -> int:\n",
        "        return self.stack[-1]\n",
        "\n",
        "    def getMin(self) -> int:\n",
        "        return self.mini[-1]"
      ],
      "metadata": {
        "id": "N3sNihdd6rQm"
      },
      "execution_count": null,
      "outputs": []
    },
    {
      "cell_type": "markdown",
      "source": [
        "# Two City Scheduling - Important"
      ],
      "metadata": {
        "id": "bltXBr4TDLTb"
      }
    },
    {
      "cell_type": "code",
      "source": [
        "# https://leetcode.com/problems/two-city-scheduling/\n",
        "# O(nlogn) time,\n",
        "# O(1) space ideally, but considering python sort it uses O(n) space, other languages uses O(logn)\n",
        "\n",
        "# In Python, the sort method sorts a list using the Timsort algorithm,\n",
        "# which is a combination of Merge Sort and Insertion Sort a but nd uses O(n) additional space.\n",
        "\n",
        "# explanation: Talk about the question in terms of amount saved by sending person i to A w.r.t B and sort accordingly\n",
        "# We have to sort by the total cost saved by sending a person to A with respect to B\n",
        "# Then we will get the maximum amount saved by send N/2 persons to A over B and the other half we be B\n",
        "\n",
        "class Solution:\n",
        "    def twoCitySchedCost(self, costs: List[List[int]]) -> int:\n",
        "        costs.sort(key = lambda x: x[0] - x[1])\n",
        "\n",
        "        total, n = 0, len(costs) // 2\n",
        "\n",
        "        for i in range(n):\n",
        "            total += costs[i][0] + costs[i + n][1]\n",
        "\n",
        "        return total"
      ],
      "metadata": {
        "id": "PhqetTqmKpTn"
      },
      "execution_count": null,
      "outputs": []
    },
    {
      "cell_type": "markdown",
      "source": [
        "# Insert Delete GetRandom O(1) - Important"
      ],
      "metadata": {
        "id": "3xDo6H4DL2YL"
      }
    },
    {
      "cell_type": "code",
      "source": [
        "# https://leetcode.com/problems/insert-delete-getrandom-o1/\n",
        "# O(1) time, O(n) space\n",
        "\n",
        "class RandomizedSet:\n",
        "\n",
        "    def __init__(self):\n",
        "        \"\"\"\n",
        "        Initialize your data structure here.\n",
        "        \"\"\"\n",
        "        self.randomSet = {}\n",
        "        self.data = []\n",
        "\n",
        "    def insert(self, val: int) -> bool:\n",
        "        \"\"\"\n",
        "        Inserts a value to the set. Returns true if the set did not already contain the specified element.\n",
        "        \"\"\"\n",
        "\n",
        "        if val not in self.randomSet:\n",
        "            self.randomSet[val] = len(self.data)\n",
        "            self.data.append(val)\n",
        "            return True\n",
        "        else:\n",
        "            return False\n",
        "\n",
        "\n",
        "    def remove(self, val: int) -> bool:\n",
        "        \"\"\"\n",
        "        Removes a value from the set. Returns true if the set contained the specified element.\n",
        "        \"\"\"\n",
        "        if val not in self.randomSet:\n",
        "            return False\n",
        "        else:\n",
        "            idx_element_to_remove = self.randomSet[val]\n",
        "            last_element_in_list = self.data[-1]\n",
        "\n",
        "            # switch both values\n",
        "\n",
        "            self.randomSet[last_element_in_list] = idx_element_to_remove\n",
        "            self.data[idx_element_to_remove] = last_element_in_list\n",
        "\n",
        "            self.data.pop()\n",
        "            self.randomSet.pop(val)\n",
        "\n",
        "            return True\n",
        "\n",
        "    def getRandom(self) -> int:\n",
        "        \"\"\"\n",
        "        Get a random element from the set.\n",
        "        \"\"\"\n",
        "        return random.choice(self.data)\n",
        "\n",
        "\n",
        "\n",
        "# Your RandomizedSet object will be instantiated and called as such:\n",
        "# obj = RandomizedSet()\n",
        "# param_1 = obj.insert(val)\n",
        "# param_2 = obj.remove(val)\n",
        "# param_3 = obj.getRandom()"
      ],
      "metadata": {
        "id": "3dCWnm2EMD9L"
      },
      "execution_count": null,
      "outputs": []
    },
    {
      "cell_type": "markdown",
      "source": [
        "# Minimum Remove to make Parenthesis Valid"
      ],
      "metadata": {
        "id": "iKXwJqFPOQza"
      }
    },
    {
      "cell_type": "code",
      "source": [
        "# https://leetcode.com/problems/minimum-remove-to-make-valid-parentheses/\n",
        "# O(n) time, O(n) space\n",
        "# Stack approach\n",
        "\n",
        "class Solution:\n",
        "    def minRemoveToMakeValid(self, s: str) -> str:\n",
        "        stack = []\n",
        "        s = list(s)\n",
        "\n",
        "        for i, c in enumerate(s):\n",
        "            if s[i] == '(':\n",
        "                stack.append(i)\n",
        "\n",
        "            elif s[i] == ')':\n",
        "                if stack:\n",
        "                    stack.pop()\n",
        "                else:\n",
        "                    s[i] = ''\n",
        "\n",
        "        for i in stack:\n",
        "            s[i] = ''\n",
        "\n",
        "        return ''.join(s)\n",
        "\n",
        "# Counter Approach\n",
        "# O(n) time, O(1) space\n",
        "class Solution:\n",
        "    def minRemoveToMakeValid(self, s: str) -> str:\n",
        "        left = 0\n",
        "        s = list(s)\n",
        "\n",
        "        for i, c in enumerate(s):\n",
        "            if s[i] == '(':\n",
        "                left += 1\n",
        "\n",
        "            elif s[i] == ')':\n",
        "                if left > 0:\n",
        "                    left -= 1\n",
        "                else:\n",
        "                    s[i] = ''\n",
        "\n",
        "        for i in range(len(s) - 1, -1, -1):\n",
        "            if s[i] == '(' and left > 0:\n",
        "                left -= 1\n",
        "                s[i] = ''\n",
        "\n",
        "        return ''.join(s)"
      ],
      "metadata": {
        "id": "g0AasS3NOhAo"
      },
      "execution_count": null,
      "outputs": []
    },
    {
      "cell_type": "markdown",
      "source": [
        "# LRU Cache - Important"
      ],
      "metadata": {
        "id": "479tIv0DPpsT"
      }
    },
    {
      "cell_type": "code",
      "source": [
        "#10) https://leetcode.com/problems/lru-cache\n",
        "# Dll\n",
        "# Orderdict\n",
        "\n",
        "# Using a doubly linked list will help us to push and pop the elements\n",
        "# from the front and rear of the linked list in constant time and so DLL is preferred.\n",
        "# we keep the key in the node (Node(key, val)) so when we want to delete from the cache\n",
        "# we access the cache in O(1) instead of search the cache for the value\n",
        "\n",
        "#  main solution\n",
        "class Node:\n",
        "    def __init__(self, key, val):\n",
        "        self.key = key\n",
        "        self.val = val\n",
        "        self.prev = None\n",
        "        self.next = None\n",
        "\n",
        "class LRUCache:\n",
        "\n",
        "    def __init__(self, capacity: int):\n",
        "        self.cache = {}\n",
        "        self.capacity = capacity\n",
        "        self.head = Node(0,0)\n",
        "        self.tail = Node(0,0)\n",
        "        self.tail.prev = self.head\n",
        "        self.head.next = self.tail\n",
        "\n",
        "\n",
        "    def get(self, key: int) -> int:\n",
        "        if key in self.cache:\n",
        "            self.remove(self.cache[key])\n",
        "            self.insert(self.cache[key])\n",
        "            return self.cache[key].val\n",
        "\n",
        "        return -1\n",
        "\n",
        "\n",
        "    def put(self, key: int, value: int) -> None:\n",
        "        if key in self.cache:\n",
        "            self.remove(self.cache[key])\n",
        "        self.cache[key] = Node(key, value)\n",
        "        self.insert(self.cache[key])\n",
        "\n",
        "        if len(self.cache) > self.capacity:\n",
        "            lru = self.head.next\n",
        "            self.remove(lru)\n",
        "            del self.cache[lru.key]\n",
        "\n",
        "    def remove(self, node):\n",
        "        prev, nxt = node.prev, node.next\n",
        "        prev.next = nxt\n",
        "        nxt.prev = prev\n",
        "\n",
        "    def insert(self, node):\n",
        "        prev, nxt = self.tail.prev, self.tail\n",
        "        nxt.prev = node\n",
        "        prev.next = node\n",
        "        node.prev = prev\n",
        "        node.next = nxt\n"
      ],
      "metadata": {
        "id": "xHVfd8TcWBox"
      },
      "execution_count": null,
      "outputs": []
    },
    {
      "cell_type": "markdown",
      "source": [
        "# Decode String - Important"
      ],
      "metadata": {
        "id": "rm5IecWnWF8T"
      }
    },
    {
      "cell_type": "code",
      "source": [
        "# https://leetcode.com/problems/decode-string/\n",
        "# O(n) time, O(n) space\n",
        "\n",
        "class Solution:\n",
        "    def decodeString(self, s: str) -> str:\n",
        "        stack = []\n",
        "\n",
        "        for char in s:\n",
        "            if char == '[':\n",
        "                stack.append(char)\n",
        "\n",
        "            elif char == ']':\n",
        "                if stack:\n",
        "                    letter = stack.pop()\n",
        "                    number = stack.pop()\n",
        "\n",
        "                    newStr = int(number) * letter\n",
        "\n",
        "\n",
        "                    if stack and stack[-1].isalpha():\n",
        "                        stack[-1] += newStr\n",
        "\n",
        "                    else:\n",
        "                        stack.append(newStr)\n",
        "\n",
        "            else:\n",
        "                if stack and stack[-1] == '[':\n",
        "                    stack[-1] = char\n",
        "                elif stack and stack[-1].isnumeric() == char.isnumeric():\n",
        "                    stack[-1] += char\n",
        "\n",
        "                else:\n",
        "                    stack.append(char)\n",
        "\n",
        "\n",
        "        return stack[0]"
      ],
      "metadata": {
        "id": "juCoEDTZWHWV"
      },
      "execution_count": null,
      "outputs": []
    },
    {
      "cell_type": "markdown",
      "source": [
        "# Decode Ways"
      ],
      "metadata": {
        "id": "dCVXsev2XIQN"
      }
    },
    {
      "cell_type": "code",
      "source": [
        "# https://leetcode.com/problems/decode-ways/\n",
        "# O(n) time, O(n) space\n",
        "\n",
        "class Solution:\n",
        "    def numDecodings(self, s: str) -> int:\n",
        "        dp_table = [0 for i in range(len(s) + 1)]\n",
        "        dp_table[0] = 1  # for an empty string ''\n",
        "        dp_table[1] = 1 if s[0] != '0' else 0\n",
        "\n",
        "        for i in range(2, len(s) + 1):\n",
        "            oneDigit = int(s[i-1: i])\n",
        "            twoDigits = int(s[i-2: i])\n",
        "\n",
        "            if oneDigit >= 1:\n",
        "                dp_table[i] += dp_table[i-1]\n",
        "\n",
        "            if twoDigits >= 10 and twoDigits <= 26:\n",
        "                dp_table[i] += dp_table[i-2]\n",
        "\n",
        "\n",
        "        return dp_table[-1]"
      ],
      "metadata": {
        "id": "9c9HQhdyXI_2"
      },
      "execution_count": null,
      "outputs": []
    },
    {
      "cell_type": "markdown",
      "source": [
        "# Valid Anagram - Important"
      ],
      "metadata": {
        "id": "rtndfe6C7_fp"
      }
    },
    {
      "cell_type": "code",
      "source": [
        "# https://leetcode.com/problems/valid-anagram/\n",
        "# O(n) time, O(n) space\n",
        "\n",
        "class Solution:\n",
        "    def isAnagram(self, s: str, t: str) -> bool:\n",
        "        store = {}\n",
        "\n",
        "        for char in s:\n",
        "            store[char] = store.get(char, 0) + 1\n",
        "\n",
        "        for char in t:\n",
        "            store[char] = store.get(char, 0) - 1\n",
        "\n",
        "        for char in store.values():\n",
        "            if char != 0:\n",
        "                return False\n",
        "        return True\n",
        "\n",
        "# O(n) time, O(1) space\n",
        "class Solution:\n",
        "    def isAnagram(self, s: str, t: str) -> bool:\n",
        "        freq = [0] * 26\n",
        "        for char in s:\n",
        "            freq[ord(char) - ord('a')] += 1\n",
        "\n",
        "        for char in t:\n",
        "            freq[ord(char) - ord('a')] -= 1\n",
        "\n",
        "        for i in freq:\n",
        "            if i != 0:\n",
        "                return False\n",
        "\n",
        "        return True"
      ],
      "metadata": {
        "id": "tl7ZeJ--8Ar8"
      },
      "execution_count": null,
      "outputs": []
    },
    {
      "cell_type": "markdown",
      "source": [
        "# Flatten a multilevel doubly linked list - Important"
      ],
      "metadata": {
        "id": "bXgI44xj9fpk"
      }
    },
    {
      "cell_type": "code",
      "source": [
        "# https://leetcode.com/problems/flatten-a-multilevel-doubly-linked-list/\n",
        "# O(n) time, O(1) space\n",
        "\n",
        "\"\"\"\n",
        "# Definition for a Node.\n",
        "class Node:\n",
        "    def __init__(self, val, prev, next, child):\n",
        "        self.val = val\n",
        "        self.prev = prev\n",
        "        self.next = next\n",
        "        self.child = child\n",
        "\"\"\"\n",
        "\n",
        "\n",
        "\"\"\"\n",
        "flatten the child list as we go, point p, moves forward, if a node, has a child, we merge...\n",
        "      p\n",
        "1->2->3->4->5->6\n",
        "      7->8->9->10\n",
        "         11->12\n",
        "\n",
        "becomes\n",
        "\n",
        "      p     p\n",
        "1->2->3->7->8->9->10->4->5->6\n",
        "            11->12\n",
        "\n",
        "then\n",
        "1->2->3->7->8->11->12->9->10->4->5->6\n",
        "\"\"\"\n",
        "\n",
        "class Solution:\n",
        "    def flatten(self, head: 'Node') -> 'Node':\n",
        "        current = head\n",
        "\n",
        "        while current is not None:\n",
        "            if current.child:\n",
        "                self.merge(current)\n",
        "\n",
        "            current = current.next\n",
        "\n",
        "        return head\n",
        "\n",
        "\n",
        "    def merge(self, current):\n",
        "        child = current.child\n",
        "\n",
        "        while child.next is not None:\n",
        "            child = child.next\n",
        "\n",
        "        if current.next is not None:\n",
        "            child.next = current.next\n",
        "            current.next.prev = child\n",
        "\n",
        "        current.next = current.child\n",
        "        current.child.prev = current\n",
        "\n",
        "        current.child = None\n",
        "\n",
        "\n",
        "# O(n) time, O(n) space\n",
        "class Solution:\n",
        "    def flatten(self, head: 'Optional[Node]') -> 'Optional[Node]':\n",
        "        if not head:\n",
        "            return\n",
        "\n",
        "        # temp head\n",
        "        temp_head = Node(0,None,head,None)\n",
        "        prev = temp_head\n",
        "\n",
        "        stack = []\n",
        "        stack.append(head)\n",
        "\n",
        "        while stack:\n",
        "            curr = stack.pop()\n",
        "\n",
        "            prev.next = curr\n",
        "            curr.prev = prev\n",
        "\n",
        "            # add the next node before the child so the child node gets processed first\n",
        "            #  because of stack LIFO\n",
        "            if curr.next:\n",
        "                stack.append(curr.next)\n",
        "            if curr.child:\n",
        "                stack.append(curr.child)\n",
        "                curr.child = None\n",
        "\n",
        "            # to keep track of the prev node to link cos it's a DLL\n",
        "            prev = curr\n",
        "\n",
        "        # detach the temp_head node from the result\n",
        "        temp_head.next.prev = None\n",
        "        return temp_head.next\n"
      ],
      "metadata": {
        "id": "LtanhLOX9j3b"
      },
      "execution_count": null,
      "outputs": []
    },
    {
      "cell_type": "markdown",
      "source": [
        "# Output data from a stream in order - Important"
      ],
      "metadata": {
        "id": "TRoJSbsHCDBy"
      }
    },
    {
      "cell_type": "code",
      "source": [
        "# Input: (1, \"abcd\"), (2, \"efgh\"), (4, \"mnop\"), (5, \"qrst\"), (3, \"ijkl\")\n",
        "\n",
        "# Write a program to output the data from the stream in realtime in order, so 1,2,3,4,5.. You cannot queue up the incoming data from the stream. So for example if the first incoming bit of data is (1, \"abcd\"), and the second is (4, \"mnop\"), you cannot output (4, \"mnop\") until you get 2, 3.\n",
        "\n",
        "# Ans: Use minheaap\n",
        "\n",
        "\n",
        "import heapq\n",
        "\n",
        "def output_data_from_stream_in_order(stream):\n",
        "    heapq.heapify(stream)\n",
        "    while len(stream) > 0:\n",
        "        print(heapq.heappop(stream))\n",
        "\n",
        "\n",
        "stream = [(1, \"abcd\"), (2, \"efgh\"), (4, \"mnop\"), (5, \"qrst\"), (3, \"ijkl\")]\n",
        "\n",
        "output_data_from_stream_in_order(stream)\n"
      ],
      "metadata": {
        "id": "Qy17BE2LCRSz",
        "colab": {
          "base_uri": "https://localhost:8080/"
        },
        "outputId": "6d68f383-8986-46d5-ec58-c4aff3dfe6a8"
      },
      "execution_count": null,
      "outputs": [
        {
          "output_type": "stream",
          "name": "stdout",
          "text": [
            "(1, 'abcd')\n",
            "(2, 'efgh')\n",
            "(3, 'ijkl')\n",
            "(4, 'mnop')\n",
            "(5, 'qrst')\n"
          ]
        }
      ]
    },
    {
      "cell_type": "markdown",
      "source": [
        "# Word Break I - Important"
      ],
      "metadata": {
        "id": "_r3HoPegCagL"
      }
    },
    {
      "cell_type": "code",
      "source": [
        "# Word Break [https://leetcode.com/problems/word-break/]\n",
        "# O(n^3) time, O(n) space\n",
        "\n",
        "class Solution:\n",
        "    def wordBreak(self, s: str, wordDict: List[str]) -> bool:\n",
        "        dp = [False for i in range(len(s) + 1)]\n",
        "        dp[0] = True\n",
        "\n",
        "        for i in range(1, len(s) + 1):\n",
        "            for j in range(i):\n",
        "                if dp[j] and s[j:i] in wordDict:\n",
        "                    dp[i] = True\n",
        "                    break\n",
        "        return dp[-1]\n",
        "\n",
        "\n",
        "# O(n^3) time, O(n) space\n",
        "class Solution:\n",
        "    def wordBreak(self, s: str, wordDict: List[str]) -> bool:\n",
        "        queue = deque([s])\n",
        "        visited = set()\n",
        "\n",
        "        while queue:\n",
        "            word = queue.popleft()\n",
        "\n",
        "            # to avoid processing the same sub string\n",
        "            if word in visited:\n",
        "                continue\n",
        "\n",
        "            # empty string, means we found all available substring in word dict\n",
        "            if not word:\n",
        "                return True\n",
        "            else:\n",
        "                visited.add(word)\n",
        "\n",
        "                for value in wordDict:\n",
        "                    if word.startswith(value):\n",
        "                        queue.append(word[len(value):])\n",
        "\n",
        "        return False"
      ],
      "metadata": {
        "id": "4YcS2e5fCcMt"
      },
      "execution_count": null,
      "outputs": []
    },
    {
      "cell_type": "markdown",
      "source": [
        "# Word Break II - Hard - Important"
      ],
      "metadata": {
        "id": "UaSVLm2iIayr"
      }
    },
    {
      "cell_type": "code",
      "source": [
        "# https://leetcode.com/problems/word-break-ii/\n",
        "\n",
        "class Solution:\n",
        "    def wordBreak(self, s: str, wordDict: List[str]) -> List[str]:\n",
        "        return self.helper(s, wordDict, {})\n",
        "\n",
        "    def helper(self, s, wordDict, memo):\n",
        "        if s in memo:\n",
        "            return memo[s]\n",
        "\n",
        "        if not s:\n",
        "            return []\n",
        "\n",
        "        res = []\n",
        "        for word in wordDict:\n",
        "            if not s.startswith(word):\n",
        "                continue\n",
        "\n",
        "            if len(word) == len(s):\n",
        "                res.append(word)\n",
        "\n",
        "            else:\n",
        "                result = self.helper(s[len(word):], wordDict, memo)\n",
        "\n",
        "                for item in result:\n",
        "                    item = word + ' ' + item\n",
        "                    res.append(item)\n",
        "\n",
        "        memo[s] = res\n",
        "\n",
        "        return res"
      ],
      "metadata": {
        "id": "ZJf70TKyIbjl"
      },
      "execution_count": null,
      "outputs": []
    },
    {
      "cell_type": "markdown",
      "source": [
        "# Binary Tree Right Side View - Important"
      ],
      "metadata": {
        "id": "jw3b0f2hIp8g"
      }
    },
    {
      "cell_type": "code",
      "source": [
        "# https://leetcode.com/problems/binary-tree-right-side-view/\n",
        "# O(n) time O(d) space\n",
        "\n",
        "class Solution:\n",
        "    def rightSideView(self, root: TreeNode) -> List[int]:\n",
        "        if root is None:\n",
        "            return []\n",
        "\n",
        "        queue = deque([root,])\n",
        "        rightside = []\n",
        "\n",
        "        while queue:\n",
        "            level_length = len(queue)\n",
        "\n",
        "            for i in range(level_length):\n",
        "                node = queue.popleft()\n",
        "                # if it's the rightmost element\n",
        "                if i == level_length - 1:\n",
        "                    rightside.append(node.val)\n",
        "\n",
        "                # add child nodes in the queue\n",
        "                if node.left:\n",
        "                    queue.append(node.left)\n",
        "                if node.right:\n",
        "                    queue.append(node.right)\n",
        "\n",
        "        return rightside\n"
      ],
      "metadata": {
        "id": "hzwTb7RgIrFs"
      },
      "execution_count": null,
      "outputs": []
    },
    {
      "cell_type": "markdown",
      "source": [
        "# Word Search I - Important"
      ],
      "metadata": {
        "id": "5JCGkVG7J9Ro"
      }
    },
    {
      "cell_type": "code",
      "source": [
        "# https://leetcode.com/problems/word-search/\n",
        "\n",
        "# O(m * n * 4 ^ n) time, O(m * n) space\n",
        "\n",
        "class Solution:\n",
        "    def exist(self, board: List[List[str]], word: str) -> bool:\n",
        "        rows, cols = len(board), len(board[0])\n",
        "        visited = set()\n",
        "\n",
        "        # O(4 ^ n)\n",
        "        def dfs(r, c, i):\n",
        "            if i == len(word):\n",
        "                return True\n",
        "\n",
        "            if r < 0 or c < 0 or r >= rows or c >= cols or (r,c) in visited or board[r][c] != word[i]:\n",
        "                return False\n",
        "\n",
        "            visited.add((r, c))\n",
        "\n",
        "            res = dfs(r + 1, c, i + 1) or dfs(r - 1, c, i + 1) or dfs(r, c + 1, i + 1) or dfs(r, c - 1, i + 1)\n",
        "\n",
        "            visited.remove((r, c))\n",
        "            return res\n",
        "\n",
        "\n",
        "        for row in range(len(board)):\n",
        "            for col in range(len(board[0])):\n",
        "                if dfs(row, col, 0):\n",
        "                    return True\n",
        "\n",
        "        return False\n"
      ],
      "metadata": {
        "id": "ENfyk58EJ-99"
      },
      "execution_count": null,
      "outputs": []
    },
    {
      "cell_type": "markdown",
      "source": [
        "# Word Search II - Hard"
      ],
      "metadata": {
        "id": "mjI3ju94oqim"
      }
    },
    {
      "cell_type": "code",
      "source": [
        "# https://leetcode.com/problems/word-search-ii/\n",
        "\n",
        "# O(M(4⋅3 L−1)) time, O(n) space\n",
        "\n",
        "class Solution:\n",
        "    def findWords(self, board: List[List[str]], words: List[str]) -> List[str]:\n",
        "        word_end = '$'\n",
        "        trie = {}\n",
        "        result = []\n",
        "\n",
        "        for word in words:\n",
        "            node = trie\n",
        "            for letter in word:\n",
        "                node = node.setdefault(letter, {})\n",
        "\n",
        "            node[word_end] = word\n",
        "\n",
        "\n",
        "        def backtracking(row, col, trie):\n",
        "            letter = board[row][col]\n",
        "            parent = trie[letter]\n",
        "\n",
        "            word_confirm = parent.pop(word_end, False)\n",
        "\n",
        "            if word_confirm:\n",
        "                result.append(word_confirm)\n",
        "\n",
        "            board[row][col] = '#'\n",
        "\n",
        "            for (offRow, offCol) in [(1, 0), (-1, 0), (0, -1), (0, 1)]:\n",
        "                newRow, newCol = row + offRow, col + offCol\n",
        "                if newRow < 0 or newRow >= len(board) or newCol < 0 or newCol >= len(board[0]):\n",
        "                    continue\n",
        "\n",
        "                if not board[newRow][newCol] in parent:\n",
        "                    continue\n",
        "\n",
        "                backtracking(newRow, newCol, parent)\n",
        "\n",
        "            board[row][col] = letter\n",
        "\n",
        "            if not parent:\n",
        "                trie.pop(letter)\n",
        "\n",
        "\n",
        "        for i in range(len(board)):\n",
        "            for j in range(len(board[0])):\n",
        "                if board[i][j] in trie:\n",
        "                    backtracking(i, j, trie)\n",
        "\n",
        "        return result\n"
      ],
      "metadata": {
        "id": "GELXg1uiot7a"
      },
      "execution_count": null,
      "outputs": []
    },
    {
      "cell_type": "markdown",
      "source": [
        "# Reconstruct Itinerary - Hard - Important"
      ],
      "metadata": {
        "id": "udFFMe9oo0gv"
      }
    },
    {
      "cell_type": "code",
      "source": [
        "# https://leetcode.com/problems/reconstruct-itinerary/\n",
        "\n",
        "from collections import defaultdict\n",
        "class Solution:\n",
        "    def findItinerary(self, tickets: List[List[str]]) -> List[str]:\n",
        "        result = []\n",
        "        store = defaultdict(list)\n",
        "\n",
        "        start = \"JFK\"\n",
        "\n",
        "        # generate the graph\n",
        "        for dest, to in tickets:\n",
        "            store[dest].append(to)\n",
        "\n",
        "        #  sort the \"to\" in reverse so that we can pop last element\n",
        "        # instead of pop out first element which is costly operation\n",
        "        for dest, to in store.items():\n",
        "            to.sort(reverse=True)\n",
        "\n",
        "        return self.bfs(start, store, result)\n",
        "\n",
        "\n",
        "    def bfs(self, start, store, result):\n",
        "        while store[start]:\n",
        "            self.bfs(store[start].pop(), store, result)\n",
        "        result.append(start)\n",
        "\n",
        "        return result[::-1]\n",
        "\n",
        "\n",
        "def findItinerary(self, tickets: List[List[str]]) -> List[str]:\n",
        "    graph = collections.defaultdict(list)\n",
        "    for src, des in tickets:\n",
        "        graph[src].append(des)\n",
        "\n",
        "    for src in graph:\n",
        "        graph[src].sort(reverse = True)\n",
        "\n",
        "    stack = ['JFK']\n",
        "    res = []\n",
        "\n",
        "    while stack:\n",
        "\n",
        "        while graph[stack[-1]]:\n",
        "            stack.append(graph[stack[-1]].pop())\n",
        "        else:\n",
        "            res.append(stack.pop())\n",
        "\n",
        "    return res[::-1]"
      ],
      "metadata": {
        "id": "mFx_agR2pAbO"
      },
      "execution_count": null,
      "outputs": []
    },
    {
      "cell_type": "markdown",
      "source": [
        "# First Unique Character in a String - Important"
      ],
      "metadata": {
        "id": "yTvBNlRcaZ8a"
      }
    },
    {
      "cell_type": "code",
      "source": [
        "# https://leetcode.com/problems/first-unique-character-in-a-string/\n",
        "# O(n) time, O(1) space because English alphabet contains 26 letters.\n",
        "\n",
        "class Solution:\n",
        "    def firstUniqChar(self, s: str) -> int:\n",
        "        count = Counter(s)\n",
        "\n",
        "        for i, char in enumerate(s):\n",
        "            if count[char] == 1:\n",
        "                return i\n",
        "\n",
        "        return -1"
      ],
      "metadata": {
        "id": "BfKrZ6UkaaaR"
      },
      "execution_count": null,
      "outputs": []
    },
    {
      "cell_type": "markdown",
      "source": [
        "\n",
        "# Longest Consecutive Sequence"
      ],
      "metadata": {
        "id": "0j_ElBNjcHeb"
      }
    },
    {
      "cell_type": "code",
      "source": [
        "# https://leetcode.com/problems/longest-consecutive-sequence/\n",
        "\n",
        "# sort and iterate and find the broken sequence and stop the count (nlogn)\n",
        "\n",
        "# O(n)time\n",
        "class Solution:\n",
        "    def longestConsecutive(self, nums):\n",
        "        longest_streak = 0\n",
        "        num_set = set(nums)\n",
        "\n",
        "        for num in num_set:\n",
        "            if num - 1 not in num_set:\n",
        "                current_num = num\n",
        "                current_streak = 1\n",
        "\n",
        "                while current_num + 1 in num_set:\n",
        "                    current_num += 1\n",
        "                    current_streak += 1\n",
        "\n",
        "                longest_streak = max(longest_streak, current_streak)\n",
        "\n",
        "        return longest_streak"
      ],
      "metadata": {
        "id": "lZnvGdLPcH6Q"
      },
      "execution_count": null,
      "outputs": []
    },
    {
      "cell_type": "code",
      "source": [
        "def longestConsecutive(nums, limit):\n",
        "    nums = list(nums)\n",
        "    longest_streak = 1\n",
        "    for i in range(1, len(nums)):\n",
        "        if nums[i] == nums[i-1]:\n",
        "            longest_streak += 1\n",
        "        else:\n",
        "            longest_streak = 1\n",
        "        if longest_streak >= limit:\n",
        "            return False\n",
        "    return True\n",
        "\n",
        "\n",
        "longestConsecutive('222123412222133', 4)"
      ],
      "metadata": {
        "colab": {
          "base_uri": "https://localhost:8080/"
        },
        "id": "2n2Gb_Gg3WAz",
        "outputId": "5303adc4-e865-4995-b76b-ed522fcf754c"
      },
      "execution_count": null,
      "outputs": [
        {
          "output_type": "execute_result",
          "data": {
            "text/plain": [
              "False"
            ]
          },
          "metadata": {},
          "execution_count": 10
        }
      ]
    },
    {
      "cell_type": "markdown",
      "source": [
        "# Validate Binary Search Tree - Important"
      ],
      "metadata": {
        "id": "8K4FdbLrcmZO"
      }
    },
    {
      "cell_type": "code",
      "source": [
        "# https://leetcode.com/problems/validate-binary-search-tree/\n",
        "# O(n)time O(n) space\n",
        "\n",
        "class Solution:\n",
        "    def isValidBST(self, root: Optional[TreeNode]) -> bool:\n",
        "        def valid(node, left, right):\n",
        "            if not node:\n",
        "                return True\n",
        "            if not (node.val > left and node.val < right):\n",
        "                return False\n",
        "            return (valid(node.left, left, node.val) and valid(node.right, node.val, right))\n",
        "\n",
        "        return valid(root, float('-inf'), float('inf'))\n"
      ],
      "metadata": {
        "id": "psYjswmZcm6o"
      },
      "execution_count": null,
      "outputs": []
    },
    {
      "cell_type": "markdown",
      "source": [
        "# Design Underground System - Important"
      ],
      "metadata": {
        "id": "vRGF3hKUerZF"
      }
    },
    {
      "cell_type": "code",
      "source": [
        "# https://leetcode.com/problems/design-underground-system/\n",
        "\n",
        "class UndergroundSystem:\n",
        "\n",
        "    def __init__(self):\n",
        "        self.station = defaultdict(tuple)\n",
        "        self.timing = defaultdict(list)\n",
        "\n",
        "    def checkIn(self, id: int, stationName: str, t: int) -> None:\n",
        "        self.station[id] = (t, stationName)\n",
        "\n",
        "    def checkOut(self, id: int, stationName: str, t: int) -> None:\n",
        "        startTime, startStation = self.station[id]\n",
        "        totalTime = t - startTime\n",
        "\n",
        "        if (startStation, stationName) not in self.timing:\n",
        "            self.timing[(startStation, stationName)] = [0, 0]\n",
        "\n",
        "        self.timing[(startStation, stationName)][0] += totalTime\n",
        "        self.timing[(startStation, stationName)][1] += 1\n",
        "\n",
        "    def getAverageTime(self, startStation: str, endStation: str) -> float:\n",
        "        totalTime, totalCustomer = self.timing[(startStation, endStation)]\n",
        "        return totalTime / totalCustomer"
      ],
      "metadata": {
        "id": "ysJzwdmter02"
      },
      "execution_count": null,
      "outputs": []
    },
    {
      "cell_type": "markdown",
      "source": [
        "# Populating Next Right Pointers in Each Node - Important"
      ],
      "metadata": {
        "id": "WKevPt80kOSq"
      }
    },
    {
      "cell_type": "code",
      "source": [
        "# Populating Next Right Pointers in Each Node [https://leetcode.com/problems/populating-next-right-pointers-in-each-node/]\n",
        "# O(n) time, O(n) space\n",
        "\n",
        "class Solution:\n",
        "    def connect(self, root: 'Node') -> 'Node':\n",
        "        if not root:\n",
        "            return\n",
        "\n",
        "        queue = deque([root,])\n",
        "\n",
        "        while queue:\n",
        "            length = len(queue)\n",
        "            for i in range(length):\n",
        "                node = queue.popleft()\n",
        "                if i == length - 1:\n",
        "                    node.next = None\n",
        "                else:\n",
        "                    node.next = queue[0]\n",
        "\n",
        "                if node.left:\n",
        "                    queue.append(node.left)\n",
        "                if node.right:\n",
        "                    queue.append(node.right)\n",
        "\n",
        "        return root\n",
        "\n",
        "\n",
        "# O(n) time, O(1) space\n",
        "class Solution:\n",
        "    def connect(self, root: 'Optional[Node]') -> 'Optional[Node]':\n",
        "        if not root:\n",
        "            return\n",
        "\n",
        "        leftmost = root\n",
        "\n",
        "        while leftmost.left:\n",
        "            head = leftmost\n",
        "\n",
        "            while head:\n",
        "                head.left.next = head.right\n",
        "\n",
        "                if head.next:\n",
        "                    head.right.next = head.next.left\n",
        "\n",
        "                head = head.next\n",
        "\n",
        "            leftmost = leftmost.left\n",
        "\n",
        "        return root"
      ],
      "metadata": {
        "id": "GkrNPgK4kPOP"
      },
      "execution_count": null,
      "outputs": []
    },
    {
      "cell_type": "markdown",
      "source": [
        "# Best Time to Buy and Sell Stock I - Important"
      ],
      "metadata": {
        "id": "yrFeqBHKkoxM"
      }
    },
    {
      "cell_type": "code",
      "source": [
        "# https://leetcode.com/problems/best-time-to-buy-and-sell-stock/description/\n",
        "# O(n) time, O(1) space\n",
        "\n",
        "class Solution:\n",
        "    def maxProfit(self, prices: List[int]) -> int:\n",
        "        if not prices:\n",
        "            return 0\n",
        "\n",
        "        minPrice = float(\"inf\")\n",
        "        maxProfit = 0\n",
        "\n",
        "        for i in range(len(prices)):\n",
        "            maxProfit = max(maxProfit, prices[i] - minPrice)\n",
        "            minPrice = min(minPrice, prices[i])\n",
        "\n",
        "        return maxProfit"
      ],
      "metadata": {
        "id": "qRY6Tw_tlpKj"
      },
      "execution_count": null,
      "outputs": []
    },
    {
      "cell_type": "markdown",
      "source": [
        "# Best Time to Buy and Sell Stock II - Important"
      ],
      "metadata": {
        "id": "WoCK-j2RFyQD"
      }
    },
    {
      "cell_type": "code",
      "source": [
        "# https://leetcode.com/problems/best-time-to-buy-and-sell-stock-ii/description/\n",
        "# O(n) time, O(1) space\n",
        "\n",
        "\n",
        "# trick is to add every profit found in one pass. Left -> Right\n",
        "\n",
        "class Solution:\n",
        "    def maxProfit(self, prices: List[int]) -> int:\n",
        "        profit = 0\n",
        "\n",
        "        for i in range(1, len(prices)):\n",
        "            if prices[i] > prices[i - 1]:\n",
        "                profit += (prices[i] - prices[i-1])\n",
        "\n",
        "        return profit"
      ],
      "metadata": {
        "id": "8wVgIgIkFyqE"
      },
      "execution_count": null,
      "outputs": []
    },
    {
      "cell_type": "markdown",
      "source": [
        "# Number of Ships in a Rectangle - Hard"
      ],
      "metadata": {
        "id": "_FnZW8Ddl40n"
      }
    },
    {
      "cell_type": "code",
      "source": [
        "# https://leetcode.com/problems/number-of-ships-in-a-rectangle/\n",
        "# Divide and conquer and greedy\n",
        "\n",
        "class Solution:\n",
        "    def countShips(self, sea: 'Sea', topRight: 'Point', bottomLeft: 'Point') -> int:\n",
        "        # If the current rectangle does not contain any ships, return 0.\n",
        "        if (bottomLeft.x > topRight.x) or (bottomLeft.y > topRight.y):\n",
        "            return 0\n",
        "        if not sea.hasShips(topRight, bottomLeft):\n",
        "            return 0\n",
        "\n",
        "        # If the rectangle represents a single point, a ship is located.\n",
        "        if (topRight.x == bottomLeft.x) and (topRight.y == bottomLeft.y):\n",
        "            return 1\n",
        "\n",
        "        # Recursively check each of the 4 sub-rectangles for ships.\n",
        "        mid_x = (topRight.x + bottomLeft.x) // 2\n",
        "        mid_y = (topRight.y + bottomLeft.y) // 2\n",
        "        return self.countShips(sea, Point(mid_x, mid_y), bottomLeft) + \\\n",
        "               self.countShips(sea, topRight, Point(mid_x + 1, mid_y + 1)) + \\\n",
        "               self.countShips(sea, Point(mid_x, topRight.y), Point(bottomLeft.x, mid_y + 1)) + \\\n",
        "               self.countShips(sea, Point(topRight.x, mid_y), Point(mid_x + 1, bottomLeft.y))"
      ],
      "metadata": {
        "id": "0s46qKBtl52Q"
      },
      "execution_count": null,
      "outputs": []
    },
    {
      "cell_type": "markdown",
      "source": [
        "# Course Schedule II"
      ],
      "metadata": {
        "id": "dH06dOQbnrde"
      }
    },
    {
      "cell_type": "code",
      "source": [
        "# Course Schedule II [https://leetcode.com/problems/course-schedule-ii/]\n",
        "\n",
        "# 1 using Khan's Algorithm\n",
        "# O(V+E) time O(V+E) space\n",
        "from collections import defaultdict, deque\n",
        "    def findOrder(self, numCourses: int, prerequisites: List[List[int]]) -> List[int]:\n",
        "        result, courses, indegree = [], defaultdict(list), {}\n",
        "\n",
        "        # populate the graph\n",
        "        for course, req in prerequisites:\n",
        "            courses[req].append(course)\n",
        "\n",
        "            indegree[course] = indegree.get(course, 0) + 1\n",
        "\n",
        "        # queue for maintaining nodes with 0 indegrees\n",
        "\n",
        "        q = deque([i for i in range(numCourses) if i not in indegree])\n",
        "\n",
        "\n",
        "        while q:\n",
        "            # Pop one node with 0 in-degree\n",
        "            current_node = q.popleft()\n",
        "            result.append(current_node)\n",
        "\n",
        "            # Reduce in-degree for all the neighbors\n",
        "            if current_node in courses:\n",
        "                for neighbour in courses[current_node]:\n",
        "                    indegree[neighbour] -= 1\n",
        "\n",
        "                    # Add neighbor to Q if in-degree becomes 0\n",
        "                    if indegree[neighbour] == 0:\n",
        "                        q.append(neighbour)\n",
        "\n",
        "\n",
        "        return result if len(result) == numCourses else []\n",
        "\n",
        "\n",
        "# 2 using DFS\n",
        "# O(V+E) time O(V+E) space\n",
        "\n",
        "from collections import defaultdict\n",
        "\n",
        "class Solution:\n",
        "    def findOrder(self, numCourses: int, prerequisites: List[List[int]]) -> List[int]:\n",
        "        courses = defaultdict(list)\n",
        "        visited = [0 for _ in range(numCourses)]\n",
        "        order = []\n",
        "\n",
        "        def dfs(course: int, visited: List[int], order: List[int]) -> bool:\n",
        "            if visited[course] == -1:\n",
        "                return False\n",
        "            elif visited[course] == 1:\n",
        "                return True\n",
        "\n",
        "            # visiting\n",
        "            visited[course] = -1\n",
        "            for next_course in courses[course]:\n",
        "                if not dfs(next_course, visited, order):\n",
        "                    return False\n",
        "\n",
        "            # visited\n",
        "            visited[course] = 1\n",
        "            order.append(course)\n",
        "\n",
        "            return True\n",
        "\n",
        "        for course, prereq in prerequisites:\n",
        "            courses[prereq].append(course)\n",
        "\n",
        "        return order[::-1] if all(dfs(course, visited, order) for course in range(numCourses)) else []"
      ],
      "metadata": {
        "id": "dNyci8UtnryT"
      },
      "execution_count": null,
      "outputs": []
    },
    {
      "cell_type": "markdown",
      "source": [
        "# Trapping Rain Water - Hard - Important"
      ],
      "metadata": {
        "id": "QGEsfqx8nvqD"
      }
    },
    {
      "cell_type": "code",
      "source": [
        "# https://leetcode.com/problems/trapping-rain-water/\n",
        "\n",
        "class Solution:\n",
        "    def trap(self, height: List[int]) -> int:\n",
        "        maxes = [0 for _ in height]\n",
        "        leftMax = 0\n",
        "\n",
        "        for i in range(len(height)):\n",
        "            currentHeight = height[i]\n",
        "            maxes[i] = leftMax\n",
        "            leftMax = max(currentHeight, leftMax)\n",
        "\n",
        "        rightMax = 0\n",
        "        for i in reversed(range(len(height))):\n",
        "            currentHeight = height[i]\n",
        "            minHeight = min(rightMax,maxes[i])\n",
        "\n",
        "            if currentHeight < minHeight:\n",
        "                maxes[i] = minHeight - currentHeight\n",
        "            else:\n",
        "                maxes[i] = 0\n",
        "\n",
        "            rightMax = max(currentHeight, rightMax)\n",
        "\n",
        "        return sum(maxes)\n",
        "\n",
        "\n",
        "# O(n) time O(1) space\n",
        "\"\"\"\n",
        "Trick is, for water trapped at height[i] = min(left height, right height) - height[i]\n",
        "-ve value means no water trapped\n",
        "\n",
        "O(n) time and space solution idea\n",
        "height -            [0,1,0,2,1,0,1,3,2,1,2,1]\n",
        "maxL table -        [0,0,1,1,2,2,2,2,3,3,3,3]\n",
        "maxR table -        [3,3,3,3,3,3,3,2,2,2,1,0]\n",
        "min(l,r) table -    [0,0,1,1,2,2,2,2,2,2,1,0]\n",
        "\n",
        "answer              [0,0,1,0,1,2,1,0,0,1,0,0] = 6\n",
        "\n",
        "\n",
        "optimized\n",
        "O(n) time and O(1) space solution idea\n",
        "two pointer, L  and R\n",
        "move from left to right with L, and keep track of maxL\n",
        "move from right to left with R, and keep track of maxR\n",
        "move the pointer L if L <= R else move R\n",
        "Result = min(left height, right height) - height[i]\n",
        "\n",
        "height -            [0,1,0,2,1,0,1,3,2,1,2,1]\n",
        "                    L                       R       maxL = 0 ,maxR = 1, result = 0\n",
        "\n",
        "height -            [0,1,0,2,1,0,1,3,2,1,2,1]\n",
        "                       L                   R       maxL = 1 ,maxR = 1, result = 0 + (1-1)\n",
        "\n",
        "height -            [0,1,0,2,1,0,1,3,2,1,2,1]\n",
        "                         L                 R       maxL = 1 ,maxR = 1, result = 1\n",
        "\n",
        "height -            [0,1,0,2,1,0,1,3,2,1,2,1]\n",
        "                           L               R       maxL = 2 ,maxR = 1, result = 1\n",
        "\n",
        "height -            [0,1,0,2,1,0,1,3,2,1,2,1]\n",
        "                           L             R         maxL = 2 ,maxR = 2, result = 1\n",
        "\n",
        "height -            [0,1,0,2,1,0,1,3,2,1,2,1]\n",
        "                             L           R         maxL = 2 ,maxR = 2, result = 2\n",
        "\n",
        "height -            [0,1,0,2,1,0,1,3,2,1,2,1]\n",
        "                               L         R         maxL = 2 ,maxR = 2, result = 4\n",
        "\n",
        "height -            [0,1,0,2,1,0,1,3,2,1,2,1]\n",
        "                                 L       R         maxL = 2 ,maxR = 2, result = 5\n",
        "\n",
        "height -            [0,1,0,2,1,0,1,3,2,1,2,1]\n",
        "                                   L     R         maxL = 3 ,maxR = 2, result = 5\n",
        "\n",
        "height -            [0,1,0,2,1,0,1,3,2,1,2,1]\n",
        "                                   L   R           maxL = 3 ,maxR = 2, result = 6\n",
        "\n",
        "height -            [0,1,0,2,1,0,1,3,2,1,2,1]\n",
        "                                   L R             maxL = 3 ,maxR = 2, result = 6\n",
        "\n",
        "\"\"\"\n",
        "\n",
        "class Solution:\n",
        "    def trap(self, height: List[int]) -> int:\n",
        "        if len(height) == 0:\n",
        "            return 0\n",
        "\n",
        "        l, r = 0, len(height) - 1\n",
        "        maxL, maxR = height[l], height[r]\n",
        "        res = 0\n",
        "\n",
        "        while l < r:\n",
        "            if maxL <= maxR:\n",
        "                l += 1\n",
        "                maxL = max(height[l], maxL)\n",
        "                res += maxL - height[l]\n",
        "            else:\n",
        "                r -= 1\n",
        "                maxR = max(height[r], maxR)\n",
        "                res += maxR - height[r]\n",
        "\n",
        "        return res"
      ],
      "metadata": {
        "id": "qJsz9P4Un8xC"
      },
      "execution_count": null,
      "outputs": []
    },
    {
      "cell_type": "markdown",
      "source": [
        "# Minimum Add To Make Parenthesis Valid"
      ],
      "metadata": {
        "id": "i3B4CgBHoPQd"
      }
    },
    {
      "cell_type": "code",
      "source": [
        "# https://leetcode.com/problems/minimum-add-to-make-parentheses-valid/\n",
        "\n",
        "class Solution:\n",
        "    def minAddToMakeValid(self, s: str) -> int:\n",
        "        stack = []\n",
        "\n",
        "        for char in s:\n",
        "            if char == '(':\n",
        "                stack.append(char)\n",
        "            else:\n",
        "                if not stack:\n",
        "                    stack.append(char)\n",
        "                else:\n",
        "                    if stack[-1] == '(':\n",
        "                        stack.pop()\n",
        "                    else:\n",
        "                        stack.append(char)\n",
        "\n",
        "        return len(stack)"
      ],
      "metadata": {
        "id": "TK0nHfFqoPuE"
      },
      "execution_count": null,
      "outputs": []
    },
    {
      "cell_type": "markdown",
      "source": [
        "# Word Ladder - Hard"
      ],
      "metadata": {
        "id": "DUjXQF0VpPTd"
      }
    },
    {
      "cell_type": "code",
      "source": [
        "# https://leetcode.com/problems/word-ladder/\n",
        "# O(M^2×N) space and time\n",
        "class Solution:\n",
        "    def ladderLength(self, beginWord: str, endWord: str, wordList: List[str]) -> int:\n",
        "        mapp = collections.defaultdict(list)\n",
        "        for word in wordList:\n",
        "            for i in range(len(word)):\n",
        "                mapp[word[:i] + '_' + word[i+1:]].append(word)\n",
        "\n",
        "        visited = set()\n",
        "        queue = collections.deque([(beginWord, 1)])\n",
        "\n",
        "        while queue:\n",
        "            word, count = queue.popleft()\n",
        "            if word == endWord:\n",
        "                return count\n",
        "\n",
        "            if not word in visited:\n",
        "                visited.add(word)\n",
        "                for i in range(len(word)):\n",
        "                    neighbour = word[:i] + '_' + word[i+1:]\n",
        "\n",
        "                    for option in mapp[neighbour]:\n",
        "                        queue.append((option, count + 1))\n",
        "\n",
        "        return 0"
      ],
      "metadata": {
        "id": "1QfTvr15pPn-"
      },
      "execution_count": null,
      "outputs": []
    },
    {
      "cell_type": "markdown",
      "source": [
        "# Remove All Adjacent Duplicates In String"
      ],
      "metadata": {
        "id": "SW7U9wykporL"
      }
    },
    {
      "cell_type": "code",
      "source": [
        "# https://leetcode.com/problems/remove-all-adjacent-duplicates-in-string/\n",
        "class Solution:\n",
        "    def removeDuplicates(self, s: str) -> str:\n",
        "        stack = []\n",
        "        for char in s:\n",
        "            if stack and stack[-1] == char:\n",
        "                stack.pop()\n",
        "            else:\n",
        "                stack.append(char)\n",
        "\n",
        "        return ''.join(stack)"
      ],
      "metadata": {
        "id": "FByLgGsfppAO"
      },
      "execution_count": null,
      "outputs": []
    },
    {
      "cell_type": "markdown",
      "source": [
        "# Remove All Adjacent Duplicates in String II"
      ],
      "metadata": {
        "id": "DHhbxtdDpxnB"
      }
    },
    {
      "cell_type": "code",
      "source": [
        "# https://leetcode.com/problems/remove-all-adjacent-duplicates-in-string-ii/\n",
        "\n",
        "class Solution:\n",
        "    def removeDuplicates(self, s: str, k: int) -> str:\n",
        "        store = []\n",
        "        for char in s:\n",
        "            if store and store[-1][0] == char:\n",
        "                store[-1][1] += 1\n",
        "\n",
        "                if store[-1][1] == k:\n",
        "                    store.pop()\n",
        "\n",
        "            else:\n",
        "                store.append([char, 1])\n",
        "\n",
        "        for i in range(len(store)):\n",
        "            store[i] = store[i][0] * store[i][1]\n",
        "\n",
        "        return ''.join(store)\n"
      ],
      "metadata": {
        "id": "fOjJ39M9pyEg"
      },
      "execution_count": null,
      "outputs": []
    },
    {
      "cell_type": "markdown",
      "source": [
        "# Invert A Binary Tree"
      ],
      "metadata": {
        "id": "IUKzSj2Rp_mr"
      }
    },
    {
      "cell_type": "code",
      "source": [
        "# https://leetcode.com/problems/invert-binary-tree/\n",
        "\n",
        "class Solution:\n",
        "\n",
        "#     O(n) time O(n) space iterative approach\n",
        "    # def invertTree(self, root: TreeNode) -> TreeNode:\n",
        "        # queue = [root]\n",
        "        # while queue:\n",
        "        #     current = queue.pop(0)\n",
        "        #     if current is None:\n",
        "        #         continue\n",
        "        #     self.swapLeftAndRightTree(current)\n",
        "        #     queue.append(current.left)\n",
        "        #     queue.append(current.right)\n",
        "        # return root\n",
        "\n",
        "#     O(n) time O(d) space recursive approach\n",
        "    def invertTree(self, root: TreeNode) -> TreeNode:\n",
        "        if root is None:\n",
        "            return\n",
        "\n",
        "        self.swapLeftAndRightTree(root)\n",
        "        self.invertTree(root.right)\n",
        "        self.invertTree(root.left)\n",
        "\n",
        "        return root\n",
        "\n",
        "\n",
        "    def swapLeftAndRightTree(self, root):\n",
        "        root.left, root.right = root.right, root.left\n"
      ],
      "metadata": {
        "id": "fk7xzdb4p_5p"
      },
      "execution_count": null,
      "outputs": []
    },
    {
      "cell_type": "markdown",
      "source": [
        "# Shuffle an Array - Important"
      ],
      "metadata": {
        "id": "5XJeHIXXqY59"
      }
    },
    {
      "cell_type": "code",
      "source": [
        "# Shuffle an Array [https://leetcode.com/problems/shuffle-an-array/]\n",
        "# O(n) time O(n) space\n",
        "\n",
        "class Solution:\n",
        "\n",
        "    def __init__(self, nums: List[int]):\n",
        "        self.nums = nums\n",
        "        self.backup_nums = list(nums)\n",
        "\n",
        "    def reset(self) -> List[int]:\n",
        "        self.nums = list(self.backup_nums)\n",
        "        return self.nums\n",
        "\n",
        "\n",
        "    def shuffle(self) -> List[int]:\n",
        "        array = self.nums\n",
        "        for i in range(len(array)):\n",
        "            random_idx = random.randint(0, len(array) - 1)\n",
        "            array[i], array[random_idx] = array[random_idx], array[i]\n",
        "\n",
        "        return array\n",
        "\n",
        "\n",
        "\n",
        "# O(n) time O(n) space\n",
        "class Solution:\n",
        "\n",
        "    def __init__(self, nums: List[int]):\n",
        "        self.nums = nums\n",
        "        self.backup_nums = list(nums)\n",
        "\n",
        "    def reset(self) -> List[int]:\n",
        "        self.nums = list(self.backup_nums)\n",
        "        return self.nums\n",
        "\n",
        "\n",
        "    def shuffle(self) -> List[int]:\n",
        "        array = self.nums\n",
        "        for i in range(len(array)):\n",
        "            random_idx = random.randint(i, len(array) - 1)\n",
        "            array[i], array[random_idx] = array[random_idx], array[i]\n",
        "\n",
        "        return array"
      ],
      "metadata": {
        "id": "1Y2lusuUqZPA"
      },
      "execution_count": null,
      "outputs": []
    },
    {
      "cell_type": "markdown",
      "source": [
        "# Reverse Linked List"
      ],
      "metadata": {
        "id": "hwx8ll-oq4V-"
      }
    },
    {
      "cell_type": "code",
      "source": [
        "# https://leetcode.com/problems/reverse-linked-list/\n",
        "\n",
        "class Solution:\n",
        "    def reverseList(self, head: ListNode) -> ListNode:\n",
        "        previousNode, currentNode = None, head\n",
        "        while currentNode is not None:\n",
        "            nextNode = currentNode.next\n",
        "            currentNode.next = previousNode\n",
        "            previousNode = currentNode\n",
        "            currentNode = nextNode\n",
        "        return previousNode"
      ],
      "metadata": {
        "id": "1WDS44noq4s1"
      },
      "execution_count": null,
      "outputs": []
    },
    {
      "cell_type": "markdown",
      "source": [
        "# Add Strings - Important"
      ],
      "metadata": {
        "id": "YtG-r-uhrUu-"
      }
    },
    {
      "cell_type": "code",
      "source": [
        "# https://leetcode.com/problems/add-strings/\n",
        "# O(max(m,n)) time O(max(m,n)) space\n",
        "\n",
        "class Solution:\n",
        "    def addStrings(self, num1: str, num2: str) -> str:\n",
        "        p1 = len(num1)-1\n",
        "        p2 = len(num2)-1\n",
        "\n",
        "\n",
        "        res = []\n",
        "        carry = 0\n",
        "        while p1 >= 0 or p2 >= 0:\n",
        "            x1 = int(num1[p1]) if p1 >= 0 else 0\n",
        "            x2 = int(num2[p2]) if p2 >= 0 else 0\n",
        "\n",
        "            res.append(str((x1+x2+carry)%10))\n",
        "            carry = (x1+x2+carry) // 10\n",
        "            p1 -= 1\n",
        "            p2 -= 1\n",
        "\n",
        "        if carry:\n",
        "            res.append(str(carry))\n",
        "\n",
        "        return \"\".join(res[::-1])"
      ],
      "metadata": {
        "id": "NhL3zSrsrVCK"
      },
      "execution_count": null,
      "outputs": []
    },
    {
      "cell_type": "markdown",
      "source": [
        "# Add Two Numbers - Important"
      ],
      "metadata": {
        "id": "fUH450Frre-8"
      }
    },
    {
      "cell_type": "code",
      "source": [
        "# https://leetcode.com/problems/add-two-numbers/\n",
        "\n",
        "# O(n) time O(n) space\n",
        "\n",
        "class Solution:\n",
        "    def addTwoNumbers(self, l1: Optional[ListNode], l2: Optional[ListNode]) -> Optional[ListNode]:\n",
        "        dummy = temp = ListNode()\n",
        "        carry = 0\n",
        "        while l1 or l2:\n",
        "            v1 = l1.val if l1 else 0\n",
        "            v2 = l2.val if l2 else 0\n",
        "\n",
        "            addition = v1 + v2 + carry\n",
        "            carry = addition // 10\n",
        "            val = addition % 10\n",
        "\n",
        "            temp.next = ListNode(val)\n",
        "            l1 = l1.next if l1 else None\n",
        "            l2 = l2.next if l2 else None\n",
        "            temp = temp.next\n",
        "\n",
        "        temp.next = ListNode(carry) if carry > 0 else None\n",
        "\n",
        "        return dummy.next\n",
        "\n"
      ],
      "metadata": {
        "id": "XpUQ8TDrrfP0"
      },
      "execution_count": null,
      "outputs": []
    },
    {
      "cell_type": "markdown",
      "source": [
        "# Add Two Numbers II - Important"
      ],
      "metadata": {
        "id": "jWPBqHjBnHLJ"
      }
    },
    {
      "cell_type": "code",
      "source": [
        "# https://leetcode.com/problems/add-two-numbers-ii/\n",
        "# O(m + n) time O(m + n) space\n",
        "\n",
        "# Definition for singly-linked list.\n",
        "# class ListNode:\n",
        "#     def __init__(self, val=0, next=None):\n",
        "#         self.val = val\n",
        "#         self.next = next\n",
        "\n",
        "class Solution:\n",
        "    def addTwoNumbers(self, l1: Optional[ListNode], l2: Optional[ListNode]) -> Optional[ListNode]:\n",
        "        stack1, stack2, result = [], [], []\n",
        "\n",
        "        while l1:\n",
        "            stack1.append(l1.val)\n",
        "            l1 = l1.next\n",
        "\n",
        "        while l2:\n",
        "            stack2.append(l2.val)\n",
        "            l2 = l2.next\n",
        "\n",
        "        head = temp = ListNode()\n",
        "        carry = 0\n",
        "        while stack1 or stack2:\n",
        "            v1 = stack1.pop() if stack1 else 0\n",
        "            v2 = stack2.pop() if stack2 else 0\n",
        "\n",
        "            ans = v1 + v2 + carry\n",
        "            val, carry = ans % 10, ans // 10\n",
        "            result.append(val)\n",
        "\n",
        "        if carry:\n",
        "            result.append(carry)\n",
        "\n",
        "        while result:\n",
        "            temp.next = ListNode(result.pop())\n",
        "            temp = temp.next\n",
        "\n",
        "        return head.next"
      ],
      "metadata": {
        "id": "2dVngCWrnIM8"
      },
      "execution_count": null,
      "outputs": []
    },
    {
      "cell_type": "markdown",
      "source": [
        "# Sort Characters By Frequency"
      ],
      "metadata": {
        "id": "sNdJqCDctAl8"
      }
    },
    {
      "cell_type": "code",
      "source": [
        "# https://leetcode.com/problems/sort-characters-by-frequency/\n",
        "# O(nlogn) time, O(n) space\n",
        "\n",
        "class Solution:\n",
        "    def frequencySort(self, s: str) -> str:\n",
        "        count = Counter(s)\n",
        "        array = sorted(count.keys(), key = lambda x: -count[x])\n",
        "\n",
        "        res = []\n",
        "        for char in array:\n",
        "            res.append(char * count[char])\n",
        "\n",
        "        return ''.join(res)\n",
        "\n",
        "# O(n) time, O(n) space\n",
        "def frequencySort(self, s: str) -> str:\n",
        "    if not s: return s\n",
        "\n",
        "    # Determine the frequency of each character.\n",
        "    counts = collections.Counter(s)\n",
        "    max_freq = max(counts.values())\n",
        "\n",
        "    # Bucket sort the characters by frequency.\n",
        "    buckets = [[] for _ in range(max_freq + 1)]\n",
        "    for c, i in counts.items():\n",
        "        buckets[i].append(c)\n",
        "\n",
        "    # Build up the string.\n",
        "    string_builder = []\n",
        "    for i in range(len(buckets) - 1, 0, -1):\n",
        "        for c in buckets[i]:\n",
        "            string_builder.append(c * i)\n",
        "\n",
        "    return \"\".join(string_builder)"
      ],
      "metadata": {
        "id": "sgd_fae_tBDM"
      },
      "execution_count": null,
      "outputs": []
    },
    {
      "cell_type": "markdown",
      "source": [
        "# Find Minimum in Rotated Sorted Array - Important"
      ],
      "metadata": {
        "id": "yeMJRaX6tcvI"
      }
    },
    {
      "cell_type": "code",
      "source": [
        "# https://leetcode.com/problems/find-minimum-in-rotated-sorted-array/\n",
        "\n",
        "class Solution:\n",
        "    def findMin(self, nums: List[int]) -> int:\n",
        "        left, right = 0, len(nums) - 1\n",
        "        while left < right:\n",
        "            mid = (left + right) // 2\n",
        "            if nums[mid] > nums[right]:\n",
        "                left = mid + 1\n",
        "            else:\n",
        "                right = mid\n",
        "\n",
        "        return nums[left]"
      ],
      "metadata": {
        "id": "wVRJl3PhtdHD"
      },
      "execution_count": null,
      "outputs": []
    },
    {
      "cell_type": "markdown",
      "source": [
        "# Vertical Order Traversal of a Binary Tree - Hard"
      ],
      "metadata": {
        "id": "HEiy_LYouCb7"
      }
    },
    {
      "cell_type": "code",
      "source": [
        "# https://leetcode.com/problems/vertical-order-traversal-of-a-binary-tree/\n",
        "# O(nlogn) time, O(n) space\n",
        "\n",
        "class Solution:\n",
        "    def verticalTraversal(self, root: Optional[TreeNode]) -> List[List[int]]:\n",
        "        if root is None:\n",
        "            return []\n",
        "\n",
        "        mapp = collections.defaultdict(list)\n",
        "\n",
        "        min_col, max_col = 0, 0\n",
        "\n",
        "        queue = deque([(root, 0, 0)])\n",
        "\n",
        "        while queue:\n",
        "            node, column, row = queue.popleft()\n",
        "\n",
        "            if node is not None:\n",
        "                mapp[column].append((row, node.val))\n",
        "\n",
        "                min_col = min(min_col, column)\n",
        "                max_col = max(max_col, column)\n",
        "\n",
        "                queue.append((node.left, column -1, row + 1))\n",
        "                queue.append((node.right, column + 1, row + 1))\n",
        "\n",
        "        res = []\n",
        "\n",
        "        for col in range(min_col, max_col + 1):\n",
        "            res.append([val for row, val in sorted(mapp[col])])\n",
        "\n",
        "        return res"
      ],
      "metadata": {
        "id": "i7FVwSZ0uCwj"
      },
      "execution_count": null,
      "outputs": []
    },
    {
      "cell_type": "markdown",
      "source": [
        "# All Paths From Source to Target - Important"
      ],
      "metadata": {
        "id": "E0Xxz8QzudOo"
      }
    },
    {
      "cell_type": "code",
      "source": [
        "# https://leetcode.com/problems/all-paths-from-source-to-target/\n",
        "# O(2 ^ n * n) time, O(2 ^ n * n) space\n",
        "\n",
        "class Solution:\n",
        "    def allPathsSourceTarget(self, graph: List[List[int]]) -> List[List[int]]:\n",
        "        mapp = collections.defaultdict(list)\n",
        "        for i, val in enumerate(graph):\n",
        "            mapp[i] = val\n",
        "\n",
        "        result = []\n",
        "        stack = [(0, [0])]\n",
        "\n",
        "        while stack:\n",
        "            node, path = stack.pop()\n",
        "            if node == len(graph) - 1:\n",
        "                result.append(path)\n",
        "\n",
        "            for nei in mapp[node]:\n",
        "                stack.append((nei, path + [nei]))\n",
        "\n",
        "        return result"
      ],
      "metadata": {
        "id": "lyLAwhjNudmk"
      },
      "execution_count": null,
      "outputs": []
    },
    {
      "cell_type": "markdown",
      "source": [
        "# Number of Dice Rolls With Target Sum"
      ],
      "metadata": {
        "id": "mS0TDCw9u8iy"
      }
    },
    {
      "cell_type": "code",
      "source": [
        "# https://leetcode.com/problems/number-of-dice-rolls-with-target-sum/\n",
        "\n",
        "class Solution:\n",
        "    def numRollsToTarget(self, n: int, k: int, target: int) -> int:\n",
        "        memo = {}\n",
        "        def dp(n, target):\n",
        "            if n == 0:\n",
        "                return 0 if target > 0 else 1\n",
        "            if (n, target) in memo:\n",
        "                return memo[(n, target)]\n",
        "            to_return = 0\n",
        "            for i in range(max(0, target-k), target):\n",
        "                to_return += dp(n-1, i)\n",
        "            memo[(n, target)] = to_return\n",
        "            return to_return\n",
        "        return dp(n, target) % (10**9 + 7)"
      ],
      "metadata": {
        "id": "gClW3APSu9UO"
      },
      "execution_count": null,
      "outputs": []
    },
    {
      "cell_type": "markdown",
      "source": [
        "# Range Sum Query 2D - Immutable"
      ],
      "metadata": {
        "id": "H8OHCriGvSMU"
      }
    },
    {
      "cell_type": "code",
      "source": [
        "# https://leetcode.com/problems/range-sum-query-2d-immutable/\n",
        "# https://leetcode.com/problems/range-sum-query-2d-mutable/\n",
        "\n",
        "class NumMatrix:\n",
        "    # O(mn) time and space\n",
        "    def __init__(self, matrix: List[List[int]]):\n",
        "        if len(matrix) == 0 or len(matrix[0]) == 0:\n",
        "            return 0\n",
        "\n",
        "        self.dp = [[0] * (len(matrix[0]) + 1) for i in range(len(matrix) + 1)]\n",
        "\n",
        "        for row in range(1, len(matrix) + 1):\n",
        "            for col in range(1, len(matrix[0]) + 1):\n",
        "                self.dp[row][col] = self.dp[row-1][col] + self.dp[row][col-1] + matrix[row-1][col-1] - self.dp[row-1][col-1]\n",
        "\n",
        "    # O(1) time\n",
        "    def sumRegion(self, row1: int, col1: int, row2: int, col2: int) -> int:\n",
        "        return self.dp[row2 + 1][col2 + 1] - self.dp[row1][col2+1] - self.dp[row2+1][col1] + self.dp[row1][col1]\n"
      ],
      "metadata": {
        "id": "fPfdtSybvSk_"
      },
      "execution_count": null,
      "outputs": []
    },
    {
      "cell_type": "markdown",
      "source": [
        "# Sum of Mutated Array Closest To Target"
      ],
      "metadata": {
        "id": "cTDtovfkvqDY"
      }
    },
    {
      "cell_type": "code",
      "source": [
        "# https://leetcode.com/problems/sum-of-mutated-array-closest-to-target/\n",
        "\n",
        "class Solution:\n",
        "    def findBestValue(self, arr: List[int], target: int) -> int:\n",
        "        arr.sort()\n",
        "        length = len(arr)\n",
        "\n",
        "        s = Counter(arr)\n",
        "\n",
        "        # for identical values in an array, the minimum number is 1\n",
        "        if s[arr[0]] == length:\n",
        "            return 1\n",
        "\n",
        "        for i in range(len(arr)):\n",
        "            temp = round(target / length)\n",
        "\n",
        "            if arr[i] >= temp:\n",
        "                return temp\n",
        "\n",
        "            target -= arr[i]\n",
        "            length -= 1\n",
        "\n",
        "        return arr[-1]"
      ],
      "metadata": {
        "id": "v6li7kOMvrJI"
      },
      "execution_count": null,
      "outputs": []
    },
    {
      "cell_type": "markdown",
      "source": [
        "# Remove Invalid Parentheses ** - Important"
      ],
      "metadata": {
        "id": "qR_2TfBqwqpC"
      }
    },
    {
      "cell_type": "code",
      "source": [
        "# https://leetcode.com/problems/remove-invalid-parentheses/"
      ],
      "metadata": {
        "id": "gQ7So6Jnwr2H"
      },
      "execution_count": null,
      "outputs": []
    },
    {
      "cell_type": "markdown",
      "source": [
        "# Allocate Mailboxes ** - Hard"
      ],
      "metadata": {
        "id": "1VmEZejaxKPQ"
      }
    },
    {
      "cell_type": "code",
      "source": [
        "# https://leetcode.com/problems/allocate-mailboxes/"
      ],
      "metadata": {
        "id": "TkR-jBJkxKod"
      },
      "execution_count": null,
      "outputs": []
    },
    {
      "cell_type": "markdown",
      "source": [
        "# Number of Islands - Important"
      ],
      "metadata": {
        "id": "3Oojn-5zxbhl"
      }
    },
    {
      "cell_type": "code",
      "source": [
        "# https://leetcode.com/problems/number-of-islands/\n",
        "# O(m x n) time, O(1) space\n",
        "\n",
        "class Solution:\n",
        "    def numIslands(self, grid: List[List[str]]) -> int:\n",
        "        count, rows, cols = 0, len(grid), len(grid[0])\n",
        "\n",
        "        for i in range(rows):\n",
        "            for j in range(cols):\n",
        "                if grid[i][j] == '1':\n",
        "                    self.dfs(i, j, grid)\n",
        "                    count += 1\n",
        "\n",
        "        return count\n",
        "\n",
        "\n",
        "\n",
        "    def dfs(self, i, j, grid):\n",
        "        if i < 0 or j < 0 or i >= len(grid) or j >= len(grid[0]) or grid[i][j] == '0':\n",
        "            return\n",
        "\n",
        "        grid[i][j] = '0'\n",
        "\n",
        "        self.dfs(i+1, j, grid)\n",
        "        self.dfs(i, j + 1, grid)\n",
        "        self.dfs(i-1, j, grid)\n",
        "        self.dfs(i, j-1, grid)\n",
        "\n",
        "\n",
        "# O(m x n) time, O(1) space or # O(m x n) space counting recursion depth\n",
        "class Solution:\n",
        "    def numIslands(self, grid: List[List[str]]) -> int:\n",
        "        max_row, max_col = len(grid), len(grid[0])\n",
        "        result = 0\n",
        "        neighbours = [(1, 0), (-1, 0), (0, 1), (0, -1)]\n",
        "\n",
        "        def dfs(grid, row, col):\n",
        "            if row < 0 or row >= max_row or col < 0 or col >= max_col or grid[row][col] == \"0\":\n",
        "                return\n",
        "\n",
        "            grid[row][col] = \"0\"\n",
        "\n",
        "            for r, c in neighbours:\n",
        "                dfs(grid, row + r, col + c)\n",
        "\n",
        "\n",
        "\n",
        "        for row in range(max_row):\n",
        "            for col in range(max_col):\n",
        "                if grid[row][col] == \"1\":\n",
        "                    dfs(grid, row, col)\n",
        "                    result += 1\n",
        "\n",
        "        return result"
      ],
      "metadata": {
        "id": "geJqjDv7xb6G"
      },
      "execution_count": null,
      "outputs": []
    },
    {
      "cell_type": "markdown",
      "source": [
        "# LFU Cache ** - Hard"
      ],
      "metadata": {
        "id": "dfuV_KIOxkR-"
      }
    },
    {
      "cell_type": "code",
      "source": [
        "# https://leetcode.com/problems/lfu-cache/"
      ],
      "metadata": {
        "id": "J3mlt_6jxkr7"
      },
      "execution_count": null,
      "outputs": []
    },
    {
      "cell_type": "markdown",
      "source": [
        "# Zuma Game ** - Hard"
      ],
      "metadata": {
        "id": "SgJnnOkgxvA_"
      }
    },
    {
      "cell_type": "code",
      "source": [
        "# https://leetcode.com/problems/zuma-game/"
      ],
      "metadata": {
        "id": "qIYbZNCGxvWx"
      },
      "execution_count": null,
      "outputs": []
    },
    {
      "cell_type": "markdown",
      "source": [
        "# Find the Winner of the Circular Game"
      ],
      "metadata": {
        "id": "cG6GDgur36EJ"
      }
    },
    {
      "cell_type": "code",
      "source": [
        "# https://leetcode.com/problems/find-the-winner-of-the-circular-game/\n",
        "# https://leetcode.com/problems/find-the-winner-of-the-circular-game/discuss/1152474/Josephus-Problem\n",
        "\n",
        "class Solution:\n",
        "    def findTheWinner(self, n: int, k: int) -> int:\n",
        "        players = list(range(1, n + 1))\n",
        "\n",
        "        while len(players) > 1:\n",
        "            idx = (k - 1) % len(players)\n",
        "            players = players[idx + 1:] + players[:idx]\n",
        "\n",
        "        return players[0]"
      ],
      "metadata": {
        "id": "4Z6S3-pP4Cbk"
      },
      "execution_count": null,
      "outputs": []
    },
    {
      "cell_type": "markdown",
      "source": [
        "# Merge Intervals - Important"
      ],
      "metadata": {
        "id": "dYdKNt7IfRtH"
      }
    },
    {
      "cell_type": "code",
      "source": [
        "# https://leetcode.com/problems/merge-intervals/\n",
        "# O(nlogn) time, O(n) space\n",
        "\n",
        "class Solution:\n",
        "    def merge(self, intervals: List[List[int]]) -> List[List[int]]:\n",
        "        intervals.sort(key= lambda x : x[0])\n",
        "        result = [intervals[0]]\n",
        "\n",
        "        for i in range(1, len(intervals)):\n",
        "            start, end = intervals[i][0], intervals[i][1]\n",
        "\n",
        "            if start > result[-1][1]:\n",
        "                result.append(intervals[i])\n",
        "\n",
        "            else:\n",
        "                if end > result[-1][1]:\n",
        "                    result[-1][1] = end\n",
        "\n",
        "        return result"
      ],
      "metadata": {
        "id": "rPsbvzUBfShu"
      },
      "execution_count": null,
      "outputs": []
    },
    {
      "cell_type": "markdown",
      "source": [
        "# collatz Conjecture - Important"
      ],
      "metadata": {
        "id": "NjQ1Vervfysv"
      }
    },
    {
      "cell_type": "code",
      "source": [
        "# https://practice.geeksforgeeks.org/problems/maximum-collatz-sequence-length/0\n",
        "\n",
        "# The Collatz Conjecture says if you take a positive integer N and repeatedly set either N=N/2 (if it's even) or N=3N+1 (if it's odd), N will eventually be 1.\n",
        "# 5 -> 16 -> 8 -> 4 -> 2 -> 1 (5 steps).\n",
        "\n",
        "# https://replit.com/@SPuja/collatzSeries#main.py\n",
        "\n",
        "# Given N, how many steps does it take to reach 1?\n",
        "\n",
        "\n",
        "def collatz_conjecture(n):\n",
        "    result = 1\n",
        "    while n != 1:\n",
        "        if n % 2 == 0:\n",
        "            n //= 2\n",
        "        else:\n",
        "            n = 3 * n + 1\n",
        "        result += 1\n",
        "\n",
        "    return result\n"
      ],
      "metadata": {
        "colab": {
          "base_uri": "https://localhost:8080/"
        },
        "id": "hyJ9B-8Ufzec",
        "outputId": "701b4099-8ef4-4346-ffd7-b752e6b639d9"
      },
      "execution_count": null,
      "outputs": [
        {
          "output_type": "stream",
          "name": "stdout",
          "text": [
            "None\n"
          ]
        }
      ]
    },
    {
      "cell_type": "markdown",
      "source": [
        "# Welsh Alphabets Sorting - Important"
      ],
      "metadata": {
        "id": "T5qQks-N5lMn"
      }
    },
    {
      "cell_type": "code",
      "source": [
        "alphabets = [\"a\", \"b\", \"c\", \"ch\", \"d\", \"dd\", \"e\", \"f\", \"ff\", \"g\", \"ng\", \"h\", \"i\", \"l\", \"ll\", \"m\", \"n\", \"o\", \"p\", \"ph\", \"r\", \"rh\", \"s\", \"t\", \"th\", \"u\", \"w\", \"y\"]\n",
        "\n",
        "mapp = {}\n",
        "for idx, val in enumerate(alphabets):\n",
        "    mapp[val] = idx\n",
        "\n",
        "def comparator(word):\n",
        "    result = []\n",
        "    i = 0\n",
        "    while i < len(word) - 1:\n",
        "        if word[i: i + 2] in mapp:\n",
        "            result.append(mapp[word[i: i + 2]])\n",
        "            i += 2\n",
        "        else:\n",
        "            result.append(mapp[word[i: i + 1]])\n",
        "            i += 1\n",
        "\n",
        "    if i < len(word):\n",
        "        result.append(mapp[word[len(word) - 1]])\n",
        "\n",
        "    return tuple(result)\n",
        "\n",
        "def sorting(words):\n",
        "    result = []\n",
        "    for word in words:\n",
        "        result.append((comparator(word), word))\n",
        "\n",
        "    result.sort(key = lambda x: x[0])\n",
        "\n",
        "    return [word for _, word in result]\n",
        "\n",
        "\n",
        "strings = ['abcd', 'abcdd', 'abcch']\n",
        "input = [\"ddr\",  \"nah\", \"dea\", \"dd\", \"ngah\"]\n",
        "sorting(input)\n"
      ],
      "metadata": {
        "colab": {
          "base_uri": "https://localhost:8080/"
        },
        "id": "6Pl77L97pEsi",
        "outputId": "b63624c5-1bc2-4436-ba75-b67f78bbb1f1"
      },
      "execution_count": null,
      "outputs": [
        {
          "output_type": "execute_result",
          "data": {
            "text/plain": [
              "['dea', 'dd', 'ddr', 'ngah', 'nah']"
            ]
          },
          "metadata": {},
          "execution_count": 10
        }
      ]
    },
    {
      "cell_type": "code",
      "source": [
        "# https://leetcode.com/discuss/interview-question/746169/Bloomberg-or-Phone-Screening-or-Sort-a-list-of-words-using-a-special-alphabet\n",
        "\n",
        "# Given a special alphabet (alien dictionary?) sort a list of words in ascedning order alphabetically:\n",
        "\n",
        "# alphabet: \"a\", \"b\", \"c\", \"ch\", \"d\", \"dd\", \"e\", \"f\", \"ff\", \"g\", \"ng\", \"h\", \"i\", \"l\", \"ll\", \"m\", \"n\", \"o\", \"p\", \"ph\", \"r\", \"rh\", \"s\", \"t\", \"th\", \"u\", \"w\", \"y\"\n",
        "\n",
        "# Input: \"dd r\",  \"n a h\", \"d e a\", \"dd\", \"ng a h\"\n",
        "\n",
        "# Output: \"dea\", \"dd\", \"ddr\", \"ngah\", \"nah\"\n",
        "\n",
        "alphabets = [\"a\", \"b\", \"c\", \"ch\", \"d\", \"dd\", \"e\", \"f\", \"ff\", \"g\", \"ng\", \"h\", \"i\", \"l\", \"ll\", \"m\", \"n\", \"o\", \"p\", \"ph\", \"r\", \"rh\", \"s\", \"t\", \"th\", \"u\", \"w\", \"y\"]\n",
        "input = [\"dd r\",  \"n a h\", \"d e a\", \"dd\", \"ng a h\"]\n",
        "\n",
        "def welsh(alphabets, input):\n",
        "    sort_dict = {}\n",
        "    for idx, val in enumerate(alphabets):\n",
        "        sort_dict[val] = idx\n",
        "\n",
        "\n",
        "    def sort_function(word):\n",
        "        result = []\n",
        "        temp = word.split(' ')\n",
        "        for _, val in enumerate(temp):\n",
        "            result.append(sort_dict[val])\n",
        "        return tuple(result)\n",
        "\n",
        "    answer = []\n",
        "    for word in input:\n",
        "        tuple_ = sort_function(word)\n",
        "        answer.append((tuple_, word))\n",
        "\n",
        "    answer.sort(key=lambda x:x[0])\n",
        "\n",
        "    return [word for _, word in answer]\n",
        "\n",
        "\n",
        "welsh(alphabets, input)"
      ],
      "metadata": {
        "colab": {
          "base_uri": "https://localhost:8080/"
        },
        "id": "2P39b967Fw1C",
        "outputId": "e9b50921-ab02-4490-c64b-dfba02999e39"
      },
      "execution_count": null,
      "outputs": [
        {
          "output_type": "execute_result",
          "data": {
            "text/plain": [
              "['d e a', 'dd', 'dd r', 'ng a h', 'n a h']"
            ]
          },
          "metadata": {},
          "execution_count": 11
        }
      ]
    },
    {
      "cell_type": "markdown",
      "source": [
        "# Meeting Rooms II"
      ],
      "metadata": {
        "id": "NCMQDKai5puB"
      }
    },
    {
      "cell_type": "code",
      "source": [
        "# https://leetcode.com/problems/meeting-rooms-ii/\n",
        "\n",
        "class Solution:\n",
        "    def minMeetingRooms(self, intervals: List[List[int]]) -> int:\n",
        "        if len(intervals) < 0:\n",
        "            return 0\n",
        "\n",
        "        intervals.sort(key = lambda x: x[0])\n",
        "        rooms = []\n",
        "        heapq.heappush(rooms, intervals[0][1])\n",
        "\n",
        "        for i in range(1, len(intervals)):\n",
        "            if rooms[0] <= intervals[i][0]:\n",
        "                heapq.heappop(rooms)\n",
        "\n",
        "            heapq.heappush(rooms, intervals[i][1])\n",
        "\n",
        "        return len(rooms)"
      ],
      "metadata": {
        "id": "6IOQFxcE5vp9"
      },
      "execution_count": null,
      "outputs": []
    },
    {
      "cell_type": "markdown",
      "source": [
        "# Kill Process - Important"
      ],
      "metadata": {
        "id": "fKIWLJb75-Nu"
      }
    },
    {
      "cell_type": "code",
      "source": [
        "# https://leetcode.com/problems/kill-process/\n",
        "\n",
        "class Solution:\n",
        "    def killProcess(self, pid: List[int], ppid: List[int], kill: int) -> List[int]:\n",
        "        tree = collections.defaultdict(list)\n",
        "\n",
        "        for idx, parent in enumerate(ppid):\n",
        "            tree[parent].append(pid[idx])\n",
        "\n",
        "        queue = deque([kill])\n",
        "        result = []\n",
        "\n",
        "        while queue:\n",
        "            parent = queue.popleft()\n",
        "            result.append(parent)\n",
        "\n",
        "            if parent in tree:\n",
        "                for child in tree[parent]:\n",
        "                    queue.append(child)\n",
        "\n",
        "        return result"
      ],
      "metadata": {
        "id": "Bo7BsaLw5_WG"
      },
      "execution_count": null,
      "outputs": []
    },
    {
      "cell_type": "markdown",
      "source": [
        "# Largest Rectangle in Histogram - Hard"
      ],
      "metadata": {
        "id": "JXAVylM-6GPV"
      }
    },
    {
      "cell_type": "code",
      "source": [
        "# https://leetcode.com/problems/largest-rectangle-in-histogram/\n",
        "# O(n^3) time, O(1) space\n",
        "\n",
        "class Solution:\n",
        "    def largestRectangleArea(self, heights: List[int]) -> int:\n",
        "        max_area = 0\n",
        "        for i in range(len(heights)):\n",
        "            for j in range(i, len(heights)):\n",
        "                min_height = float('inf')\n",
        "                for k in range(i, j + 1):\n",
        "                    min_height = min(heights[k], min_height)\n",
        "                max_area = max(max_area, (j - i + 1) * min_height)\n",
        "\n",
        "        return max_area\n",
        "\n",
        "# O(n^2) time, O(1) space\n",
        "class Solution:\n",
        "    def largestRectangleArea(self, heights: List[int]) -> int:\n",
        "        max_area = 0\n",
        "        for i in range(len(heights)):\n",
        "            min_height = float('inf')\n",
        "            for j in range(i, len(heights)):\n",
        "                min_height = min(heights[j], min_height)\n",
        "                max_area = max(max_area, (j - i + 1) * min_height)\n",
        "        return max_area\n",
        "\n",
        "\n",
        "# O(n) time, O(n) space\n",
        "class Solution:\n",
        "    def largestRectangleArea(self, heights: List[int]) -> int:\n",
        "        stack = [-1]\n",
        "        max_area = 0\n",
        "\n",
        "        for i in range(len(heights)):\n",
        "            while stack[-1] != -1 and heights[i] < heights[stack[-1]]:\n",
        "                current_height = heights[stack.pop()]\n",
        "                current_weight = i - stack[-1] - 1\n",
        "                max_area = max(max_area, current_height * current_weight)\n",
        "            stack.append(i)\n",
        "\n",
        "        while stack[-1] != -1:\n",
        "                current_height = heights[stack.pop()]\n",
        "                current_weight = len(heights) - stack[-1] - 1\n",
        "                max_area = max(max_area, current_height * current_weight)\n",
        "\n",
        "        return max_area"
      ],
      "metadata": {
        "id": "7t8cbRK86HI2"
      },
      "execution_count": null,
      "outputs": []
    },
    {
      "cell_type": "markdown",
      "source": [
        "# Candy Crush 2D"
      ],
      "metadata": {
        "id": "1CHfAU8C6Whw"
      }
    },
    {
      "cell_type": "code",
      "source": [
        "# https://leetcode.com/problems/candy-crush/\n",
        "# O(mn) time, O(1) space\n",
        "\n",
        "class Solution:\n",
        "    def candyCrush(self, board: List[List[int]]) -> List[List[int]]:\n",
        "        row, col = len(board), len(board[0])\n",
        "\n",
        "        def crush():\n",
        "            crushed = False\n",
        "            for i in range(row):\n",
        "                for j in range(col):\n",
        "                    x = board[i][j]\n",
        "                    if x == 0:\n",
        "                        continue\n",
        "\n",
        "                    if i < row - 2 and abs(x) == abs(board[i+1][j]) == abs(board[i+2][j]):\n",
        "                        board[i][j] = board[i+1][j] = board[i+2][j] = -abs(x)\n",
        "\n",
        "                    if j < col - 2 and abs(x) == abs(board[i][j + 1]) == abs(board[i][j + 2]):\n",
        "                        board[i][j] = board[i][j + 1] = board[i][j + 2] = -abs(x)\n",
        "\n",
        "                    if board[i][j] < 0:\n",
        "                        board[i][j] = 0\n",
        "                        crushed = True\n",
        "            return crushed\n",
        "\n",
        "        def drop():\n",
        "            for j in range(col):\n",
        "                read = write = row - 1\n",
        "\n",
        "                while read >= 0:\n",
        "                    if board[read][j] != 0:\n",
        "                        board[write][j] = board[read][j]\n",
        "                        write -= 1\n",
        "                    read -= 1\n",
        "\n",
        "                while write >= 0:\n",
        "                    board[write][j] = 0\n",
        "                    write -= 1\n",
        "\n",
        "        while crush():\n",
        "            drop()\n",
        "\n",
        "        return board\n"
      ],
      "metadata": {
        "id": "1zTd4y426XHx"
      },
      "execution_count": null,
      "outputs": []
    },
    {
      "cell_type": "markdown",
      "source": [
        "# Candy Crush 1D - Important"
      ],
      "metadata": {
        "id": "ArLpFBf89hkI"
      }
    },
    {
      "cell_type": "code",
      "source": [
        "# https://leetcode.com/discuss/interview-question/380650/Bloomberg-or-Phone-Screen-or-Candy-Crush-1D\n",
        "\n",
        "def candy_crush(string):\n",
        "    if not string:\n",
        "        return \"\"\n",
        "\n",
        "    stack = []\n",
        "    for idx, char in enumerate(string):\n",
        "        if not stack or char != stack[-1][0]:\n",
        "            stack.append([char, 1])\n",
        "\n",
        "        elif stack[-1][0] == char:\n",
        "            stack[-1][1] += 1\n",
        "            # two conditions\n",
        "            # we are at the end of the string and the count >= 3\n",
        "            # we are not at the end, and the next char is not the current char, so we can check count >= 3\n",
        "            #  we use (idx < len(string) - 1 and string[idx + 1] != char) to greedily select more similar char\n",
        "            if (idx == len(string) - 1 or (idx < len(string) - 1 and string[idx + 1] != char)) and stack[-1][1] >= 3:\n",
        "                stack.pop()\n",
        "\n",
        "    result = []\n",
        "    for char, count in stack:\n",
        "        result.append(char * count)\n",
        "\n",
        "    return ''.join(result)\n",
        "\n",
        "\n",
        "test = \"aaabbbacddd\"\n",
        "test2 = \"aabbbacd\"\n",
        "test3 = \"\"\n",
        "print(candy_crush(test))\n",
        "print(candy_crush(test2))\n",
        "print(candy_crush(test3))\n"
      ],
      "metadata": {
        "colab": {
          "base_uri": "https://localhost:8080/"
        },
        "id": "S2Jcy4Ni9inw",
        "outputId": "83974c71-a8dc-4ba1-ab25-14971f979ab5"
      },
      "execution_count": null,
      "outputs": [
        {
          "output_type": "stream",
          "name": "stdout",
          "text": [
            "ac\n",
            "cd\n",
            "\n"
          ]
        }
      ]
    },
    {
      "cell_type": "markdown",
      "source": [
        "# Currency Exchange"
      ],
      "metadata": {
        "id": "rV4x_ufU6kI3"
      }
    },
    {
      "cell_type": "code",
      "source": [
        "# https://leetcode.com/problems/evaluate-division/\n",
        "# https://leetcode.com/discuss/interview-question/483660/google-phone-currency-conversion\n",
        "\n",
        "def currency_exchange(string):\n",
        "    banks = {}\n",
        "    averages = {}\n",
        "    currency = {}\n",
        "\n",
        "    for exchange in string:\n",
        "        bank, curr_pair, rate = exchange.split('|')\n",
        "\n",
        "        if bank not in banks:\n",
        "            banks[bank] = {}\n",
        "\n",
        "        if curr_pair in banks[bank]:\n",
        "            former_rate = banks[bank][curr_pair]\n",
        "            currency[curr_pair][0] -= former_rate\n",
        "            currency[curr_pair][1] -= 1\n",
        "\n",
        "        banks[bank][curr_pair] = float(rate)\n",
        "\n",
        "        if curr_pair not in currency:\n",
        "            currency[curr_pair] = [0, 0]\n",
        "\n",
        "        currency[curr_pair][0] += float(rate)\n",
        "        currency[curr_pair][1] += 1\n",
        "\n",
        "\n",
        "        averages[curr_pair] = round(currency[curr_pair][0] / currency[curr_pair][1], 2)\n",
        "\n",
        "    return averages\n",
        "\n",
        "\n",
        "strings = [\"1|eurusd|1.3\", \"2|eurgbp|1.1\", \"3|usdgbp|0.8\", \"2|eurusd|1.2\", \"3|eurusd|1.5\", \"2|eurgbp|1.3\", \"1|eurusd|1.5\"]\n",
        "\n",
        "currency_exchange(strings)"
      ],
      "metadata": {
        "id": "XUSuK11I6lA0",
        "colab": {
          "base_uri": "https://localhost:8080/"
        },
        "outputId": "77457a60-fb42-401b-8f56-993f88ec32a4"
      },
      "execution_count": null,
      "outputs": [
        {
          "output_type": "execute_result",
          "data": {
            "text/plain": [
              "{'eurgbp': 1.3, 'eurusd': 1.4, 'usdgbp': 0.8}"
            ]
          },
          "metadata": {},
          "execution_count": 12
        }
      ]
    },
    {
      "cell_type": "markdown",
      "source": [
        "# Design A Leaderboard - Important"
      ],
      "metadata": {
        "id": "u0VGbhCY7lJK"
      }
    },
    {
      "cell_type": "code",
      "source": [
        "# https://leetcode.com/problems/design-a-leaderboard/\n",
        "\n",
        "import collections\n",
        "import heapq\n",
        "class Leaderboard:\n",
        "    #playerId: score\n",
        "    def __init__(self):\n",
        "        self.scores = collections.defaultdict(int)\n",
        "\n",
        "    def addScore(self, playerId: int, score: int) -> None:\n",
        "        self.scores[playerId] += score\n",
        "\n",
        "    def top(self, K: int) -> int:\n",
        "        return  sum(heapq.nlargest(K, self.scores.values())) #nlogk\n",
        "\n",
        "    def reset(self, playerId: int) -> None:\n",
        "        self.scores[playerId] = 0\n",
        "\n",
        "\n",
        "\n",
        "class Leaderboard:\n",
        "\n",
        "    def __init__(self):\n",
        "        self.score = collections.defaultdict(int)\n",
        "\n",
        "    def addScore(self, playerId: int, score: int) -> None:\n",
        "        self.score[playerId] = self.score.get(playerId, 0) + score\n",
        "\n",
        "    def top(self, K: int) -> int: #nlogk\n",
        "        heap = []\n",
        "        for x in self.score.values():\n",
        "            heapq.heappush(heap, x)\n",
        "            if len(heap) > K:\n",
        "                heapq.heappop(heap)\n",
        "\n",
        "        return sum(heap)\n",
        "\n",
        "\n",
        "    def reset(self, playerId: int) -> None:\n",
        "        del self.score[playerId]"
      ],
      "metadata": {
        "id": "ji4emqio7lr-"
      },
      "execution_count": null,
      "outputs": []
    },
    {
      "cell_type": "markdown",
      "source": [
        "# Invalid Transactions - Important"
      ],
      "metadata": {
        "id": "zHtb3dmC76Ye"
      }
    },
    {
      "cell_type": "code",
      "source": [
        "# https://leetcode.com/problems/invalid-transactions/\n",
        "# O(n) time, O(n) space\n",
        "\n",
        "class Solution:\n",
        "    def invalidTransactions(self, transactions: List[str]) -> List[str]:\n",
        "        store = collections.defaultdict(list)\n",
        "        result = set() # we use a set to avoid duplicate indexes\n",
        "\n",
        "        for idx, elem in enumerate(transactions):\n",
        "            name, time, amount, city = elem.split(',')\n",
        "            store[name].append(idx)\n",
        "\n",
        "\n",
        "        for idx, elem in enumerate(transactions):\n",
        "            name, time, amount, city = elem.split(',')\n",
        "            if int(amount) > 1000:\n",
        "                result.add(idx)\n",
        "                continue\n",
        "\n",
        "            if name in store:\n",
        "                for tran in store[name]:\n",
        "                    _, tran_time, _, tran_city = transactions[tran].split(',')\n",
        "\n",
        "                    if abs(int(time) - int(tran_time)) <= 60 and city != tran_city:\n",
        "                        result.add(idx)\n",
        "                        result.add(tran)\n",
        "\n",
        "        return [transactions[i] for i in result]"
      ],
      "metadata": {
        "id": "1lJZxu4h765P"
      },
      "execution_count": null,
      "outputs": []
    },
    {
      "cell_type": "markdown",
      "source": [
        "# Elimination Game - Important"
      ],
      "metadata": {
        "id": "lzCxO9EhCQFq"
      }
    },
    {
      "cell_type": "code",
      "source": [
        "# https://leetcode.com/problems/elimination-game/\n",
        "\n",
        "# O(logn) time, O(1) space\n",
        "\n",
        "class Solution:\n",
        "    def lastRemaining(self, n: int) -> int:\n",
        "        going_left = True\n",
        "        remain, head, step = n, 1, 1\n",
        "\n",
        "        # remain is the number of numbers remain, it's going to reduce by 2\n",
        "        # head is the first number remaining after a pass of elimination\n",
        "        # step is the number of steps (left and right passes)\n",
        "\n",
        "        while remain > 1:\n",
        "            print('before', remain, head, step)\n",
        "            if going_left or remain % 2 == 1:\n",
        "                head += step\n",
        "\n",
        "            remain //= 2\n",
        "            step *= 2\n",
        "            going_left = not going_left\n",
        "            print('after', remain, head, step)\n",
        "\n",
        "        return head"
      ],
      "metadata": {
        "id": "2A-j4P-6CQ2J"
      },
      "execution_count": null,
      "outputs": []
    },
    {
      "cell_type": "markdown",
      "source": [
        "# Sparse Matrix Multiplication - Important"
      ],
      "metadata": {
        "id": "hx-YSlWAsAw5"
      }
    },
    {
      "cell_type": "code",
      "source": [
        "# https://leetcode.com/problems/sparse-matrix-multiplication/\n",
        "\n",
        "# O(m * k * n) time, O(m * k + n * k) space\n",
        "\n",
        "class Solution:\n",
        "    def multiply(self, mat1: List[List[int]], mat2: List[List[int]]) -> List[List[int]]:\n",
        "\n",
        "        \"\"\"\n",
        "        compress_matrix function\n",
        "\n",
        "        7 0 0      =>   list of rows as idx with [value, column]\n",
        "        0 0 0      =>   [[(7, 0)], [], [(1, 2)]]\n",
        "        0 0 1\n",
        "\n",
        "        \"\"\"\n",
        "\n",
        "        def compress_matrix(matrix):\n",
        "            compressed_matrix = [[] for _ in range(len(matrix))]\n",
        "\n",
        "            for row in range(len(matrix)):\n",
        "                for col in range(len(matrix[0])):\n",
        "                    if matrix[row][col] != 0:\n",
        "                        compressed_matrix[row].append([matrix[row][col], col])\n",
        "\n",
        "            return compressed_matrix\n",
        "\n",
        "\n",
        "        A = compress_matrix(mat1)\n",
        "        B = compress_matrix(mat2)\n",
        "\n",
        "\n",
        "        m, k, n = len(mat1), len(mat1[0]), len(mat2[0])\n",
        "\n",
        "        result = [[ 0 for _ in range(n)] for _ in range(m)]\n",
        "\n",
        "        for mat1_row_idx in range(m):\n",
        "            for mat1_col_value, mat1_col_idx in A[mat1_row_idx]:\n",
        "                for mat2_col_value, mat2_col_idx in B[mat1_col_idx]:\n",
        "                    result[mat1_row_idx][mat2_col_idx] += mat1_col_value * mat2_col_value\n",
        "\n",
        "        return result\n"
      ],
      "metadata": {
        "id": "16sfkfTzsCFG"
      },
      "execution_count": null,
      "outputs": []
    },
    {
      "cell_type": "markdown",
      "source": [
        "# Maximum Score After Splitting a String - Important"
      ],
      "metadata": {
        "id": "NPuTNsX89zgW"
      }
    },
    {
      "cell_type": "code",
      "source": [
        "# https://leetcode.com/problems/maximum-score-after-splitting-a-string/description/\n",
        "\n",
        "# O(n^2) time, O(1) space\n",
        "\n",
        "class Solution:\n",
        "    def maxScore(self, s: str) -> int:\n",
        "        max_score = 0\n",
        "\n",
        "        s = list(s)\n",
        "\n",
        "        def count(arr, value):\n",
        "            score = 0\n",
        "            for val in arr:\n",
        "                if int(val) == value:\n",
        "                    score += 1\n",
        "            return score\n",
        "\n",
        "        for i in range(1, len(s)):\n",
        "            left, right = count(s[:i], 0), count(s[i:], 1)\n",
        "            max_score = max(max_score, left + right)\n",
        "\n",
        "        return max_score\n",
        "\n",
        "\n",
        "# O(n) time, O(1) space\n",
        "class Solution:\n",
        "    def maxScore(self, s: str) -> int:\n",
        "        \"\"\"\n",
        "        score = zero_left + ones_right\n",
        "\n",
        "        ones_right = ones_total - ones_left\n",
        "\n",
        "        score = zero_left + ones_total - ones_left\n",
        "\n",
        "        ones_total is a constant and doesn't change\n",
        "\n",
        "        algo\n",
        "        when we find 1, increment ones\n",
        "        when we find 0, increment zeroes\n",
        "\n",
        "        we calculate best at that instance, zeroes - ones\n",
        "\n",
        "        return best + ones\n",
        "        \"\"\"\n",
        "\n",
        "        zeroes = 0\n",
        "        ones = 0\n",
        "        best = float('-inf')\n",
        "\n",
        "        for i in range(len(s) - 1):\n",
        "            if s[i] == '0':\n",
        "                zeroes += 1\n",
        "\n",
        "            if s[i] == '1':\n",
        "                ones += 1\n",
        "\n",
        "            best = max(zeroes - ones, best)\n",
        "\n",
        "        if s[-1] == '1':\n",
        "            ones += 1\n",
        "\n",
        "        return best + ones"
      ],
      "metadata": {
        "id": "5E_7L2d79z22"
      },
      "execution_count": null,
      "outputs": []
    },
    {
      "cell_type": "markdown",
      "source": [
        "# Find Bottom Left Tree Value - Important"
      ],
      "metadata": {
        "id": "fLAtZGBWN92k"
      }
    },
    {
      "cell_type": "code",
      "source": [
        "# https://leetcode.com/problems/find-bottom-left-tree-value/\n",
        "# O(n) time, O(n) space\n",
        "\n",
        "class Solution:\n",
        "    def findBottomLeftValue(self, root: Optional[TreeNode]) -> int:\n",
        "        if not root:\n",
        "            return 0\n",
        "\n",
        "        queue = deque([(root, 1)])\n",
        "        bottom_left_node = root\n",
        "        max_level = 1\n",
        "\n",
        "        while queue:\n",
        "            node, level = queue.popleft()\n",
        "            if level > max_level:\n",
        "                bottom_left_node = node\n",
        "                max_level = level\n",
        "\n",
        "            if node.left:\n",
        "                queue.append((node.left,level + 1))\n",
        "            if node.right:\n",
        "                queue.append((node.right, level + 1))\n",
        "\n",
        "        return bottom_left_node.val\n"
      ],
      "metadata": {
        "id": "GwCsDLPTN-br"
      },
      "execution_count": null,
      "outputs": []
    },
    {
      "cell_type": "markdown",
      "source": [
        "# Reveal Cards In Increasing Order - Important"
      ],
      "metadata": {
        "id": "ooeq_uLqRVnG"
      }
    },
    {
      "cell_type": "code",
      "source": [
        "# https://leetcode.com/problems/reveal-cards-in-increasing-order/description/\n",
        "\n",
        "# O(nlogn) time, O(n) space\n",
        "\n",
        "class Solution:\n",
        "    def deckRevealedIncreasing(self, deck: List[int]) -> List[int]:\n",
        "        \"\"\"\n",
        "        deck = [17,13,11,2,3,5,7]\n",
        "\n",
        "        deck = [2,3,5,7,11,13,17]\n",
        "\n",
        "        queue = [0,1,2,3,4,5,6]\n",
        "\n",
        "        trick is to use a queue with index of the sort\n",
        "        pop from queue\n",
        "        pop the idx from queue and append to queue\n",
        "        \"\"\"\n",
        "\n",
        "        deck.sort()\n",
        "        result = [0] * len(deck)\n",
        "\n",
        "        queue = deque((range(len(deck))))\n",
        "\n",
        "        for n in deck:\n",
        "            idx = queue.popleft()\n",
        "            result[idx] = n\n",
        "\n",
        "            if queue:\n",
        "                queue.append(queue.popleft())\n",
        "\n",
        "        return result\n"
      ],
      "metadata": {
        "id": "7aZ3mv7CRW8r"
      },
      "execution_count": null,
      "outputs": []
    },
    {
      "cell_type": "markdown",
      "source": [
        "# Merge k Sorted Lists - Important"
      ],
      "metadata": {
        "id": "qflOat0K-EaW"
      }
    },
    {
      "cell_type": "code",
      "source": [
        "# Merge k Sorted Lists [https://leetcode.com/problems/merge-k-sorted-lists/]\n",
        "# O(nlogk) time, O(1) space\n",
        "class Solution:\n",
        "    def mergeKLists(self, lists: List[Optional[ListNode]]) -> Optional[ListNode]:\n",
        "        if len(lists) == 0:\n",
        "            return None\n",
        "\n",
        "        if len(lists) == 1:\n",
        "            return lists[0]\n",
        "\n",
        "        mid = len(lists) // 2\n",
        "\n",
        "        left, right = self.mergeKLists(lists[:mid]), self.mergeKLists(lists[mid:])\n",
        "\n",
        "        return self.merge(left, right)\n",
        "\n",
        "    def merge(self, l1, l2):\n",
        "        head = temp = ListNode()\n",
        "\n",
        "        while l1 and l2:\n",
        "            if l1.val < l2.val:\n",
        "                temp.next = l1\n",
        "                l1 = l1.next\n",
        "            else:\n",
        "                temp.next = l2\n",
        "                l2 = l2.next\n",
        "\n",
        "            temp = temp.next\n",
        "        temp.next = l1 or l2\n",
        "\n",
        "        return head.next"
      ],
      "metadata": {
        "id": "BDBhs9aX-E64"
      },
      "execution_count": null,
      "outputs": []
    },
    {
      "cell_type": "markdown",
      "source": [
        "# Binary Tree Zigzag Level Order Traversal - Important"
      ],
      "metadata": {
        "id": "tD8IsqOAU0ye"
      }
    },
    {
      "cell_type": "code",
      "source": [
        "# https://leetcode.com/problems/binary-tree-zigzag-level-order-traversal/\n",
        "\n",
        "# O(n) time, O(n) space\n",
        "\n",
        "class Solution:\n",
        "    def zigzagLevelOrder(self, root: Optional[TreeNode]) -> List[List[int]]:\n",
        "        if not root:\n",
        "            return []\n",
        "\n",
        "        queue = deque([(root, 0)])\n",
        "        result = collections.defaultdict(list)\n",
        "\n",
        "        while queue:\n",
        "            node, level = queue.popleft()\n",
        "            result[level].append(node.val)\n",
        "            if node.left:\n",
        "                queue.append((node.left, level + 1))\n",
        "            if node.right:\n",
        "                queue.append((node.right, level + 1))\n",
        "\n",
        "        output = [0] * len(result)\n",
        "        for key, value in result.items():\n",
        "            if key % 2 != 0:\n",
        "                output[key] = value[::-1]\n",
        "            else:\n",
        "                output[key] = value\n",
        "        return output\n",
        "\n",
        "\n"
      ],
      "metadata": {
        "id": "OlLqJrsJU1Tr"
      },
      "execution_count": null,
      "outputs": []
    },
    {
      "cell_type": "markdown",
      "source": [
        "# Remove Array Elements In Given Index Ranges - Important"
      ],
      "metadata": {
        "id": "STEfVu6pctjN"
      }
    },
    {
      "cell_type": "code",
      "source": [
        "# https://leetcode.com/discuss/interview-question/407179/Bloomberg-or-Remove-array-elements-in-given-index-ranges\n",
        "\n",
        "# Input: array = [-8, 3, -5, 1, 51, 56, 0, -5, 29, 43, 78, 75, 32, 76, 73, 76], ranges = [[5, 8], [10, 13], [3, 6], [20, 25]]\n",
        "# Output: [-8, 3, -5, 29, 43, 76, 73, 76]\n",
        "\n",
        "# O(n) time, O(n) space\n",
        "def removeArrayElementsInGivenIndexRanges(array, ranges):\n",
        "\n",
        "    # (m * k) time, in worse case, m * k = n if all idx of the array is in the range\n",
        "    def merge_range(ranges):\n",
        "        output = set()\n",
        "        for start, end in ranges:\n",
        "            temp = start\n",
        "            while temp < end:\n",
        "                output.add(temp)\n",
        "                temp += 1\n",
        "        return output\n",
        "\n",
        "    idx = merge_range(ranges)\n",
        "    result = []\n",
        "\n",
        "    for i in range(len(array)):\n",
        "        if i in idx:\n",
        "            continue\n",
        "        result.append(array[i])\n",
        "\n",
        "\n",
        "    return result\n",
        "\n",
        "\n",
        "\n",
        "\n",
        "array = [-8, 3, -5, 1, 51, 56, 0, -5, 29, 43, 78, 75, 32, 76, 73, 76]\n",
        "ranges = [[5, 8], [10, 13], [3, 6], [20, 25]]\n",
        "\n",
        "\n",
        "removeArrayElementsInGivenIndexRanges(array, ranges)\n"
      ],
      "metadata": {
        "colab": {
          "base_uri": "https://localhost:8080/"
        },
        "id": "oOBx9F_Kct4C",
        "outputId": "04ea9863-b43c-44cd-fcc2-280006236358"
      },
      "execution_count": null,
      "outputs": [
        {
          "output_type": "execute_result",
          "data": {
            "text/plain": [
              "[-8, 3, -5, 29, 43, 76, 73, 76]"
            ]
          },
          "metadata": {},
          "execution_count": 13
        }
      ]
    },
    {
      "cell_type": "markdown",
      "source": [
        "# Two Sum - Important"
      ],
      "metadata": {
        "id": "whXszKtqzWRO"
      }
    },
    {
      "cell_type": "code",
      "source": [
        "# https://leetcode.com/problems/two-sum/description/\n",
        "\n",
        "# O(n) time, O(n) space\n",
        "\n",
        "class Solution:\n",
        "    def twoSum(self, nums: List[int], target: int) -> List[int]:\n",
        "        mapp = {}\n",
        "\n",
        "        for i, val in enumerate(nums):\n",
        "            diff = target - val\n",
        "            if diff in mapp:\n",
        "                return [i, mapp[diff]]\n",
        "            mapp[val] = i\n"
      ],
      "metadata": {
        "id": "-vgmP48FzWor"
      },
      "execution_count": null,
      "outputs": []
    },
    {
      "cell_type": "markdown",
      "source": [
        "# Three Sum - Important"
      ],
      "metadata": {
        "id": "-GBlHQm4DL6a"
      }
    },
    {
      "cell_type": "code",
      "source": [
        "# https://leetcode.com/problems/3sum/\n",
        "\n",
        "# O(nlogn) + O(n^2) => O(n^2) time, O(1) space excluding the result and sort algo space\n",
        "\n",
        "class Solution:\n",
        "    def threeSum(self, nums: List[int]) -> List[List[int]]:\n",
        "        nums.sort()\n",
        "        triplet = set()\n",
        "        for i in range(len(nums) - 1):\n",
        "            left = i + 1\n",
        "            right = len(nums) - 1\n",
        "\n",
        "            while left < right:\n",
        "                total = nums[i] + nums[left] + nums[right]\n",
        "                if total == 0:\n",
        "                    triplet.add((nums[i], nums[left], nums[right]))\n",
        "                    left += 1\n",
        "                    right -= 1\n",
        "\n",
        "                if total < 0:\n",
        "                    left += 1\n",
        "                elif total > 0:\n",
        "                    right -= 1\n",
        "\n",
        "        return triplet\n",
        "\n",
        "\n",
        "class Solution:\n",
        "    def threeSum(self, nums: List[int]) -> List[List[int]]:\n",
        "        nums.sort()\n",
        "        triplets = []\n",
        "        for i, val in enumerate(nums):\n",
        "            if i > 0 and nums[i-1] == nums[i]:\n",
        "                continue\n",
        "\n",
        "            l, r = i + 1, len(nums) - 1\n",
        "\n",
        "            while l < r:\n",
        "                total = val + nums[l] + nums[r]\n",
        "                if total < 0:\n",
        "                    l += 1\n",
        "                elif total > 0:\n",
        "                    r -= 1\n",
        "                else:\n",
        "                    triplets.append([val, nums[l], nums[r]])\n",
        "                    l += 1\n",
        "                    while nums[l - 1] == nums[l] and l < r:\n",
        "                        l += 1\n",
        "\n",
        "        return triplets"
      ],
      "metadata": {
        "id": "aesW5T2PDMVA"
      },
      "execution_count": null,
      "outputs": []
    },
    {
      "cell_type": "markdown",
      "source": [
        "# Kth Smallest Element in a BST - Important"
      ],
      "metadata": {
        "id": "aDTiWG277ZzG"
      }
    },
    {
      "cell_type": "code",
      "source": [
        "# https://leetcode.com/problems/kth-smallest-element-in-a-bst/\n",
        "\n",
        "# O(n) time, O(n) space\n",
        "# recursive\n",
        "class Solution:\n",
        "    def kthSmallest(self, root: Optional[TreeNode], k: int) -> int:\n",
        "        res = []\n",
        "\n",
        "        def inorder(root):\n",
        "            if root.left:\n",
        "                inorder(root.left)\n",
        "            res.append(root.val)\n",
        "            if root.right:\n",
        "                inorder(root.right)\n",
        "\n",
        "        inorder(root)\n",
        "        return res[k - 1]\n",
        "\n",
        "\n",
        "# O(log n + k) for balanced tree, O(n + k) worse case time, O(h) => O(log n), O(n) worse case space\n",
        "# iterative\n",
        "class Solution:\n",
        "    def kthSmallest(self, root: Optional[TreeNode], k: int) -> int:\n",
        "        stack = []\n",
        "        curr = root\n",
        "\n",
        "        while stack or curr:\n",
        "            while curr:\n",
        "                stack.append(curr)\n",
        "                curr = curr.left\n",
        "            curr = stack.pop()\n",
        "            k -= 1\n",
        "            if not k:\n",
        "                return curr.val\n",
        "\n",
        "            curr = curr.right\n",
        "\n"
      ],
      "metadata": {
        "id": "eAZJhlzX7aOz"
      },
      "execution_count": null,
      "outputs": []
    },
    {
      "cell_type": "markdown",
      "source": [
        "# Kth Largest Element in a BST - Important"
      ],
      "metadata": {
        "id": "p5Eiw3pH-rKk"
      }
    },
    {
      "cell_type": "code",
      "source": [
        "# https://leetcode.com/discuss/interview-question/2049151/uber-technical-phone-screen-kth-largest-element-in-bst-follow-up-space-o1\n",
        "\n",
        "class KthLargest:\n",
        "    def __init__(self, k):\n",
        "        self.ans = 0\n",
        "        self.count=k #( for given k)\n",
        "\n",
        "    def customised_inorder(self, node: TreeNode):\n",
        "        if node is None:\n",
        "            return\n",
        "\n",
        "        self.customised_inorder(node.right)\n",
        "        self.count -= 1\n",
        "\n",
        "        if self.count == 0:\n",
        "            self.ans = node.val\n",
        "            return\n",
        "\n",
        "        self.customised_inorder(node.left)"
      ],
      "metadata": {
        "id": "VTMYgf34-jaM"
      },
      "execution_count": null,
      "outputs": []
    },
    {
      "cell_type": "markdown",
      "source": [
        "# Valid Palindrome - Important"
      ],
      "metadata": {
        "id": "8XxIXro-F5Xh"
      }
    },
    {
      "cell_type": "code",
      "source": [
        "# https://leetcode.com/problems/valid-palindrome/\n",
        "\n",
        "class Solution:\n",
        "    def isPalindrome(self, s: str) -> bool:\n",
        "        l, r = 0, len(s) - 1\n",
        "\n",
        "        while l <= r:\n",
        "            if s[l].lower() == s[r].lower():\n",
        "                l += 1\n",
        "                r -= 1\n",
        "            elif not s[l].isalnum():\n",
        "                l += 1\n",
        "            elif not s[r].isalnum():\n",
        "                r -= 1\n",
        "            else:\n",
        "                return False\n",
        "\n",
        "        return True\n",
        "\n"
      ],
      "metadata": {
        "id": "OpX5rm7jF6qE"
      },
      "execution_count": null,
      "outputs": []
    },
    {
      "cell_type": "markdown",
      "source": [
        "# Concurrent Meetings - Important"
      ],
      "metadata": {
        "id": "CJxoKE_9zpri"
      }
    },
    {
      "cell_type": "code",
      "source": [
        "# https://leetcode.com/discuss/interview-question/679396/Bloomberg-or-Onsite-or-Concurrent-Meetings\n",
        "import heapq\n",
        "\n",
        "def meeting_rooms(meetings):\n",
        "    meetings = sorted(meetings, key=lambda k:k[1])\n",
        "    print('meetings', meetings)\n",
        "\n",
        "    heap = [(meetings[0][1], 0)]\n",
        "\n",
        "    overlaps = {}\n",
        "\n",
        "    for i in range(1, len(meetings)):\n",
        "        print(meetings[i-1])\n",
        "        print('heap', i-1, heap)\n",
        "        print('overlaps', overlaps)\n",
        "        print('--------------------------------------------------------')\n",
        "\n",
        "        if meetings[i][0] < heap[0][0]:\n",
        "            heapq.heappush(heap, (meetings[i][1], i))\n",
        "        else:\n",
        "            heapq.heappop(heap)\n",
        "            heapq.heappush(heap, (meetings[i][1], i))\n",
        "\n",
        "        if meetings[i][0] < heap[0][0]:\n",
        "            p = (meetings[i][0], heap[0][0])\n",
        "            if p in overlaps:\n",
        "                overlaps[p] = max(overlaps[p], len(heap))\n",
        "            else:\n",
        "                overlaps[p] = len(heap)\n",
        "\n",
        "    return [x for x, y in overlaps.items() if y == max(overlaps.values())]\n",
        "\n",
        "\n",
        "meetings = [(100, 300), (145, 215), (200, 230), (215, 300), (215, 400), (500, 600), (600, 700)]\n",
        "\n",
        "meeting_rooms(meetings)"
      ],
      "metadata": {
        "colab": {
          "base_uri": "https://localhost:8080/"
        },
        "id": "BJHBzTQhzqB5",
        "outputId": "c23a5162-50ab-4726-c488-bccd8bd10059"
      },
      "execution_count": null,
      "outputs": [
        {
          "output_type": "stream",
          "name": "stdout",
          "text": [
            "meetings [(145, 215), (200, 230), (100, 300), (215, 300), (215, 400), (500, 600), (600, 700)]\n",
            "(145, 215)\n",
            "heap 0 [(215, 0)]\n",
            "overlaps {}\n",
            "--------------------------------------------------------\n",
            "(200, 230)\n",
            "heap 1 [(215, 0), (230, 1)]\n",
            "overlaps {(200, 215): 2}\n",
            "--------------------------------------------------------\n",
            "(100, 300)\n",
            "heap 2 [(215, 0), (230, 1), (300, 2)]\n",
            "overlaps {(200, 215): 2, (100, 215): 3}\n",
            "--------------------------------------------------------\n",
            "(215, 300)\n",
            "heap 3 [(230, 1), (300, 2), (300, 3)]\n",
            "overlaps {(200, 215): 2, (100, 215): 3, (215, 230): 3}\n",
            "--------------------------------------------------------\n",
            "(215, 400)\n",
            "heap 4 [(230, 1), (300, 2), (300, 3), (400, 4)]\n",
            "overlaps {(200, 215): 2, (100, 215): 3, (215, 230): 4}\n",
            "--------------------------------------------------------\n",
            "(500, 600)\n",
            "heap 5 [(300, 2), (400, 4), (300, 3), (600, 5)]\n",
            "overlaps {(200, 215): 2, (100, 215): 3, (215, 230): 4}\n",
            "--------------------------------------------------------\n"
          ]
        },
        {
          "output_type": "execute_result",
          "data": {
            "text/plain": [
              "[(215, 230)]"
            ]
          },
          "metadata": {},
          "execution_count": 16
        }
      ]
    },
    {
      "cell_type": "markdown",
      "source": [
        "# Search in Rotated Sorted Array - Important"
      ],
      "metadata": {
        "id": "DgLGPJCHKIzT"
      }
    },
    {
      "cell_type": "code",
      "source": [
        "# https://leetcode.com/problems/search-in-rotated-sorted-array/description/\n",
        "\n",
        "class Solution:\n",
        "    def search(self, nums: List[int], target: int) -> int:\n",
        "        left, right = 0, len(nums) - 1\n",
        "\n",
        "        if len(nums) == 1 and nums[0] == target:\n",
        "            return 0\n",
        "\n",
        "        while left <= right:\n",
        "            mid = (left + right) // 2\n",
        "            if nums[mid] == target:\n",
        "                return mid\n",
        "\n",
        "            # left sorted part of the array\n",
        "            if nums[left] <= nums[mid]:\n",
        "                if target < nums[left] or target > nums[mid]:\n",
        "                    left = mid + 1\n",
        "                else:\n",
        "                    right = mid - 1\n",
        "            # right sorted part of the array\n",
        "            else:\n",
        "                if target > nums[right] or target < nums[mid]:\n",
        "                    right = mid - 1\n",
        "                else:\n",
        "                    left = mid + 1\n",
        "        return -1\n"
      ],
      "metadata": {
        "id": "PVisdPlsKJNq"
      },
      "execution_count": null,
      "outputs": []
    },
    {
      "cell_type": "markdown",
      "source": [
        "# Unique Paths II - Important"
      ],
      "metadata": {
        "id": "JG897G3QigAe"
      }
    },
    {
      "cell_type": "code",
      "source": [
        "# https://leetcode.com/problems/unique-paths-ii/description/\n",
        "# O(m x n) time, O(m x n) space\n",
        "class Solution:\n",
        "    def uniquePathsWithObstacles(self, obstacleGrid: List[List[int]]) -> int:\n",
        "        rows, cols = len(obstacleGrid), len(obstacleGrid[0])\n",
        "        cache = {(rows - 1, cols - 1): 1}\n",
        "\n",
        "        def dfs(row, col):\n",
        "            if row == rows or col == cols or obstacleGrid[row][col]:\n",
        "                return 0\n",
        "\n",
        "            if (row, col) in cache:\n",
        "                return cache[(row, col)]\n",
        "\n",
        "            cache[(row, col)] = dfs(row + 1, col) + dfs(row, col + 1)\n",
        "\n",
        "            return cache[(row, col)]\n",
        "\n",
        "\n",
        "        return dfs(0,0)\n",
        "\n",
        "# O(m x n) time, O(n) space\n",
        "class Solution:\n",
        "    def uniquePathsWithObstacles(self, obstacleGrid: List[List[int]]) -> int:\n",
        "        rows, cols = len(obstacleGrid), len(obstacleGrid[0])\n",
        "        dp = [0] * cols\n",
        "        dp[-1] = 1\n",
        "\n",
        "        # bottom up approach\n",
        "        for row in reversed(range(rows)):\n",
        "            for col in reversed(range(cols)):\n",
        "                if obstacleGrid[row][col]:\n",
        "                    dp[col] = 0\n",
        "                elif col + 1 < cols:\n",
        "                    dp[col] = dp[col] + dp[col + 1]\n",
        "\n",
        "        return dp[0]"
      ],
      "metadata": {
        "id": "NJqt8tWGihlY"
      },
      "execution_count": null,
      "outputs": []
    },
    {
      "cell_type": "markdown",
      "source": [
        "# Binary Tree Vertical Order Traversal - Important"
      ],
      "metadata": {
        "id": "D3DeGPIvtfQs"
      }
    },
    {
      "cell_type": "code",
      "source": [
        "# Binary Tree Vertical Order Traversal [https://leetcode.com/problems/binary-tree-vertical-order-traversal/]\n",
        "\n",
        "# O(nlogn) time, O(n) space\n",
        "# nlogn because of sort\n",
        "# BFS\n",
        "class Solution:\n",
        "    def verticalOrder(self, root: Optional[TreeNode]) -> List[List[int]]:\n",
        "        mapp = collections.defaultdict(list)\n",
        "\n",
        "        queue = deque([(root, 0)])\n",
        "\n",
        "        while queue:\n",
        "            node, column = queue.popleft()\n",
        "\n",
        "            if node is not None:\n",
        "                mapp[column].append(node.val)\n",
        "                queue.append((node.left, column -1))\n",
        "                queue.append((node.right, column + 1))\n",
        "\n",
        "        return [mapp[x] for x in sorted(mapp.keys())]\n",
        "\n",
        "# O(n) time, O(n) space\n",
        "# BFS\n",
        "class Solution:\n",
        "    def verticalOrder(self, root: Optional[TreeNode]) -> List[List[int]]:\n",
        "        if root is None:\n",
        "            return []\n",
        "\n",
        "        mapp = collections.defaultdict(list)\n",
        "\n",
        "        min_col, max_col =0, 0\n",
        "\n",
        "        queue = deque([(root, 0)])\n",
        "\n",
        "        while queue:\n",
        "            node, column = queue.popleft()\n",
        "\n",
        "            if node is not None:\n",
        "                mapp[column].append(node.val)\n",
        "\n",
        "                min_col = min(min_col, column)\n",
        "                max_col = max(max_col, column)\n",
        "\n",
        "                queue.append((node.left, column -1))\n",
        "                queue.append((node.right, column + 1))\n",
        "\n",
        "        return [mapp[i] for i in range(min_col, max_col + 1)]"
      ],
      "metadata": {
        "id": "5W-8OGsgtftM"
      },
      "execution_count": null,
      "outputs": []
    },
    {
      "cell_type": "markdown",
      "source": [
        "# First Missing Positive - Important"
      ],
      "metadata": {
        "id": "2gY3Vft3yyUV"
      }
    },
    {
      "cell_type": "code",
      "source": [
        "# https://leetcode.com/problems/first-missing-positive/description/\n",
        "\n",
        "# O(nlogn) time\n",
        "class Solution:\n",
        "    def firstMissingPositive(self, nums: List[int]) -> int:\n",
        "        nums.sort()\n",
        "        res = 1\n",
        "        for num in nums:\n",
        "            if num == res:\n",
        "                res += 1\n",
        "        return res\n",
        "\n",
        "\n",
        "# O(n) time\n",
        "class Solution:\n",
        "    def firstMissingPositive(self, nums: List[int]) -> int:\n",
        "        n = len(nums)\n",
        "\n",
        "        if 1 not in nums:\n",
        "            return 1\n",
        "\n",
        "        # eliminate 0, and negative numbers\n",
        "        for i in range(n):\n",
        "            if nums[i] <= 0 or nums[i] > n:\n",
        "                nums[i] = 1\n",
        "\n",
        "        # using the idx of the array, mark the value as negative\n",
        "        #  for n, because idx is 0 based, we use idx 0 because n is out of bound\n",
        "        for i in range(n):\n",
        "            a = abs(nums[i])\n",
        "            if a == n:\n",
        "                nums[0] = - abs(nums[0])\n",
        "            else:\n",
        "                nums[a] = - abs(nums[a])\n",
        "\n",
        "        # if the idx is positive that means that's the first missing positive\n",
        "        for i in range(1, n):\n",
        "            if nums[i] > 0:\n",
        "                return i\n",
        "\n",
        "        # then we check if the idx 0 is positive, that means that's the first missing positive\n",
        "        if nums[0] > 0:\n",
        "            return n\n",
        "\n",
        "        # else, the list is a sorted list starting with 1, and no missing no.\n",
        "        # Then the next will be n + 1\n",
        "        return n + 1\n"
      ],
      "metadata": {
        "id": "j2HQtto1yywt"
      },
      "execution_count": null,
      "outputs": []
    },
    {
      "cell_type": "markdown",
      "source": [
        "# Evaluate Division - Important"
      ],
      "metadata": {
        "id": "MvZIBRTFWpgK"
      }
    },
    {
      "cell_type": "code",
      "source": [
        "# https://leetcode.com/problems/evaluate-division/description/\n",
        "\n",
        "# O(n * (V * E)) time,\n",
        "\n",
        "class Solution:\n",
        "    def calcEquation(self, equations: List[List[str]], values: List[float], queries: List[List[str]]) -> List[float]:\n",
        "        # we create a graph for example [[\"a\",\"b\"],[\"b\",\"c\"]], values = [2.0,3.0]\n",
        "        # {'a': [['b', 2.0]], 'b': [['a', 0.5], ['c', 3.0]], 'c': [['b', 0.33]]}\n",
        "        graph = collections.defaultdict(list)\n",
        "\n",
        "        for i, node in enumerate(equations):\n",
        "            graph[node[0]].append([node[1], values[i]])\n",
        "            graph[node[1]].append([node[0], 1 / values[i]])\n",
        "\n",
        "        print(graph)\n",
        "        def bfs(src, target):\n",
        "            if src not in graph or target not in graph:\n",
        "                return -1\n",
        "\n",
        "            queue, visited = deque([(src, 1)]), set()\n",
        "            visited.add(src)\n",
        "\n",
        "            while queue:\n",
        "                node, curr_weight = queue.popleft()\n",
        "\n",
        "                if node == target:\n",
        "                    return curr_weight\n",
        "\n",
        "                for nei, weight in graph[node]:\n",
        "                    if nei not in visited:\n",
        "                        queue.append((nei, curr_weight * weight))\n",
        "                        visited.add(nei)\n",
        "\n",
        "            return -1\n",
        "\n",
        "        return [bfs(q[0], q[1]) for q in queries]"
      ],
      "metadata": {
        "id": "JwfLwK1DWp60"
      },
      "execution_count": null,
      "outputs": []
    }
  ]
}