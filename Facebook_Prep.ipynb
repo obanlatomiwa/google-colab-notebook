{
  "cells": [
    {
      "cell_type": "markdown",
      "metadata": {
        "id": "kgxEqzkx6tFz"
      },
      "source": [
        "# Possible Bipartition - Repeated"
      ]
    },
    {
      "cell_type": "code",
      "execution_count": null,
      "metadata": {
        "id": "I1gh-y7I6uw2"
      },
      "outputs": [],
      "source": [
        "# Possible Bipartition [https://leetcode.com/problems/possible-bipartition/]\n",
        "# O(N+E) time, O(N) space N=nodes, E=edges\n",
        "\n",
        "class Solution:\n",
        "    def possibleBipartition(self, n: int, dislikes: List[List[int]]) -> bool:\n",
        "        if n==1 or not dislikes:\n",
        "            return True\n",
        "\n",
        "        graph = collections.defaultdict(list)\n",
        "        seen = {}\n",
        "\n",
        "        for n1, n2 in dislikes:\n",
        "            graph[n1].append(n2)\n",
        "            graph[n2].append(n1)\n",
        "\n",
        "        for i in range(1, len(graph) + 1):\n",
        "            if i not in seen:\n",
        "                if not self.helper(i, seen, graph, 1):\n",
        "                    return False\n",
        "\n",
        "        return True\n",
        "\n",
        "\n",
        "    def helper(self, neighbour, seen, graph, color):\n",
        "        if neighbour in seen:\n",
        "            if color != seen[neighbour]:\n",
        "                return False\n",
        "            return True\n",
        "\n",
        "        seen[neighbour] = color\n",
        "\n",
        "        for nei in graph[neighbour]:\n",
        "            if not self.helper(nei, seen, graph, -color):\n",
        "                return False\n",
        "\n",
        "        return True\n"
      ]
    },
    {
      "cell_type": "markdown",
      "metadata": {
        "id": "wkS0_-n90jZ1"
      },
      "source": [
        "# Subarray Sum Equals K: - Important*\n",
        "\n"
      ]
    },
    {
      "cell_type": "code",
      "execution_count": null,
      "metadata": {
        "id": "2X-PLSTiwQ7V"
      },
      "outputs": [],
      "source": [
        "# Subarray Sum Equals K [https://leetcode.com/problems/subarray-sum-equals-k/] - Repeated\n",
        "# O(n) time, O(n) space\n",
        "class Solution:\n",
        "    def subarraySum(self, nums: List[int], k: int) -> int:\n",
        "        hashMap = {0:1}\n",
        "        count = 0\n",
        "        sum_ = 0\n",
        "\n",
        "        for num in nums:\n",
        "            sum_ += num\n",
        "\n",
        "            if (sum_ - k) in hashMap:\n",
        "                count += hashMap.get(sum_ - k)\n",
        "\n",
        "            if sum_ in hashMap:\n",
        "                hashMap[sum_] += 1\n",
        "            else:\n",
        "                hashMap[sum_] = 1\n",
        "\n",
        "\n",
        "        return count\n",
        "\n",
        "\n",
        "# O(n) time, O(n) space\n",
        "class Solution:\n",
        "    def subarraySum(self, nums: List[int], k: int) -> int:\n",
        "        hashmap = {0:1}\n",
        "        cum_sum = 0\n",
        "        res = 0\n",
        "\n",
        "        for num in nums:\n",
        "            cum_sum += num\n",
        "            diff = cum_sum - k\n",
        "\n",
        "            res += hashmap.get(diff, 0)\n",
        "            hashmap[cum_sum] = 1 + hashmap.get(cum_sum, 0)\n",
        "\n",
        "        return res\n",
        "\n"
      ]
    },
    {
      "cell_type": "markdown",
      "metadata": {
        "id": "-147zC_P1J8D"
      },
      "source": [
        "# Verifying an Alien Dictionary - Repeated\n"
      ]
    },
    {
      "cell_type": "code",
      "execution_count": null,
      "metadata": {
        "id": "rFMsc5Swg8yR"
      },
      "outputs": [],
      "source": [
        "# Verifying an Alien Dictionary [https://leetcode.com/problems/verifying-an-alien-dictionary/] - Repeated\n",
        "\n",
        "def isAlienSorted(self, words: List[str], order: str) -> bool:\n",
        "    store = {}\n",
        "    count = 1\n",
        "\n",
        "    for letter in order:\n",
        "        store[letter] = count\n",
        "        count += 1\n",
        "\n",
        "    for i in range(1, len(words)):\n",
        "        firstWord, secondWord, correct = words[i-1], words[i], 0\n",
        "\n",
        "        for j in range(min(len(firstWord), len(secondWord))):\n",
        "            if store[firstWord[j]] < store[secondWord[j]]:\n",
        "                correct = 1\n",
        "                break\n",
        "            elif store[firstWord[j]] > store[secondWord[j]]:\n",
        "                return False\n",
        "\n",
        "        if not correct and len(firstWord) > len(secondWord):\n",
        "            return False\n",
        "    return True\n",
        "\n",
        "\n",
        "# Input: words = [\"hello\",\"leetcode\"], order = \"hlabcdefgijkmnopqrstuvwxyz\"\n",
        "# Output: true"
      ]
    },
    {
      "cell_type": "markdown",
      "metadata": {
        "id": "gFAWiW6W35TM"
      },
      "source": [
        "# Integer to English Words - Repeated ++"
      ]
    },
    {
      "cell_type": "code",
      "execution_count": null,
      "metadata": {
        "id": "KY-EQVMSVoom"
      },
      "outputs": [],
      "source": [
        "# Integer to English Words [https://leetcode.com/problems/integer-to-english-words/] - Repeated\n",
        "# General idea is to proces the last 3 numbers and process then to words and add\n",
        "# the result as a suffix then make the initial num reduced by 3 by using % 1000\n",
        "\n",
        "class Solution:\n",
        "    def __init__(self):\n",
        "        self.less_than_20 = ['', 'One', 'Two', 'Three', 'Four', 'Five', 'Six', 'Seven', 'Eight', 'Nine', 'Ten', 'Eleven', 'Twelve', 'Thirteen', 'Fourteen', 'Fiveteen', 'Sixteen', 'Seventeen', 'Eighteen', 'Nineteen' ]\n",
        "\n",
        "        self.tens = ['','Ten', 'Twenty', 'Thirty', 'Forty', 'Fifty', 'Sixty', 'Seventy', 'Eighty', 'Ninety']\n",
        "\n",
        "        self.thousands = ['', 'Thousand', 'Million', 'Billion']\n",
        "\n",
        "\n",
        "    def numberToWords(self, num: int) -> str:\n",
        "\n",
        "        if num == 0:\n",
        "            return 'Zero'\n",
        "\n",
        "        res = ''\n",
        "\n",
        "        for i in range(len(self.thousands)):\n",
        "            if num % 1000 != 0:\n",
        "                res = self.helper(num % 1000) + self.thousands[i] + ' ' + res\n",
        "\n",
        "            num //= 1000\n",
        "\n",
        "        return res.strip()\n",
        "\n",
        "\n",
        "    def helper(self, num):\n",
        "        if num == 0:\n",
        "            return ''\n",
        "\n",
        "        elif num < 20:\n",
        "            return self.less_than_20[num] + \" \"\n",
        "\n",
        "        elif num < 100:\n",
        "            return self.tens[num // 10] + \" \" + self.helper(num % 10)\n",
        "\n",
        "        else:\n",
        "            return self.less_than_20[num // 100] + \" Hundred \" + self.helper(num % 100)\n",
        "\n",
        "\n"
      ]
    },
    {
      "cell_type": "markdown",
      "metadata": {
        "id": "ae2TfVN82Ros"
      },
      "source": [
        "# Valid Palindrome II - Important"
      ]
    },
    {
      "cell_type": "code",
      "execution_count": null,
      "metadata": {
        "id": "VEOY-IsGjMgk"
      },
      "outputs": [],
      "source": [
        "# Valid Palindrome II [https://leetcode.com/problems/valid-palindrome-ii/]\n",
        "\n",
        "# O(n) time, O(1) space\n",
        "\n",
        "\n",
        "class Solution:\n",
        "    def validPalindrome(self, s: str) -> bool:\n",
        "\n",
        "        def helper(s, i, j):\n",
        "            while i < j:\n",
        "                if s[i] != s[j]:\n",
        "                    return False\n",
        "                i += 1\n",
        "                j -= 1\n",
        "            return True\n",
        "\n",
        "        l, r = 0, len(s) - 1\n",
        "\n",
        "        while l <= r:\n",
        "            if s[l] != s[r]:\n",
        "                return helper(s, l + 1, r) or helper(s, l, r - 1)\n",
        "            else:\n",
        "                l += 1\n",
        "                r -= 1\n",
        "\n",
        "        return True"
      ]
    },
    {
      "cell_type": "markdown",
      "metadata": {
        "id": "feNxBCAvOX57"
      },
      "source": [
        "# Product of Array Except Self - Important"
      ]
    },
    {
      "cell_type": "code",
      "execution_count": null,
      "metadata": {
        "id": "GFT6GN-OOZ6o"
      },
      "outputs": [],
      "source": [
        "# Product of Array Except Self [https://leetcode.com/problems/product-of-array-except-self/]\n",
        "# O(n) time, O(n) space\n",
        "class Solution:\n",
        "    def productExceptSelf(self, nums: List[int]) -> List[int]:\n",
        "        length = len(nums)\n",
        "        L, R, result = [0] * length, [0] * length, [0] * length\n",
        "\n",
        "        L[0] = 1\n",
        "        for i in range(1, length):\n",
        "            L[i] = L[i-1] * nums[i -1]\n",
        "\n",
        "        R[length - 1] = 1\n",
        "        for i in reversed(range(length - 1)):\n",
        "            R[i] = R[i +1] * nums[i + 1]\n",
        "\n",
        "        for i in range(length):\n",
        "            result[i] = L[i] * R[i]\n",
        "\n",
        "        return result\n",
        "\n",
        "# O(n) time, O(n) space\n",
        "class Solution:\n",
        "    def productExceptSelf(self, nums: List[int]) -> List[int]:\n",
        "        prefix, postfix, result = [0] * len(nums), [0] * len(nums), [0] * len(nums)\n",
        "\n",
        "        prefix[0] = 1\n",
        "        for i in range(1, len(nums)):\n",
        "            prefix[i] = prefix[i - 1] * nums[i - 1]\n",
        "\n",
        "        postfix[-1] = 1\n",
        "        for i in range(len(nums) - 2, -1, -1):\n",
        "            postfix[i] = postfix[i + 1] * nums[i + 1]\n",
        "\n",
        "        for i in range(len(result)):\n",
        "            result[i] = prefix[i] * postfix[i]\n",
        "\n",
        "        return result\n",
        "\n",
        "# O(n) time, O(1) space\n",
        "class Solution:\n",
        "    def productExceptSelf(self, nums: List[int]) -> List[int]:\n",
        "        length = len(nums)\n",
        "        result = [0] * length\n",
        "\n",
        "        result[0] = 1\n",
        "        for i in range(1, length):\n",
        "            result[i] = result[i-1] * nums[i -1]\n",
        "\n",
        "        R = 1\n",
        "        for i in reversed(range(length)):\n",
        "            result[i] = R * result[i]\n",
        "            R *= nums[i]\n",
        "\n",
        "        return result"
      ]
    },
    {
      "cell_type": "code",
      "execution_count": null,
      "metadata": {
        "colab": {
          "base_uri": "https://localhost:8080/"
        },
        "id": "PBdAezLN1G7z",
        "outputId": "78274b09-7483-4fe8-bb08-eff24a75ee13"
      },
      "outputs": [
        {
          "name": "stdout",
          "output_type": "stream",
          "text": [
            "4\n",
            "3\n",
            "2\n",
            "1\n",
            "0\n"
          ]
        }
      ],
      "source": [
        "for i in reversed(range(5)):\n",
        "    print(i)"
      ]
    },
    {
      "cell_type": "code",
      "source": [
        "for i in range(5-1, -1, -1):\n",
        "    print(i)"
      ],
      "metadata": {
        "colab": {
          "base_uri": "https://localhost:8080/"
        },
        "id": "udAan54T_i0b",
        "outputId": "d9e58ae6-4c1b-4189-906d-af69b99f71a4"
      },
      "execution_count": null,
      "outputs": [
        {
          "output_type": "stream",
          "name": "stdout",
          "text": [
            "4\n",
            "3\n",
            "2\n",
            "1\n",
            "0\n"
          ]
        }
      ]
    },
    {
      "cell_type": "markdown",
      "metadata": {
        "id": "2LjGjvaf38Er"
      },
      "source": [
        "# Find All Anagrams in a String - Repeated"
      ]
    },
    {
      "cell_type": "code",
      "execution_count": null,
      "metadata": {
        "colab": {
          "base_uri": "https://localhost:8080/"
        },
        "id": "aM7C0mmZ4BWT",
        "outputId": "b9f62aae-63cc-4c99-ac78-32ea915c9bfe"
      },
      "outputs": [
        {
          "data": {
            "text/plain": [
              "[0, 6]"
            ]
          },
          "execution_count": 9,
          "metadata": {},
          "output_type": "execute_result"
        }
      ],
      "source": [
        "# Find All Anagrams in a String [https://leetcode.com/problems/find-all-anagrams-in-a-string/]\n",
        "\n",
        "# O(len(s) + len(p)) time O(1) space because the highest space is for 26 letters\n",
        "\n",
        "# Sliding Window with HashMap\n",
        "\n",
        "\n",
        "from collections import Counter\n",
        "class Solution:\n",
        "    def findAnagrams(self, s, p):\n",
        "        if len(p) > len(s):\n",
        "            return []\n",
        "\n",
        "        smap, pmap, result = Counter(), Counter(p), []\n",
        "\n",
        "        for i in range(len(s)):\n",
        "            smap[s[i]] += 1\n",
        "\n",
        "            if i >= len(p):\n",
        "                if smap[s[i - len(p)]] == 1:\n",
        "                    del smap[s[i - len(p)]]\n",
        "                else:\n",
        "                    smap[s[i - len(p)]] -= 1\n",
        "\n",
        "            if smap == pmap:\n",
        "                result.append(i - len(p) + 1)\n",
        "\n",
        "\n",
        "        return result\n",
        "\n",
        "\n",
        "s = \"cbaebabacd\"\n",
        "p = \"abc\"\n",
        "\n",
        "r = Solution()\n",
        "r.findAnagrams(s, p)"
      ]
    },
    {
      "cell_type": "markdown",
      "metadata": {
        "id": "7fMV2n0s0xwj"
      },
      "source": [
        "# Arrays: Left Rotation"
      ]
    },
    {
      "cell_type": "code",
      "execution_count": null,
      "metadata": {
        "colab": {
          "base_uri": "https://localhost:8080/"
        },
        "id": "Eb2KlxCrwso6",
        "outputId": "1bb87e6f-7bef-43fb-b5c4-0354ab4df6c1"
      },
      "outputs": [
        {
          "data": {
            "text/plain": [
              "[4, 5, 1, 2, 3]"
            ]
          },
          "execution_count": 4,
          "metadata": {},
          "output_type": "execute_result"
        }
      ],
      "source": [
        "# Arrays: Left Rotation\n",
        "\n",
        "# a = [1,2,3,4,5]\n",
        "# d = 4\n",
        "\n",
        "# answer = [5,1,2,3,4]\n",
        "\n",
        "def rotLeft(a, d):\n",
        "    # Write your code here\n",
        "    return a[d:] + a[:d]\n",
        "\n",
        "a = [1,2,3,4,5]\n",
        "rotLeft(a, 3)"
      ]
    },
    {
      "cell_type": "markdown",
      "metadata": {
        "id": "iYccjDbn0_2u"
      },
      "source": [
        "# Arrays: Right Rotation"
      ]
    },
    {
      "cell_type": "code",
      "execution_count": null,
      "metadata": {
        "colab": {
          "base_uri": "https://localhost:8080/"
        },
        "id": "ORFsSaVNSvtX",
        "outputId": "5eb751c2-0920-4f95-c6fc-0f24c6307894"
      },
      "outputs": [
        {
          "name": "stdout",
          "output_type": "stream",
          "text": [
            "[2, 3, 4, 5, 1]\n"
          ]
        }
      ],
      "source": [
        "# Arrays: Right Rotation [https://leetcode.com/problems/rotate-array/]\n",
        "\n",
        "# O(n x k) time O(1) space\n",
        "class Solution:\n",
        "    def rotate(self, nums: List[int], k: int) -> None:\n",
        "        # speed up the rotation\n",
        "        k %= len(nums)\n",
        "\n",
        "        for i in range(k):\n",
        "            previous = nums[-1]\n",
        "            for j in range(len(nums)):\n",
        "                nums[j], previous = previous, nums[j]\n",
        "\n",
        "# O(n) time O(1) space\n",
        "class Solution:\n",
        "    def reverse(self, nums: list, start: int, end: int) -> None:\n",
        "        while start < end:\n",
        "            nums[start], nums[end] = nums[end], nums[start]\n",
        "            start, end = start + 1, end - 1\n",
        "\n",
        "    def rotate(self, nums: List[int], k: int) -> None:\n",
        "        n = len(nums)\n",
        "        k %= n\n",
        "\n",
        "        self.reverse(nums, 0, n - 1)\n",
        "        self.reverse(nums, 0, k - 1)\n",
        "        self.reverse(nums, k, n - 1)\n",
        "\n",
        "\n",
        "def rotate(nums, k):\n",
        "    k %= len(nums)\n",
        "    count, start = 0, 0\n",
        "    while count < len(nums):\n",
        "        current = start\n",
        "        prev = nums[start]\n",
        "        while 1:\n",
        "            current = (current + k) % len(nums)\n",
        "            prev, nums[current] = nums[current], prev\n",
        "            count += 1\n",
        "            if start == current:\n",
        "                break\n",
        "        start += 1\n",
        "\n",
        "    print(nums)\n",
        "\n",
        "a = [1,2,3,4,5]\n",
        "d = 4\n",
        "rotate(a, d)"
      ]
    },
    {
      "cell_type": "markdown",
      "metadata": {
        "id": "vcJ7zVMb1XBH"
      },
      "source": [
        "# Maximum Subarray"
      ]
    },
    {
      "cell_type": "code",
      "execution_count": null,
      "metadata": {
        "id": "I4lrruH6YvJE"
      },
      "outputs": [],
      "source": [
        "# Maximum Subarray [https://leetcode.com/problems/maximum-subarray/]\n",
        "# O(n) time O(1) space\n",
        "# kadane Algorithm\n",
        "\n",
        "def maxSubArray(self, nums: List[int]) -> int:\n",
        "    maxSoFar, maxEndingHere = nums[0], nums[0]\n",
        "\n",
        "    for num in nums[1:]:\n",
        "        maxEndingHere = max(num, maxEndingHere + num)\n",
        "        maxSoFar = max(maxSoFar, maxEndingHere)\n",
        "\n",
        "    return maxSoFar"
      ]
    },
    {
      "cell_type": "markdown",
      "source": [
        "Element Appearing More Than 25% In Sorted Array"
      ],
      "metadata": {
        "id": "7-sMmHKINAf7"
      }
    },
    {
      "cell_type": "code",
      "source": [
        "# https://leetcode.com/problems/element-appearing-more-than-25-in-sorted-array/description/\n",
        "\n",
        "def findSpecialInteger(arr):\n",
        "    if len(arr) == 1:\n",
        "        return arr[0]\n",
        "\n",
        "    count, length = 1, len(arr)\n",
        "    for i in range(1, len(arr)):\n",
        "        if arr[i] == arr[i - 1]:\n",
        "            count += 1\n",
        "            prob = 0.25 * length\n",
        "            if count > prob:\n",
        "                return arr[i]\n",
        "        else:\n",
        "            count = 1\n",
        "\n",
        "\n",
        "print(findSpecialInteger([1,1,1,1,1,1,2,3,4,5,6,7,8,9,10,11,12,12,12,12]))\n",
        "# print(findSpecialInteger([1,1,1,2,3,4,5,6,7,8,9,10,11,12,12,12,12]))\n",
        "# print(findSpecialInteger([1,2,2,6,6,6,6,7,10]))"
      ],
      "metadata": {
        "colab": {
          "base_uri": "https://localhost:8080/"
        },
        "id": "KsXwRHpJK4_g",
        "outputId": "e18adc68-a631-45c5-8d62-2d174b473dc7"
      },
      "execution_count": null,
      "outputs": [
        {
          "output_type": "stream",
          "name": "stdout",
          "text": [
            "1\n"
          ]
        }
      ]
    },
    {
      "cell_type": "markdown",
      "metadata": {
        "id": "xiiStw9T1qbB"
      },
      "source": [
        "# Next Greater Element I"
      ]
    },
    {
      "cell_type": "code",
      "execution_count": null,
      "metadata": {
        "id": "OcMUv_jG9Yhv"
      },
      "outputs": [],
      "source": [
        "# Next Greater Element I [https://leetcode.com/problems/next-greater-element-i/]\n",
        "# time O(n) space O(n)\n",
        "\n",
        "def nextGreaterElement(nums1, nums2):\n",
        "    mapp, result, stack = {}, [], []\n",
        "\n",
        "    for num in nums2:\n",
        "        while stack and num > stack[-1]:\n",
        "            mapp[stack.pop()] = num\n",
        "        stack.append(num)\n",
        "\n",
        "    while stack:\n",
        "        mapp[stack.pop()] = -1\n",
        "\n",
        "    for num in nums1:\n",
        "        result.append(mapp[num])\n",
        "\n",
        "    return result\n",
        "\n",
        "def nextGreaterElement(nums1, nums2):\n",
        "    mapp, stack = {}, []\n",
        "\n",
        "    for num in nums2:\n",
        "        while stack and num > stack[-1]:\n",
        "            mapp[stack.pop()] = num\n",
        "        stack.append(num)\n",
        "\n",
        "    return [mapp.get(num, -1) for num in nums1]"
      ]
    },
    {
      "cell_type": "markdown",
      "metadata": {
        "id": "8Ji2ZEI31a--"
      },
      "source": [
        "# Next Greater Element II"
      ]
    },
    {
      "cell_type": "code",
      "execution_count": null,
      "metadata": {
        "colab": {
          "base_uri": "https://localhost:8080/"
        },
        "id": "7gFPNrkgMsHC",
        "outputId": "4aa620a2-0323-4468-fd0a-daf21d57eb7e"
      },
      "outputs": [
        {
          "data": {
            "text/plain": [
              "[2, 3, 4, -1, 4]"
            ]
          },
          "execution_count": 1,
          "metadata": {},
          "output_type": "execute_result"
        }
      ],
      "source": [
        "# Next Greater Element II [https://leetcode.com/problems/next-greater-element-ii/]\n",
        "# time O(n) space O(n)\n",
        "\n",
        "def nextGreaterElements(nums):\n",
        "    stack, res = [], [-1] * len(nums)\n",
        "    for i, num in enumerate(nums):\n",
        "        while stack and nums[stack[-1]] < num:\n",
        "            res[stack.pop()] = num\n",
        "        stack.append(i)\n",
        "    for i, num in enumerate(nums):\n",
        "        while stack and nums[stack[-1]] < num:\n",
        "            res[stack.pop()] = num\n",
        "    return res\n",
        "\n",
        "a = [1,2,3,4,3]\n",
        "nextGreaterElements(a)"
      ]
    },
    {
      "cell_type": "markdown",
      "metadata": {
        "id": "eQ1bYl2d1yz6"
      },
      "source": [
        "# Max Area of Island - Important"
      ]
    },
    {
      "cell_type": "code",
      "execution_count": null,
      "metadata": {
        "id": "UHYMgxNd-vGJ"
      },
      "outputs": [],
      "source": [
        "# Max Area of Island [https://leetcode.com/problems/max-area-of-island/]\n",
        "\n",
        "def maxAreaOfIsland(self, grid: List[List[int]]) -> int:\n",
        "    finalCount = 0\n",
        "\n",
        "    if not grid:\n",
        "        return finalCount\n",
        "\n",
        "    for row in range(len(grid)):\n",
        "        for col in range(len(grid[0])):\n",
        "            if grid[row][col] == 1:\n",
        "                finalCount = max(finalCount, self.findNeighbours(grid, row, col, 0))\n",
        "    return finalCount\n",
        "\n",
        "\n",
        "\n",
        "def findNeighbours(self, grid, row, col, count):\n",
        "    if row >= len(grid) or row < 0 or col < 0 or col >= len(grid[0]) or grid[row][col] != 1:\n",
        "        return count\n",
        "\n",
        "    count += 1\n",
        "    grid[row][col] = 10\n",
        "\n",
        "    count = self.findNeighbours(grid, row + 1, col, count)\n",
        "    count = self.findNeighbours(grid, row, col + 1, count)\n",
        "    count = self.findNeighbours(grid, row-1, col, count)\n",
        "    count = self.findNeighbours(grid, row, col -1, count)\n",
        "\n",
        "\n",
        "    return count\n",
        "\n",
        "\n",
        "# 2\n",
        "def maxAreaOfIsland(self, grid: List[List[int]]) -> int:\n",
        "    finalCount = 0\n",
        "\n",
        "    if not grid:\n",
        "        return finalCount\n",
        "\n",
        "    for row in range(len(grid)):\n",
        "        for col in range(len(grid[0])):\n",
        "            if grid[row][col] == 1:\n",
        "                finalCount = max(finalCount, self.findNeighbours(grid, row, col))\n",
        "    return finalCount\n",
        "\n",
        "\n",
        "\n",
        "def findNeighbours(self, grid, row, col):\n",
        "    lst = [(row+1, col), (row-1, col), (row, col-1), (row, col+1)]\n",
        "    count = 1\n",
        "    grid[row][col] = 10\n",
        "\n",
        "    for row, col in lst:\n",
        "        if row < len(grid) and row >= 0 and col >= 0 and col < len(grid[0]) and grid[row][col] == 1:\n",
        "            count = count + self.findNeighbours(grid, row, col)\n",
        "    return count\n",
        "\n",
        "\n",
        "# 3\n",
        "class Solution:\n",
        "    def maxAreaOfIsland(self, grid: List[List[int]]) -> int:\n",
        "        max_area = 0\n",
        "\n",
        "        neighbours = [(1, 0), (-1, 0), (0, -1), (0, 1)]\n",
        "\n",
        "        def find_area(grid, row, col):\n",
        "            if row < 0 or col < 0 or row >= len(grid) or col >= len(grid[0]) or grid[row][col] == 0:\n",
        "                return 0\n",
        "\n",
        "            grid[row][col] = 0\n",
        "\n",
        "            area = 1\n",
        "\n",
        "            for row_inc, col_inc in neighbours:\n",
        "                area += find_area(grid, row + row_inc, col + col_inc)\n",
        "\n",
        "            return area\n",
        "\n",
        "        for row in range(len(grid)):\n",
        "            for col in range(len(grid[0])):\n",
        "                if grid[row][col] == 1:\n",
        "                    area = find_area(grid, row, col)\n",
        "                    max_area = max(area, max_area)\n",
        "\n",
        "        return max_area"
      ]
    },
    {
      "cell_type": "markdown",
      "metadata": {
        "id": "9TgrVQoz2FHs"
      },
      "source": [
        "# Minimum Remove to Make Valid Parentheses - Important"
      ]
    },
    {
      "cell_type": "code",
      "execution_count": null,
      "metadata": {
        "id": "JZPwiVetGAcH"
      },
      "outputs": [],
      "source": [
        "# Minimum Remove to Make Valid Parentheses [https://leetcode.com/problems/minimum-remove-to-make-valid-parentheses/]\n",
        "def minRemoveToMakeValid(self, s: str) -> str:\n",
        "    stack = []\n",
        "    s = list(s)\n",
        "\n",
        "    for i, c in enumerate(s):\n",
        "        if s[i] == '(':\n",
        "            stack.append(i)\n",
        "\n",
        "        elif s[i] == ')':\n",
        "            if stack:\n",
        "                stack.pop()\n",
        "            else:\n",
        "                s[i] = ''\n",
        "\n",
        "\n",
        "    for i in stack:\n",
        "        s[i] = ''\n",
        "\n",
        "    return ''.join(s)"
      ]
    },
    {
      "cell_type": "markdown",
      "metadata": {
        "id": "I3WTE_Bi2KtZ"
      },
      "source": [
        "# K Closest Points to Origin - Important"
      ]
    },
    {
      "cell_type": "code",
      "execution_count": null,
      "metadata": {
        "colab": {
          "base_uri": "https://localhost:8080/"
        },
        "id": "U3G0CixO4_Me",
        "outputId": "ee4ada12-01ec-4427-d820-03a5e2bb0be5"
      },
      "outputs": [
        {
          "name": "stdout",
          "output_type": "stream",
          "text": [
            "[(-20, -2, 4), (-18, 3, 3)]\n"
          ]
        },
        {
          "data": {
            "text/plain": [
              "[(-2, 4), (3, 3)]"
            ]
          },
          "execution_count": 7,
          "metadata": {},
          "output_type": "execute_result"
        }
      ],
      "source": [
        "# K Closest Points to Origin [https://leetcode.com/problems/k-closest-points-to-origin/]\n",
        "\n",
        "# 1\n",
        "def kClosest(points, k):\n",
        "    points.sort(key = lambda k: k[0]**2 + k[1]**2)\n",
        "    return points[:k]\n",
        "\n",
        "# 2\n",
        "def kClosest(points, k):\n",
        "    temp, res = {}, []\n",
        "\n",
        "    for point in points:\n",
        "        x, y = point[0], point[1]\n",
        "        dist = self.formula(x, y)\n",
        "        temp[dist]=temp.get(dist,[])+[point]\n",
        "\n",
        "    val = sorted(temp.keys())\n",
        "    for i in val[:k]:\n",
        "        if len(res)<k:\n",
        "            res.extend(temp[i])\n",
        "        else:break\n",
        "    return res\n",
        "\n",
        "def formula(self, x, y):\n",
        "    result = math.sqrt((x - 0) ** 2 + (y - 0) ** 2)\n",
        "    return result\n",
        "\n",
        "\n",
        "\n",
        "# 3\n",
        "# O(nlogk + k) time O(k) space\n",
        "import heapq\n",
        "def kClosest(points, k):\n",
        "    heap = []\n",
        "\n",
        "    for (x, y) in points:\n",
        "        dist = -(x*x + y*y)\n",
        "\n",
        "        if len(heap) == k:\n",
        "            heapq.heappushpop(heap, (dist, x, y))\n",
        "        else:\n",
        "            heapq.heappush(heap, (dist, x, y))\n",
        "    print(heap)\n",
        "    return [(x, y) for (dist, x, y) in heap]\n",
        "\n",
        "points = [[3,3],[5,-1],[-2,4]]\n",
        "k = 2\n",
        "kClosest(points, k)"
      ]
    },
    {
      "cell_type": "markdown",
      "metadata": {
        "id": "jZxwQEOz2aI3"
      },
      "source": [
        "# Maximum Size Subarray Sum Equals k ++"
      ]
    },
    {
      "cell_type": "code",
      "execution_count": null,
      "metadata": {
        "id": "tK0RsFIMB1DF"
      },
      "outputs": [],
      "source": [
        "# Maximum Size Subarray Sum Equals k [https://leetcode.com/problems/maximum-size-subarray-sum-equals-k/]\n",
        "# O(n) time, O(n) space\n",
        "\n",
        "def maxSubArrayLen(self, nums: List[int], k: int) -> int:\n",
        "    prefix_sum = longest_subarray = 0\n",
        "    indices = {}\n",
        "\n",
        "    for i, num in enumerate(nums):\n",
        "        prefix_sum += num\n",
        "\n",
        "        # Check if all of the numbers seen so far sum to k.\n",
        "        if prefix_sum == k:\n",
        "            longest_subarray = i + 1\n",
        "\n",
        "        # If any subarray seen so far sums to k, then\n",
        "        # update the length of the longest_subarray.\n",
        "        if prefix_sum - k in indices:\n",
        "            longest_subarray = max(longest_subarray, i - indices[prefix_sum - k])\n",
        "\n",
        "        # Only add the current prefix_sum index pair to the\n",
        "        # map if the prefix_sum is not already in the map.\n",
        "        if prefix_sum not in indices:\n",
        "            indices[prefix_sum] = i\n",
        "\n",
        "    return longest_subarray"
      ]
    },
    {
      "cell_type": "markdown",
      "source": [
        "# Course Schedule - Important"
      ],
      "metadata": {
        "id": "lfK1hd_ou-NR"
      }
    },
    {
      "cell_type": "code",
      "source": [
        "# https://leetcode.com/problems/course-schedule/\n",
        "\n",
        "# 1 using Khan's Algorithm\n",
        "# O(V+E) time O(V+E) space\n",
        "\n",
        "class Solution:\n",
        "    def canFinish(self, numCourses: int, prerequisites: List[List[int]]) -> bool:\n",
        "        result, indegree, courses = 0, {}, collections.defaultdict(list)\n",
        "\n",
        "        for course, req in prerequisites:\n",
        "            courses[req].append(course)\n",
        "\n",
        "            indegree[course] = indegree.get(course, 0) + 1\n",
        "\n",
        "\n",
        "        queue = deque([i for i in range(numCourses) if i not in indegree])\n",
        "\n",
        "        print(result, indegree, courses)\n",
        "\n",
        "        while queue:\n",
        "            course = queue.popleft()\n",
        "            result += 1\n",
        "\n",
        "            if course in courses:\n",
        "                for neigh in courses[course]:\n",
        "                    indegree[neigh] -= 1\n",
        "\n",
        "                    if indegree[neigh] == 0:\n",
        "                        queue.append(neigh)\n",
        "\n",
        "        return result == numCourses\n",
        "\n",
        "\n"
      ],
      "metadata": {
        "id": "E1WMxFZQu-nm"
      },
      "execution_count": null,
      "outputs": []
    },
    {
      "cell_type": "markdown",
      "metadata": {
        "id": "l7lESiBP2fHt"
      },
      "source": [
        "# Course Schedule II - Important"
      ]
    },
    {
      "cell_type": "code",
      "execution_count": null,
      "metadata": {
        "id": "FLLjqhXd6hMt"
      },
      "outputs": [],
      "source": [
        "# Course Schedule II [https://leetcode.com/problems/course-schedule-ii/]\n",
        "\n",
        "# 1 using Khan's Algorithm\n",
        "# O(V+E) time O(V+E) space\n",
        "from collections import defaultdict, deque\n",
        "    def findOrder(self, numCourses: int, prerequisites: List[List[int]]) -> List[int]:\n",
        "        result, courses, indegree = [], defaultdict(list), {}\n",
        "\n",
        "        # populate the graph\n",
        "        for course, req in prerequisites:\n",
        "            courses[req].append(course)\n",
        "\n",
        "            indegree[course] = indegree.get(course, 0) + 1\n",
        "\n",
        "        # queue for maintaining nodes with 0 indegrees\n",
        "\n",
        "        q = deque([i for i in range(numCourses) if i not in indegree])\n",
        "\n",
        "\n",
        "        while q:\n",
        "            # Pop one node with 0 in-degree\n",
        "            current_node = q.popleft()\n",
        "            result.append(current_node)\n",
        "\n",
        "            # Reduce in-degree for all the neighbors\n",
        "            if current_node in courses:\n",
        "                for neighbour in courses[current_node]:\n",
        "                    indegree[neighbour] -= 1\n",
        "\n",
        "                    # Add neighbor to Q if in-degree becomes 0\n",
        "                    if indegree[neighbour] == 0:\n",
        "                        q.append(neighbour)\n",
        "\n",
        "\n",
        "        return result if len(result) == numCourses else []\n",
        "\n",
        "\n",
        "# 2 using DFS\n",
        "# O(V+E) time O(V+E) space\n",
        "\n",
        "from collections import defaultdict\n",
        "\n",
        "class Solution:\n",
        "    def findOrder(self, numCourses: int, prerequisites: List[List[int]]) -> List[int]:\n",
        "        courses = defaultdict(list)\n",
        "        visited = [0 for _ in range(numCourses)]\n",
        "        order = []\n",
        "\n",
        "        def dfs(course: int, visited: List[int], order: List[int]) -> bool:\n",
        "            if visited[course] == -1:\n",
        "                return False\n",
        "            elif visited[course] == 1:\n",
        "                return True\n",
        "\n",
        "            # visiting\n",
        "            visited[course] = -1\n",
        "            for next_course in courses[course]:\n",
        "                if not dfs(next_course, visited, order):\n",
        "                    return False\n",
        "\n",
        "            # visited\n",
        "            visited[course] = 1\n",
        "            order.append(course)\n",
        "\n",
        "            return True\n",
        "\n",
        "        for course, prereq in prerequisites:\n",
        "            courses[prereq].append(course)\n",
        "\n",
        "        return order[::-1] if all(dfs(course, visited, order) for course in range(numCourses)) else []"
      ]
    },
    {
      "cell_type": "markdown",
      "metadata": {
        "id": "clOxplgZ2rcO"
      },
      "source": [
        "# Merge k Sorted Lists - Important"
      ]
    },
    {
      "cell_type": "code",
      "execution_count": null,
      "metadata": {
        "id": "bkbihABNH9Li"
      },
      "outputs": [],
      "source": [
        "# Merge k Sorted Lists [https://leetcode.com/problems/merge-k-sorted-lists/]\n",
        "# O(nlogk) time, O(1) space\n",
        "class Solution:\n",
        "    def mergeKLists(self, lists: List[Optional[ListNode]]) -> Optional[ListNode]:\n",
        "        if len(lists) == 0:\n",
        "            return None\n",
        "\n",
        "        if len(lists) == 1:\n",
        "            return lists[0]\n",
        "\n",
        "        mid = len(lists) // 2\n",
        "\n",
        "        left, right = self.mergeKLists(lists[:mid]), self.mergeKLists(lists[mid:])\n",
        "\n",
        "        return self.merge(left, right)\n",
        "\n",
        "    def merge(self, l1, l2):\n",
        "        head = temp = ListNode()\n",
        "\n",
        "        while l1 and l2:\n",
        "            if l1.val < l2.val:\n",
        "                temp.next = l1\n",
        "                l1 = l1.next\n",
        "            else:\n",
        "                temp.next = l2\n",
        "                l2 = l2.next\n",
        "\n",
        "            temp = temp.next\n",
        "        temp.next = l1 or l2\n",
        "\n",
        "        return head.next"
      ]
    },
    {
      "cell_type": "markdown",
      "metadata": {
        "id": "ZiOGVI4G226H"
      },
      "source": [
        "# Continuous Subarray Sum ++"
      ]
    },
    {
      "cell_type": "code",
      "execution_count": null,
      "metadata": {
        "id": "MZlAbChSmkTs"
      },
      "outputs": [],
      "source": [
        "# Continuous Subarray Sum [https://leetcode.com/problems/continuous-subarray-sum/]\n",
        "class Solution:\n",
        "    def checkSubarraySum(self, nums: List[int], k: int) -> bool:\n",
        "        if len(nums) < 2:\n",
        "            return False\n",
        "\n",
        "        mapp = {0:-1}\n",
        "\n",
        "        sum_ = 0\n",
        "\n",
        "        for idx, num in enumerate(nums):\n",
        "            sum_ += num\n",
        "            remainder = sum_ % k\n",
        "\n",
        "            if remainder in mapp and idx - mapp[remainder] >= 2:\n",
        "                return True\n",
        "\n",
        "            if remainder not in mapp:\n",
        "                mapp[remainder] = idx\n",
        "        return False"
      ]
    },
    {
      "cell_type": "markdown",
      "metadata": {
        "id": "M8FtjJFc263l"
      },
      "source": [
        "# Design Tic-Tac-Toe"
      ]
    },
    {
      "cell_type": "code",
      "execution_count": null,
      "metadata": {
        "id": "iDzWG85Gurx4"
      },
      "outputs": [],
      "source": [
        "# Design Tic-Tac-Toe [https://leetcode.com/problems/design-tic-tac-toe/]\n",
        "# O(1) time O(n) time\n",
        "class TicTacToe:\n",
        "\n",
        "    def __init__(self, n: int):\n",
        "        self.rows = n * [0]\n",
        "        self.cols = n * [0]\n",
        "        self.diag1 = 0\n",
        "        self.diag2 = 0\n",
        "        self.n = n\n",
        "\n",
        "\n",
        "    def move(self, row: int, col: int, player: int) -> int:\n",
        "        player_val = 1\n",
        "        if player == 2:\n",
        "            player_val = -1\n",
        "\n",
        "        self.rows[row] += player_val\n",
        "        self.cols[col] += player_val\n",
        "\n",
        "        if row + col == self.n - 1:\n",
        "            self.diag1 += player_val\n",
        "\n",
        "        if row - col == 0:\n",
        "            self.diag2 += player_val\n",
        "\n",
        "        if abs(self.rows[row]) == self.n or abs(self.cols[col]) == self.n or abs(self.diag1) == self.n or abs(self.diag2) == self.n:\n",
        "            return 1 if player_val == 1 else 2\n",
        "\n",
        "        return 0\n"
      ]
    },
    {
      "cell_type": "markdown",
      "metadata": {
        "id": "eLxzs3kD3GVF"
      },
      "source": [
        "# Number of Connected Components in an Undirected Graph"
      ]
    },
    {
      "cell_type": "code",
      "execution_count": null,
      "metadata": {
        "id": "UX-wg0GQvUck"
      },
      "outputs": [],
      "source": [
        "#  Number of Connected Components in an Undirected Graph [https://leetcode.com/problems/number-of-connected-components-in-an-undirected-graph/]\n",
        "\n",
        "# DFS\n",
        "from collections import defaultdict\n",
        "class Solution:\n",
        "    def countComponents(self, n: int, edges: List[List[int]]) -> int:\n",
        "        graph = defaultdict(list)\n",
        "\n",
        "        for x, y in edges:\n",
        "            graph[x].append(y)\n",
        "            graph[y].append(x)\n",
        "\n",
        "\n",
        "        def dfs(node, seen):\n",
        "            seen.add(node)\n",
        "            for neighbour in graph[node]:\n",
        "                if neighbour not in seen:\n",
        "                    dfs(neighbour, seen)\n",
        "\n",
        "        seen = set()\n",
        "        count = 0\n",
        "\n",
        "        for node in range(n):\n",
        "            if node not in seen:\n",
        "                dfs(node, seen)\n",
        "                count += 1\n",
        "\n",
        "        return count\n",
        "\n",
        "\n",
        "# BFS\n",
        "from collections import defaultdict, deque\n",
        "class Solution:\n",
        "    def countComponents(self, n: int, edges: List[List[int]]) -> int:\n",
        "        graph = defaultdict(list)\n",
        "\n",
        "        for x, y in edges:\n",
        "            graph[x].append(y)\n",
        "            graph[y].append(x)\n",
        "\n",
        "        def bfs(node, seen):\n",
        "            queue = deque([node])\n",
        "            while queue:\n",
        "                current_node = queue.popleft()\n",
        "                for neighbour in graph[current_node]:\n",
        "                    if neighbour not in seen:\n",
        "                        seen.add(neighbour)\n",
        "                        queue.append(neighbour)\n",
        "\n",
        "        seen = set()\n",
        "        count = 0\n",
        "\n",
        "        for node in range(n):\n",
        "            if node not in seen:\n",
        "                seen.add(node)\n",
        "                bfs(node, seen)\n",
        "                count += 1\n",
        "        return count"
      ]
    },
    {
      "cell_type": "markdown",
      "metadata": {
        "id": "NqA1_flZ3NJ9"
      },
      "source": [
        "# Combination Sum"
      ]
    },
    {
      "cell_type": "code",
      "execution_count": null,
      "metadata": {
        "id": "9a17iSmk3wsn"
      },
      "outputs": [],
      "source": [
        "# Combination Sum [https://leetcode.com/problems/combination-sum/]\n",
        "\n",
        "class Solution:\n",
        "    def combinationSum(self, candidates: List[int], target: int) -> List[List[int]]:\n",
        "        result = []\n",
        "        candidates.sort()\n",
        "        self.dfs(candidates, target, [], 0,  result)\n",
        "\n",
        "        return result\n",
        "\n",
        "    def dfs(self, nums, target, path, index, result):\n",
        "        if target < 0:\n",
        "            return\n",
        "\n",
        "        if target == 0:\n",
        "            result.append(path)\n",
        "            return\n",
        "\n",
        "        for i in range(index, len(nums)):\n",
        "            self.dfs(nums, target - nums[i] , path + [nums[i]], i, result)\n"
      ]
    },
    {
      "cell_type": "markdown",
      "metadata": {
        "id": "jnR2Pm7E3R5x"
      },
      "source": [
        "# Word Break - Important"
      ]
    },
    {
      "cell_type": "code",
      "execution_count": null,
      "metadata": {
        "id": "huXxHbB4333p"
      },
      "outputs": [],
      "source": [
        "# Word Break [https://leetcode.com/problems/word-break/]\n",
        "\n",
        "class Solution:\n",
        "    def wordBreak(self, s: str, wordDict: List[str]) -> bool:\n",
        "        store = set(wordDict)\n",
        "        dp = [False for i in range(len(s) + 1)]\n",
        "        dp[0] = True\n",
        "\n",
        "        for i in range(1, len(s) + 1):\n",
        "            for j in range(i):\n",
        "                if dp[j] and s[j:i] in store:\n",
        "                    dp[i] = True\n",
        "                    break\n",
        "        return dp[-1]\n",
        "\n",
        "\n",
        "\n",
        "# O(n^3) time, O(n) space\n",
        "class Solution:\n",
        "    def wordBreak(self, s: str, wordDict: List[str]) -> bool:\n",
        "        queue = collections.deque([s])\n",
        "        visited = set()\n",
        "\n",
        "        while queue:\n",
        "            word = queue.popleft()\n",
        "\n",
        "            if word in visited:\n",
        "                continue\n",
        "\n",
        "            if not word:\n",
        "                return True\n",
        "            else:\n",
        "                visited.add(word)\n",
        "\n",
        "                for value in wordDict:\n",
        "                    if word.startswith(value):\n",
        "                        queue.append(word[len(value):])\n",
        "\n",
        "        return False\n"
      ]
    },
    {
      "cell_type": "markdown",
      "metadata": {
        "id": "41K4vS9C3WeD"
      },
      "source": [
        "# Shuffle an Array"
      ]
    },
    {
      "cell_type": "code",
      "execution_count": null,
      "metadata": {
        "id": "ERqKTs_JtP_X"
      },
      "outputs": [],
      "source": [
        "# Shuffle an Array [https://leetcode.com/problems/shuffle-an-array/]\n",
        "# O(n^2) time O(n) space\n",
        "\n",
        "class Solution:\n",
        "\n",
        "    def __init__(self, nums: List[int]):\n",
        "        self.nums = nums\n",
        "        self.backup_nums = list(nums)\n",
        "\n",
        "    def reset(self) -> List[int]:\n",
        "        self.nums = list(self.backup_nums)\n",
        "        return self.nums\n",
        "\n",
        "\n",
        "    def shuffle(self) -> List[int]:\n",
        "        array = self.nums\n",
        "        for i in range(len(array)):\n",
        "            random_idx = random.randint(0, len(array) - 1)\n",
        "            array[i], array[random_idx] = array[random_idx], array[i]\n",
        "\n",
        "        return array\n",
        "\n",
        "\n",
        "\n",
        "# O(n) time O(n) space\n",
        "class Solution:\n",
        "\n",
        "    def __init__(self, nums: List[int]):\n",
        "        self.nums = nums\n",
        "        self.backup_nums = list(nums)\n",
        "\n",
        "    def reset(self) -> List[int]:\n",
        "        self.nums = list(self.backup_nums)\n",
        "        return self.nums\n",
        "\n",
        "\n",
        "    def shuffle(self) -> List[int]:\n",
        "        array = self.nums\n",
        "        for i in range(len(array)):\n",
        "            random_idx = random.randint(i, len(array) - 1)\n",
        "            array[i], array[random_idx] = array[random_idx], array[i]\n",
        "\n",
        "        return array"
      ]
    },
    {
      "cell_type": "markdown",
      "metadata": {
        "id": "UafwtIxl3yzX"
      },
      "source": [
        "# Linked List Random Node"
      ]
    },
    {
      "cell_type": "code",
      "execution_count": null,
      "metadata": {
        "id": "aUZt-hTyB8g1"
      },
      "outputs": [],
      "source": [
        "# Linked List Random Node [https://leetcode.com/problems/linked-list-random-node/]\n",
        "# O(n) time O(n) space\n",
        "\n",
        "class Solution:\n",
        "\n",
        "    def __init__(self, head: Optional[ListNode]):\n",
        "        self.range = []\n",
        "        while head:\n",
        "            self.range.append(head.val)\n",
        "            head = head.next\n",
        "\n",
        "    def getRandom(self) -> int:\n",
        "        pick = int(random.random() * len(self.range))\n",
        "        return self.range[pick]\n",
        "\n"
      ]
    },
    {
      "cell_type": "markdown",
      "metadata": {
        "id": "w7HWyH494GuY"
      },
      "source": [
        "# Number of Islands - Important"
      ]
    },
    {
      "cell_type": "code",
      "execution_count": null,
      "metadata": {
        "id": "asWg4c7l55n3"
      },
      "outputs": [],
      "source": [
        "# Number of Islands [https://leetcode.com/problems/number-of-islands/]\n",
        "\n",
        "class Solution:\n",
        "    def numIslands(self, grid: List[List[str]]) -> int:\n",
        "        result = 0\n",
        "\n",
        "        for row in range(len(grid)):\n",
        "            for col in range(len(grid[0])):\n",
        "                if grid[row][col] == '1':\n",
        "                    self.dfs(grid, row, col)\n",
        "                    result += 1\n",
        "        return result\n",
        "\n",
        "    def dfs(self, grid, row, col):\n",
        "        # base case\n",
        "\n",
        "        if row < 0 or row >= len(grid) or col < 0 or col >= len(grid[0]):\n",
        "            return\n",
        "\n",
        "        if grid[row][col] == '0':\n",
        "            return\n",
        "\n",
        "        grid[row][col] = '0'\n",
        "\n",
        "        self.dfs(grid, row + 1, col)\n",
        "        self.dfs(grid, row - 1, col)\n",
        "        self.dfs(grid, row, col + 1)\n",
        "        self.dfs(grid, row, col - 1)\n",
        "\n",
        "class Solution:\n",
        "    def numIslands(self, grid: List[List[str]]) -> int:\n",
        "        max_row, max_col = len(grid), len(grid[0])\n",
        "        result = 0\n",
        "        neighbours = [(1, 0), (-1, 0), (0, 1), (0, -1)]\n",
        "\n",
        "        def dfs(grid, row, col):\n",
        "            if row < 0 or row >= max_row or col < 0 or col >= max_col or grid[row][col] == \"0\":\n",
        "                return\n",
        "\n",
        "            grid[row][col] = \"0\"\n",
        "\n",
        "            for r, c in neighbours:\n",
        "                dfs(grid, row + r, col + c)\n",
        "\n",
        "\n",
        "\n",
        "        for row in range(max_row):\n",
        "            for col in range(max_col):\n",
        "                if grid[row][col] == \"1\":\n",
        "                    dfs(grid, row, col)\n",
        "                    result += 1\n",
        "\n",
        "        return result\n"
      ]
    },
    {
      "cell_type": "markdown",
      "metadata": {
        "id": "5vG4r-IO4Mlg"
      },
      "source": [
        "# Add Binary"
      ]
    },
    {
      "cell_type": "code",
      "execution_count": null,
      "metadata": {
        "id": "aO4mVCaAvS3J"
      },
      "outputs": [],
      "source": [
        "# Add Binary [https://leetcode.com/problems/add-binary/]\n",
        "class Solution:\n",
        "    def addBinary(self, a: str, b: str) -> str:\n",
        "        i, j, carry, res = len(a) - 1, len(b) - 1, 0, ''\n",
        "\n",
        "        while i >= 0 or j >= 0 or carry:\n",
        "            if i >= 0:\n",
        "                carry += int(a[i])\n",
        "                i -= 1\n",
        "\n",
        "            if j >= 0:\n",
        "                carry += int(b[i])\n",
        "                j -= 1\n",
        "\n",
        "            res = str(carry % 2) + res\n",
        "\n",
        "            carry //= 2\n",
        "\n",
        "\n",
        "        return res\n",
        "\n",
        "\n",
        "#  Using bit manipulation\n",
        "class Solution:\n",
        "    def addBinary(self, a: str, b: str) -> str:\n",
        "        x, y = int(a, 2), int(b, 2)\n",
        "        while y:\n",
        "            answer = x ^ y\n",
        "            carry = (x & y) << 1\n",
        "            x, y = answer,  carry\n",
        "\n",
        "        return bin(x)[2:]"
      ]
    },
    {
      "cell_type": "markdown",
      "metadata": {
        "id": "xb_-VhM3ewD0"
      },
      "source": [
        "#  Subsets II"
      ]
    },
    {
      "cell_type": "code",
      "execution_count": null,
      "metadata": {
        "colab": {
          "base_uri": "https://localhost:8080/"
        },
        "id": "Xd5d9AxVe4q_",
        "outputId": "4543c289-5d26-46fc-b06d-495349b4caea"
      },
      "outputs": [
        {
          "data": {
            "text/plain": [
              "['43ere', '', '', 'fdddg3533', '', 'rfe333']"
            ]
          },
          "execution_count": 1,
          "metadata": {},
          "output_type": "execute_result"
        }
      ],
      "source": [
        "#  Subsets II [https://leetcode.com/problems/subsets-ii/]\n",
        "# O(n * 2 ** n) time, O(n) space\n",
        "class Solution:\n",
        "    def subsetsWithDup(self, nums: List[int]) -> List[List[int]]:\n",
        "        result = [[]]\n",
        "        nums.sort()\n",
        "        for num in nums:\n",
        "            result += [cur + [num] for cur in result if cur + [num] not in result]\n",
        "\n",
        "        return result\n",
        "\n",
        "\n",
        "# O(2^n) time\n",
        "class Solution:\n",
        "    def subsetsWithDup(self, nums: List[int]) -> List[List[int]]:\n",
        "        result = []\n",
        "        nums.sort()\n",
        "        self.dfs(nums, [], result)\n",
        "\n",
        "        return result\n",
        "\n",
        "    def dfs(self, nums, path, result):\n",
        "        result.append(path)\n",
        "        for i in range(len(nums)):\n",
        "            if i > 0 and nums[i] == nums[i-1]:\n",
        "                continue\n",
        "\n",
        "            self.dfs(nums[i+1:], path + [nums[i]], result)"
      ]
    },
    {
      "cell_type": "markdown",
      "metadata": {
        "id": "8lwmqeOj9AAA"
      },
      "source": [
        "# Binary Search Tree Iterator"
      ]
    },
    {
      "cell_type": "code",
      "execution_count": null,
      "metadata": {
        "id": "gLTbOvhR9Chi"
      },
      "outputs": [],
      "source": [
        "# Binary Search Tree Iterator [https://leetcode.com/problems/binary-search-tree-iterator/]\n",
        "\n",
        "# O(n) time, O(n) space\n",
        "class BSTIterator:\n",
        "\n",
        "    def __init__(self, root: Optional[TreeNode]):\n",
        "        self.nodes = []\n",
        "        self.index = -1\n",
        "        self.inorder_traversal(root)\n",
        "\n",
        "    # O(1) time, O(1) space\n",
        "    def next(self) -> int:\n",
        "        self.index += 1\n",
        "        if self.index < len(self.nodes):\n",
        "            return self.nodes[self.index]\n",
        "        return None\n",
        "\n",
        "    # O(1) time, O(1) space\n",
        "    def hasNext(self) -> bool:\n",
        "        if self.index + 1 < len(self.nodes):\n",
        "            return True\n",
        "        return False\n",
        "\n",
        "    def inorder_traversal(self, root):\n",
        "        if not root:\n",
        "            return\n",
        "\n",
        "        self.inorder_traversal(root.left)\n",
        "        self.nodes.append(root.val)\n",
        "        self.inorder_traversal(root.right)\n",
        "\n",
        "\n",
        "# O(n) time, O(h) space\n",
        "class BSTIterator:\n",
        "\n",
        "    def __init__(self, root: Optional[TreeNode]):\n",
        "        self.stack = []\n",
        "        self.left_inorder_traversal(root)\n",
        "\n",
        "    # O(h) time, O(1) space\n",
        "    def next(self) -> int:\n",
        "        result = self.stack.pop()\n",
        "\n",
        "        if result.right:\n",
        "            self.left_inorder_traversal(result.right)\n",
        "\n",
        "        return result.val\n",
        "\n",
        "    # O(1) time, O(1) space\n",
        "    def hasNext(self) -> bool:\n",
        "        return len(self.stack) > 0\n",
        "\n",
        "    def left_inorder_traversal(self, root):\n",
        "        while root:\n",
        "            self.stack.append(root)\n",
        "            root = root.left"
      ]
    },
    {
      "cell_type": "markdown",
      "metadata": {
        "id": "42QbIx5Cs60F"
      },
      "source": [
        "# Binary Tree Vertical Order Traversal - Important"
      ]
    },
    {
      "cell_type": "code",
      "execution_count": null,
      "metadata": {
        "id": "V5XPWEpzwQZe"
      },
      "outputs": [],
      "source": [
        "# Binary Tree Vertical Order Traversal [https://leetcode.com/problems/binary-tree-vertical-order-traversal/]\n",
        "\n",
        "# O(nlogn) time, O(n) space\n",
        "# nlogn because of sort\n",
        "# BFS\n",
        "class Solution:\n",
        "    def verticalOrder(self, root: Optional[TreeNode]) -> List[List[int]]:\n",
        "        mapp = collections.defaultdict(list)\n",
        "\n",
        "        queue = deque([(root, 0)])\n",
        "\n",
        "        while queue:\n",
        "            node, column = queue.popleft()\n",
        "\n",
        "            if node is not None:\n",
        "                mapp[column].append(node.val)\n",
        "                queue.append((node.left, column -1))\n",
        "                queue.append((node.right, column + 1))\n",
        "\n",
        "        return [mapp[x] for x in sorted(mapp.keys())]\n",
        "\n",
        "# O(n) time, O(n) space\n",
        "# BFS\n",
        "class Solution:\n",
        "    def verticalOrder(self, root: Optional[TreeNode]) -> List[List[int]]:\n",
        "        if root is None:\n",
        "            return []\n",
        "\n",
        "        mapp = collections.defaultdict(list)\n",
        "\n",
        "        min_col, max_col =0, 0\n",
        "\n",
        "        queue = deque([(root, 0)])\n",
        "\n",
        "        while queue:\n",
        "            node, column = queue.popleft()\n",
        "\n",
        "            if node is not None:\n",
        "                mapp[column].append(node.val)\n",
        "\n",
        "                min_col = min(min_col, column)\n",
        "                max_col = max(max_col, column)\n",
        "\n",
        "                queue.append((node.left, column -1))\n",
        "                queue.append((node.right, column + 1))\n",
        "\n",
        "        return [mapp[i] for i in range(min_col, max_col + 1)]"
      ]
    },
    {
      "cell_type": "markdown",
      "metadata": {
        "id": "G-um9d4tMCzK"
      },
      "source": [
        "# Find Peak Element - Important"
      ]
    },
    {
      "cell_type": "code",
      "execution_count": null,
      "metadata": {
        "id": "AD5rkwtGMHMO"
      },
      "outputs": [],
      "source": [
        "# Find Peak Element [https://leetcode.com/problems/find-peak-element/]\n",
        "# O(n) time O(1) space\n",
        "\n",
        "class Solution:\n",
        "    def findPeakElement(self, nums: List[int]) -> int:\n",
        "        for i in range(0, len(nums) - 1):\n",
        "            if nums[i] > nums[i + 1]:\n",
        "                return i\n",
        "\n",
        "        return len(nums) - 1\n",
        "\n",
        "# O(log n) time O(1) space\n",
        "class Solution:\n",
        "    def findPeakElement(self, nums: List[int]) -> int:\n",
        "        l, r = 0, len(nums) - 1\n",
        "\n",
        "        while l < r:\n",
        "            mid = (l+r) // 2\n",
        "            if nums[mid] > nums[mid + 1]:\n",
        "                r = mid\n",
        "            else:\n",
        "                l = mid + 1\n",
        "\n",
        "        return l"
      ]
    },
    {
      "cell_type": "markdown",
      "metadata": {
        "id": "rsDE32XB3Fz-"
      },
      "source": [
        "# Generate Parentheses\n"
      ]
    },
    {
      "cell_type": "code",
      "execution_count": null,
      "metadata": {
        "id": "0r9RWXrv3LVK"
      },
      "outputs": [],
      "source": [
        "# Generate Parentheses [https://leetcode.com/problems/generate-parentheses/]\n",
        "\n",
        "class Solution:\n",
        "    def generateParenthesis(self, n: int) -> List[str]:\n",
        "        def generate(left, right, cur, res):\n",
        "            if left == right == 0:\n",
        "                res.append(cur)\n",
        "                return res\n",
        "\n",
        "            if left > 0:\n",
        "                generate(left - 1, right, cur + '(', res)\n",
        "\n",
        "            if right > left:\n",
        "                generate(left, right-1, cur + ')', res)\n",
        "\n",
        "            return res\n",
        "\n",
        "\n",
        "        res = generate(n, n, '', [])\n",
        "\n",
        "        return res"
      ]
    },
    {
      "cell_type": "markdown",
      "metadata": {
        "id": "6ISJopQRTMKp"
      },
      "source": [
        "# Longest Substring with At Most K Distinct Characters"
      ]
    },
    {
      "cell_type": "code",
      "execution_count": null,
      "metadata": {
        "id": "4T1_1Ya_TOG2"
      },
      "outputs": [],
      "source": [
        "# Longest Substring with At Most K Distinct Characters [https://leetcode.com/problems/longest-substring-with-at-most-k-distinct-characters/]\n",
        "# O(n) time, O(k) space\n",
        "class Solution:\n",
        "    def lengthOfLongestSubstringKDistinct(self, s: str, k: int) -> int:\n",
        "        mapp = collections.OrderedDict()\n",
        "        left, right, n, max_len = 0, 0, len(s), 1\n",
        "\n",
        "        if len(s) == 0 or k == 0:\n",
        "            return 0\n",
        "\n",
        "        while right < n:\n",
        "            char = s[right]\n",
        "\n",
        "            if char in mapp:\n",
        "                del mapp[char]\n",
        "            mapp[char] = right\n",
        "            right += 1\n",
        "\n",
        "            if len(mapp) == k + 1:\n",
        "                _, idx = mapp.popitem(last=False)\n",
        "                left = idx + 1\n",
        "\n",
        "            max_len = max(max_len, right - left)\n",
        "\n",
        "        return max_len"
      ]
    },
    {
      "cell_type": "markdown",
      "metadata": {
        "id": "vyY2bGuPXWRX"
      },
      "source": [
        "# Longest Substring with At Most Two Distinct Characters"
      ]
    },
    {
      "cell_type": "code",
      "execution_count": null,
      "metadata": {
        "id": "Nqt9EWG3XZI0"
      },
      "outputs": [],
      "source": [
        "# Longest Substring with At Most Two Distinct Characters [https://leetcode.com/problems/longest-substring-with-at-most-two-distinct-characters/]\n",
        "# O(n) time, O(1) space because the map uses a max of 3 chars\n",
        "\n",
        "class Solution:\n",
        "    def lengthOfLongestSubstringTwoDistinct(self, s: str) -> int:\n",
        "        mapp = collections.defaultdict(int)\n",
        "        n, left, right, max_len = len(s), 0, 0, 2\n",
        "\n",
        "        if n < 3:\n",
        "            return n\n",
        "\n",
        "        while right < n:\n",
        "            mapp[s[right]] = right\n",
        "            right += 1\n",
        "\n",
        "            if len(mapp) == 3:\n",
        "                idx = min(mapp.values())\n",
        "                del mapp[s[idx]]\n",
        "\n",
        "                left = idx + 1\n",
        "\n",
        "            max_len = max(max_len, right - left)\n",
        "\n",
        "        return max_len"
      ]
    },
    {
      "cell_type": "markdown",
      "metadata": {
        "id": "3r8gTfiTZ5lR"
      },
      "source": [
        "# Leftmost Column with at Least a One"
      ]
    },
    {
      "cell_type": "code",
      "execution_count": null,
      "metadata": {
        "id": "S30FDO1SaFNb"
      },
      "outputs": [],
      "source": [
        "# Leftmost Column with at Least a One [https://leetcode.com/problems/leftmost-column-with-at-least-a-one/]\n",
        "# O(N log M) time O(1) space N = no of rows, M = no of cols\n",
        "class Solution:\n",
        "    def leftMostColumnWithOne(self, binaryMatrix: 'BinaryMatrix') -> int:\n",
        "        rows, cols = binaryMatrix.dimensions()\n",
        "        smallest_idx = cols\n",
        "        for row in range(rows):\n",
        "            lo, hi = 0, cols - 1\n",
        "\n",
        "            while lo < hi:\n",
        "                mid = (lo + hi) // 2\n",
        "                if binaryMatrix.get(row, mid) == 0:\n",
        "                    lo = mid + 1\n",
        "                else:\n",
        "                    hi = mid\n",
        "\n",
        "            if binaryMatrix.get(row, lo) == 1:\n",
        "                smallest_idx = min(smallest_idx, lo)\n",
        "\n",
        "        return smallest_idx if smallest_idx != cols else -1\n",
        "\n",
        "# O(N + M) time O(1) space N = no of rows, M = no of cols\n",
        "class Solution:\n",
        "    def leftMostColumnWithOne(self, binaryMatrix: 'BinaryMatrix') -> int:\n",
        "        rows, cols = binaryMatrix.dimensions()\n",
        "\n",
        "        cur_row, cur_col = 0, cols - 1\n",
        "\n",
        "        while cur_row < rows and cur_col >= 0:\n",
        "            if binaryMatrix.get(cur_row, cur_col) == 1:\n",
        "                cur_col -= 1\n",
        "            else:\n",
        "                cur_row += 1\n",
        "\n",
        "        return cur_col + 1 if cur_col != cols -1 else -1\n"
      ]
    },
    {
      "cell_type": "markdown",
      "metadata": {
        "id": "zwq8h9_Loh0X"
      },
      "source": [
        "# Binary Tree Maximum Path Sum"
      ]
    },
    {
      "cell_type": "code",
      "execution_count": null,
      "metadata": {
        "id": "cgVF2d4moiZc"
      },
      "outputs": [],
      "source": [
        "# Binary Tree Maximum Path Sum [https://leetcode.com/problems/binary-tree-maximum-path-sum/]\n",
        "# O(n) time, O(log(n)) space or O(h) where h is height of tree\n",
        "\n",
        "class Solution:\n",
        "    def maxPathSum(self, root: Optional[TreeNode]) -> int:\n",
        "        max_sum = float('-inf')\n",
        "\n",
        "        def findMaxSum(root):\n",
        "            nonlocal max_sum\n",
        "            if root is None:\n",
        "                return 0\n",
        "\n",
        "            left_max_sum = max(findMaxSum(root.left), 0)\n",
        "            right_max_sum = max(findMaxSum(root.right), 0)\n",
        "\n",
        "            max_sum_at_node = root.val + left_max_sum + right_max_sum\n",
        "\n",
        "            max_sum = max(max_sum, max_sum_at_node)\n",
        "\n",
        "            return root.val + max(left_max_sum, right_max_sum)\n",
        "\n",
        "        findMaxSum(root)\n",
        "\n",
        "        return max_sum"
      ]
    },
    {
      "cell_type": "markdown",
      "metadata": {
        "id": "4ffGowI27uL5"
      },
      "source": [
        "# Fraction to Recurring Decimal"
      ]
    },
    {
      "cell_type": "code",
      "execution_count": null,
      "metadata": {
        "id": "R6hah0Ek7wBb"
      },
      "outputs": [],
      "source": [
        "# Fraction to Recurring Decimal [https://leetcode.com/problems/fraction-to-recurring-decimal/]\n",
        "\n",
        "class Solution:\n",
        "    def fractionToDecimal(self, numerator: int, denominator: int) -> str:\n",
        "        sign = '-' if numerator * denominator < 0 else ''\n",
        "\n",
        "        main, remainder = divmod(abs(numerator), abs(denominator))\n",
        "\n",
        "        tail, seen = '', {}\n",
        "\n",
        "        while remainder != 0:\n",
        "            if remainder in seen:\n",
        "                tail = tail[:seen[remainder]] + '(' + tail[seen[remainder]:] + ')'\n",
        "                break\n",
        "            seen[remainder] = len(tail)\n",
        "            digit, remainder = divmod(abs(remainder) * 10, abs(denominator))\n",
        "            tail += str(digit)\n",
        "\n",
        "        return sign + str(main) + ('.' + tail if tail else tail)"
      ]
    },
    {
      "cell_type": "markdown",
      "metadata": {
        "id": "wLjQETBqPENo"
      },
      "source": [
        "# Is Graph Bipartite?"
      ]
    },
    {
      "cell_type": "code",
      "execution_count": null,
      "metadata": {
        "id": "7pGiaDOqPGmV"
      },
      "outputs": [],
      "source": [
        "# Is Graph Bipartite? [https://leetcode.com/problems/is-graph-bipartite/]\n",
        "# O(N+E) time, O(N) space N=nodes, E=edges\n",
        "class Solution:\n",
        "    def isBipartite(self, graph: List[List[int]]) -> bool:\n",
        "        seen = {}\n",
        "\n",
        "        for node in range(len(graph)):\n",
        "            if node not in seen:\n",
        "                if not self.helper(node, seen, graph, 1):\n",
        "                    return False\n",
        "\n",
        "        return True\n",
        "\n",
        "    def helper(self, node, seen, graph, color):\n",
        "        if node in seen:\n",
        "            if color != seen[node]:\n",
        "                return False\n",
        "            return True\n",
        "\n",
        "        seen[node] = color\n",
        "\n",
        "        for nei in graph[node]:\n",
        "            if not self.helper(nei, seen, graph, -color):\n",
        "                return False\n",
        "\n",
        "        return True"
      ]
    },
    {
      "cell_type": "markdown",
      "metadata": {
        "id": "tgldQf2_PyIE"
      },
      "source": [
        "# Maximum Swap - Important"
      ]
    },
    {
      "cell_type": "code",
      "execution_count": null,
      "metadata": {
        "colab": {
          "base_uri": "https://localhost:8080/"
        },
        "id": "nxtsPVwCP0cE",
        "outputId": "9bf1e308-9013-4f2e-be55-336b45e4e106"
      },
      "outputs": [
        {
          "data": {
            "text/plain": [
              "['o', 'p']"
            ]
          },
          "execution_count": 1,
          "metadata": {},
          "output_type": "execute_result"
        }
      ],
      "source": [
        "# Maximum Swap [https://leetcode.com/problems/maximum-swap/]\n",
        "# O(n) time\n",
        "class Solution:\n",
        "    def maximumSwap(self, num: int) -> int:\n",
        "        nums = list(str(num))\n",
        "        p, q, max_i = -1, -1, len(nums) - 1\n",
        "\n",
        "        for i in range(len(nums)-1, -1, -1):\n",
        "            if nums[i] > nums[max_i]:\n",
        "                max_i = i\n",
        "            elif nums[i] < nums[max_i]:\n",
        "                p, q = i, max_i\n",
        "\n",
        "        if p > -1:\n",
        "            nums[p], nums[q] = nums[q], nums[p]\n",
        "\n",
        "        return int(''.join(nums))"
      ]
    },
    {
      "cell_type": "markdown",
      "metadata": {
        "id": "sa_JK9KYV3CK"
      },
      "source": [
        "# Find the Duplicate Number - Important"
      ]
    },
    {
      "cell_type": "code",
      "execution_count": null,
      "metadata": {
        "id": "Hur74QJ3V3yx"
      },
      "outputs": [],
      "source": [
        "# Find the Duplicate Number [https://leetcode.com/problems/find-the-duplicate-number/]\n",
        "# O(n) time, O(1) space\n",
        "# negative marking\n",
        "\n",
        "class Solution:\n",
        "    def findDuplicate(self, nums: List[int]) -> int:\n",
        "        for num in nums:\n",
        "            cur = abs(num)\n",
        "            if nums[cur] < 0:\n",
        "                duplicate = cur\n",
        "                break\n",
        "            nums[cur] = -nums[cur]\n",
        "\n",
        "        for i in range(len(nums)):\n",
        "            nums[i] = abs(nums[i])\n",
        "\n",
        "        return duplicate\n",
        "\n",
        "# O(n) time, O(1) space\n",
        "class Solution:\n",
        "    def findDuplicate(self, nums: List[int]) -> int:\n",
        "        while nums[0] != nums[nums[0]]:\n",
        "            nums[nums[0]], nums[0] = nums[0], nums[nums[0]]\n",
        "        return nums[0]\n",
        "\n",
        "# O(n) time, O(1) space Floyd's tortoise hare cycle\n",
        "class Solution:\n",
        "    def findDuplicate(self, nums: List[int]) -> int:\n",
        "        tortoise = hare = nums[0]\n",
        "        while True:\n",
        "            hare = nums[nums[hare]]\n",
        "            tortoise = nums[tortoise]\n",
        "            if hare == tortoise:\n",
        "                break\n",
        "\n",
        "        tortoise = nums[0]\n",
        "        while tortoise != hare:\n",
        "            tortoise = nums[tortoise]\n",
        "            hare = nums[hare]\n",
        "\n",
        "        return hare"
      ]
    },
    {
      "cell_type": "markdown",
      "metadata": {
        "id": "hVOOKDeEHIKO"
      },
      "source": [
        "# First Missing Positive ++"
      ]
    },
    {
      "cell_type": "code",
      "execution_count": null,
      "metadata": {
        "id": "bk8nPMWnHJh3"
      },
      "outputs": [],
      "source": [
        "# First Missing Positive [https://leetcode.com/problems/first-missing-positive/]\n",
        "\n",
        "# O(nlogn) time\n",
        "class Solution:\n",
        "    def firstMissingPositive(self, nums: List[int]) -> int:\n",
        "        nums.sort()\n",
        "        res = 1\n",
        "        for num in nums:\n",
        "            if num == res:\n",
        "                res += 1\n",
        "        return res\n",
        "\n",
        "\n",
        "# O(n) time\n",
        "class Solution:\n",
        "    def firstMissingPositive(self, nums: List[int]) -> int:\n",
        "        n = len(nums)\n",
        "        if 1 not in nums:\n",
        "            return 1\n",
        "\n",
        "        for i in range(n):\n",
        "            if nums[i] <= 0 or nums[i] > n:\n",
        "                nums[i] = 1\n",
        "\n",
        "        for i in range(n):\n",
        "            a = abs(nums[i])\n",
        "\n",
        "            if a == n:\n",
        "                nums[0] = - abs(nums[0])\n",
        "            else:\n",
        "                nums[a] = - abs(nums[a])\n",
        "\n",
        "        for i in range(1, n):\n",
        "            if nums[i] > 0:\n",
        "                return i\n",
        "\n",
        "        if nums[0] > 0:\n",
        "            return n\n",
        "\n",
        "        return n + 1\n"
      ]
    },
    {
      "cell_type": "markdown",
      "metadata": {
        "id": "PwO1r_XojNgs"
      },
      "source": [
        "# Median of Two Sorted Arrays"
      ]
    },
    {
      "cell_type": "code",
      "execution_count": null,
      "metadata": {
        "id": "AQ-4msfOjcQv"
      },
      "outputs": [],
      "source": [
        "# Median of Two Sorted Arrays [https://leetcode.com/problems/median-of-two-sorted-arrays/]\n",
        "# O(nlogn) time O(nums1 + nums2) space\n",
        "class Solution:\n",
        "    def findMedianSortedArrays(self, nums1: List[int], nums2: List[int]) -> float:\n",
        "        r = sorted(nums1 + nums2)\n",
        "\n",
        "        if len(r) == 0:\n",
        "            return 0\n",
        "\n",
        "        if len(r) == 1:\n",
        "            return r[0]\n",
        "\n",
        "        if len(r) % 2 == 0:\n",
        "            mid = len(r) // 2 - 1\n",
        "            l = mid + 1\n",
        "            return (r[mid] + r[l]) / 2\n",
        "        else:\n",
        "            mid = len(r) // 2\n",
        "\n",
        "            return r[mid]"
      ]
    },
    {
      "cell_type": "markdown",
      "metadata": {
        "id": "DlqR_0t0Riz9"
      },
      "source": [
        "#  Kth Largest Element in an Array - Important"
      ]
    },
    {
      "cell_type": "code",
      "execution_count": null,
      "metadata": {
        "id": "OFTo9I3GRnO9"
      },
      "outputs": [],
      "source": [
        "#  Kth Largest Element in an Array [https://leetcode.com/problems/kth-largest-element-in-an-array/]\n",
        "\n",
        "# O(nlogn) time, O(1) space\n",
        "class Solution:\n",
        "    def findKthLargest(self, nums: List[int], k: int) -> int:\n",
        "        nums = sorted(nums)\n",
        "\n",
        "        return nums[-k]\n",
        "\n",
        "# O(nlogk) time, O(k) space\n",
        "import heapq\n",
        "class Solution:\n",
        "    def findKthLargest(self, nums: List[int], k: int) -> int:\n",
        "        return heapq.nlargest(k, nums)[-1]\n",
        "\n",
        "# O(nlogk) time, O(k) space\n",
        "class Solution:\n",
        "    def findKthLargest(self, nums: List[int], k: int) -> int:\n",
        "        heap = []\n",
        "\n",
        "        for num in nums:\n",
        "            heapq.heappush(heap, num)\n",
        "\n",
        "            if len(heap) > k:\n",
        "                heapq.heappop(heap)\n",
        "\n",
        "        return heap[0]"
      ]
    },
    {
      "cell_type": "markdown",
      "metadata": {
        "id": "Qhtg-ennYsbC"
      },
      "source": [
        "# Find All Numbers Disappeared in an Array - Important"
      ]
    },
    {
      "cell_type": "code",
      "execution_count": null,
      "metadata": {
        "id": "cNzh47WwYvfe"
      },
      "outputs": [],
      "source": [
        "# Find All Numbers Disappeared in an Array [https://leetcode.com/problems/find-all-numbers-disappeared-in-an-array/]\n",
        "\n",
        "# O(n) time O(n) space\n",
        "class Solution:\n",
        "    def findDisappearedNumbers(self, nums: List[int]) -> List[int]:\n",
        "        res = [i for i in range(1, len(nums)+1)]\n",
        "\n",
        "        return set(res).difference(nums)\n",
        "\n",
        "# O(n) time O(1) space\n",
        "class Solution:\n",
        "    def findDisappearedNumbers(self, nums: List[int]) -> List[int]:\n",
        "        res = []\n",
        "        for i in range(len(nums)):\n",
        "            idx = abs(nums[i]) - 1\n",
        "            if nums[idx] > 0:\n",
        "                nums[idx] *= -1\n",
        "\n",
        "        for i in range(1, len(nums)+1):\n",
        "            if nums[i-1] > 0:\n",
        "                res.append(i)\n",
        "\n",
        "        return res"
      ]
    },
    {
      "cell_type": "markdown",
      "metadata": {
        "id": "G1cL2cQUc5lA"
      },
      "source": [
        "# Binary Tree Level Order Traversal"
      ]
    },
    {
      "cell_type": "code",
      "execution_count": null,
      "metadata": {
        "id": "qklFu_FRc7uJ"
      },
      "outputs": [],
      "source": [
        "# Binary Tree Level Order Traversal [https://leetcode.com/problems/binary-tree-level-order-traversal/]\n",
        "\n",
        "# O(n) time, O(n) space\n",
        "from collections import deque\n",
        "class Solution:\n",
        "    def levelOrder(self, root: Optional[TreeNode]) -> List[List[int]]:\n",
        "        queue, res = deque([(root, 0)]), []\n",
        "\n",
        "        while queue:\n",
        "            node, level = queue.popleft()\n",
        "            if node:\n",
        "                if level > len(res) - 1:\n",
        "                    res.append([node.val])\n",
        "\n",
        "                else:\n",
        "                    res[level].append(node.val)\n",
        "\n",
        "                if node.left:\n",
        "                    queue.append((node.left, level + 1))\n",
        "\n",
        "                if node.right:\n",
        "                    queue.append((node.right, level + 1))\n",
        "\n",
        "        return res\n"
      ]
    },
    {
      "cell_type": "markdown",
      "metadata": {
        "id": "rQGgWpgbOfKA"
      },
      "source": [
        "# Construct Binary Tree from Inorder and Postorder Traversal"
      ]
    },
    {
      "cell_type": "code",
      "execution_count": null,
      "metadata": {
        "id": "NDsEl_YjOhoc"
      },
      "outputs": [],
      "source": [
        "# Construct Binary Tree from Inorder and Postorder Traversal [https://leetcode.com/problems/construct-binary-tree-from-inorder-and-postorder-traversal/]\n",
        "\n",
        "# Definition for a binary tree node.\n",
        "# class TreeNode:\n",
        "#     def __init__(self, val=0, left=None, right=None):\n",
        "#         self.val = val\n",
        "#         self.left = left\n",
        "#         self.right = right\n",
        "\n",
        "# O(n) time O(n) space\n",
        "class Solution:\n",
        "    def buildTree(self, inorder: List[int], postorder: List[int]) -> Optional[TreeNode]:\n",
        "        mapp = {}\n",
        "        for idx, val in enumerate(inorder):\n",
        "            mapp[val] = idx\n",
        "\n",
        "        return self.helper(0, len(postorder) - 1, mapp, postorder)\n",
        "\n",
        "    def helper(self, inleft, inright, mapp, postorder):\n",
        "        if inleft > inright:\n",
        "            return None\n",
        "\n",
        "        val = postorder.pop()\n",
        "        root = TreeNode(val)\n",
        "\n",
        "        idx = mapp[val]\n",
        "\n",
        "        root.right = self.helper(idx + 1, inright, mapp, postorder)\n",
        "        root.left = self.helper(inleft, idx - 1, mapp, postorder)\n",
        "\n",
        "        return root"
      ]
    },
    {
      "cell_type": "markdown",
      "metadata": {
        "id": "Cqw3gO7tOsjr"
      },
      "source": [
        "# Construct Binary Tree from Preorder and Inorder Traversal"
      ]
    },
    {
      "cell_type": "code",
      "execution_count": null,
      "metadata": {
        "id": "OY3FMitHOzEF"
      },
      "outputs": [],
      "source": [
        "# Construct Binary Tree from Preorder and Inorder Traversal [https://leetcode.com/problems/construct-binary-tree-from-preorder-and-inorder-traversal/]\n",
        "# Definition for a binary tree node.\n",
        "# class TreeNode:\n",
        "#     def __init__(self, val=0, left=None, right=None):\n",
        "#         self.val = val\n",
        "#         self.left = left\n",
        "#         self.right = right\n",
        "\n",
        "# O(n) time O(n) space\n",
        "class Solution:\n",
        "    def buildTree(self, preorder: List[int], inorder: List[int]) -> Optional[TreeNode]:\n",
        "        mapp = {}\n",
        "        preorder = collections.deque(preorder)\n",
        "        for idx, val in enumerate(inorder):\n",
        "            mapp[val] = idx\n",
        "        return self.helper(0, len(preorder) - 1, mapp, preorder)\n",
        "\n",
        "    def helper(self, inleft, inright, mapp, preorder):\n",
        "        if inright < inleft:\n",
        "            return\n",
        "\n",
        "        val = preorder.popleft()\n",
        "        root = TreeNode(val)\n",
        "\n",
        "        idx = mapp[val]\n",
        "\n",
        "        root.left = self.helper(inleft, idx - 1, mapp, preorder)\n",
        "        root.right = self.helper(idx + 1, inright, mapp, preorder)\n",
        "\n",
        "        return root"
      ]
    },
    {
      "cell_type": "markdown",
      "metadata": {
        "id": "PnxN3F0IS5YT"
      },
      "source": [
        "# Populating Next Right Pointers in Each Node"
      ]
    },
    {
      "cell_type": "code",
      "execution_count": null,
      "metadata": {
        "id": "RyrMaXXgS7SB"
      },
      "outputs": [],
      "source": [
        "# Populating Next Right Pointers in Each Node [https://leetcode.com/problems/populating-next-right-pointers-in-each-node/]\n",
        "O(n) time, O(1) space\n",
        "class Solution:\n",
        "    def connect(self, root: 'Optional[Node]') -> 'Optional[Node]':\n",
        "        if not root:\n",
        "            return\n",
        "\n",
        "        leftmost = root\n",
        "\n",
        "        while leftmost.left:\n",
        "            head = leftmost\n",
        "\n",
        "            while head:\n",
        "                head.left.next = head.right\n",
        "\n",
        "                if head.next:\n",
        "                    head.right.next = head.next.left\n",
        "\n",
        "                head = head.next\n",
        "\n",
        "            leftmost = leftmost.left\n",
        "\n",
        "        return root"
      ]
    },
    {
      "cell_type": "markdown",
      "metadata": {
        "id": "ZiyORWs9lRIs"
      },
      "source": [
        "# Pow(x, n) - Important"
      ]
    },
    {
      "cell_type": "code",
      "execution_count": null,
      "metadata": {
        "colab": {
          "base_uri": "https://localhost:8080/"
        },
        "id": "jJ-H3ao7lRws",
        "outputId": "f9cf65a6-ad7c-45ec-fdc0-55cac20045fa"
      },
      "outputs": [
        {
          "name": "stdout",
          "output_type": "stream",
          "text": [
            "here 2.0 -2\n",
            "here 2.0 2\n",
            "hereee 2.0 2\n",
            "hereee 4.0 1\n"
          ]
        },
        {
          "data": {
            "text/plain": [
              "0.25"
            ]
          },
          "execution_count": 7,
          "metadata": {},
          "output_type": "execute_result"
        }
      ],
      "source": [
        "# Pow(x, n) [https://leetcode.com/problems/powx-n/]\n",
        "# O(log n) time, O(log n) space\n",
        "class Solution:\n",
        "    def myPow(self, x: float, n: int) -> float:\n",
        "        if n < 0:\n",
        "            return 1 / self.pow(x, -n)\n",
        "        else:\n",
        "            return self.pow(x, n)\n",
        "\n",
        "    def pow(self, x, n):\n",
        "        if n == 0:\n",
        "            return 1\n",
        "\n",
        "        temp = self.pow(x, n // 2)\n",
        "        if n % 2 == 0:\n",
        "            return temp * temp\n",
        "        else:\n",
        "            return temp * temp * x\n",
        "\n",
        "# O(log n) time, O(1) space\n",
        "\n",
        "class Solution:\n",
        "    def myPow(self, x: float, n: int) -> float:\n",
        "        def power(x, n):\n",
        "            res = 1\n",
        "\n",
        "            while n > 0:\n",
        "                if n % 2 == 1:\n",
        "                    res *= x\n",
        "\n",
        "                x *= x\n",
        "                n //= 2\n",
        "\n",
        "            return res\n",
        "\n",
        "        if n < 0:\n",
        "            return 1 / power(x, -n)\n",
        "        else:\n",
        "            return power(x, n)\n"
      ]
    },
    {
      "cell_type": "markdown",
      "metadata": {
        "id": "A6DNfQxSlf49"
      },
      "source": [
        "# LRU Cache - Important"
      ]
    },
    {
      "cell_type": "code",
      "execution_count": null,
      "metadata": {
        "colab": {
          "base_uri": "https://localhost:8080/"
        },
        "id": "Uoy8BQfNwI1W",
        "outputId": "f5349737-6f21-4318-b843-a13bb7a5bb0d"
      },
      "outputs": [
        {
          "data": {
            "text/plain": [
              "5"
            ]
          },
          "execution_count": 9,
          "metadata": {},
          "output_type": "execute_result"
        }
      ],
      "source": [
        "#10) https://leetcode.com/problems/lru-cache\n",
        "# Dll\n",
        "# Orderdict\n",
        "\n",
        "\n",
        "class Node:\n",
        "    def __init__(self, val, key, next, prev):\n",
        "        self.val, self.key, self.next, self.prev = val, key, next, prev\n",
        "\n",
        "# moves node to the head of the dll\n",
        "# removes node from the tail\n",
        "\n",
        "class DLL:\n",
        "    def __init__(self):\n",
        "        self.head = Node(\"Head\", \"head\", None, None)\n",
        "        self.tail = Node(\"Tail\", \"tail\", None, None)\n",
        "\n",
        "\n",
        "        self.head.next = self.tail\n",
        "        self.tail.prev = self.head\n",
        "\n",
        "    def insert(self, node):\n",
        "        next_node = self.head.next\n",
        "        self.head.next = node\n",
        "        node.next = next_node\n",
        "        node.prev = self.head\n",
        "        next_node.prev = node\n",
        "\n",
        "    def remove(self, node):\n",
        "\n",
        "        next_node = node.next\n",
        "        prev_node =node.prev\n",
        "\n",
        "        next_node.prev = prev_node\n",
        "        prev_node.next = next_node\n",
        "\n",
        "        node.next = None\n",
        "        node.prev = None\n",
        "        return node\n",
        "\n",
        "    def movetohead(self, node):\n",
        "        node = self.remove(node)\n",
        "        self.insert(node)\n",
        "\n",
        "    def removeTail(self):\n",
        "        node = self.tail.prev\n",
        "        node = self.remove(node)\n",
        "        key = node.key\n",
        "        del node\n",
        "        return key\n",
        "\n",
        "\n",
        "class LRUCache:\n",
        "\n",
        "    def __init__(self, capacity: int):\n",
        "        self.capacity = capacity\n",
        "        self.cache = {} # key : Node\n",
        "        self.DLL = DLL()\n",
        "\n",
        "    def get(self, key: int) -> int:\n",
        "        if key in self.cache:\n",
        "            node = self.cache[key]\n",
        "            self.DLL.movetohead(node)\n",
        "            return node.val\n",
        "        return -1\n",
        "\n",
        "    def put(self, key: int, value: int) -> None:\n",
        "        res = self.get(key)\n",
        "        if res == -1:\n",
        "            node = Node(value, key, None, None)\n",
        "            self.cache[key] = node\n",
        "            self.capacity -= 1\n",
        "            self.DLL.insert(node)\n",
        "        else:\n",
        "            node = self.cache[key]\n",
        "            node.val = value\n",
        "\n",
        "        if self.capacity < 0:\n",
        "            key = self.DLL.removeTail()\n",
        "            del self.cache[key]\n",
        "            self.capacity += 1\n",
        "\n",
        "\n",
        "from collections import OrderedDict\n",
        "class LRUCache1:\n",
        "\n",
        "    def __init__(self, capacity: int):\n",
        "        self.capacity = capacity\n",
        "        self.cache = OrderedDict() #\n",
        "\n",
        "    def get(self, key: int) -> int:\n",
        "        if key not in self.cache:\n",
        "            return -1\n",
        "        self.cache.move_to_end(key)\n",
        "        return self.cache.get(key)\n",
        "\n",
        "    def put(self, key: int, value: int) -> None:\n",
        "        self.cache[key] = value\n",
        "        self.cache.move_to_end(key)\n",
        "        if len(self.cache) > self.capacity:\n",
        "            self.cache.popitem(last = False)\n",
        "\n",
        "\n",
        "#  main solution\n",
        "class Node:\n",
        "    def __init__(self, key, val):\n",
        "        self.key = key\n",
        "        self.val = val\n",
        "        self.prev = None\n",
        "        self.next = None\n",
        "\n",
        "class LRUCache:\n",
        "\n",
        "    def __init__(self, capacity: int):\n",
        "        self.cache = {}\n",
        "        self.capacity = capacity\n",
        "        self.head = Node(0,0)\n",
        "        self.tail = Node(0,0)\n",
        "        self.tail.prev = self.head\n",
        "        self.head.next = self.tail\n",
        "\n",
        "\n",
        "    def get(self, key: int) -> int:\n",
        "        if key in self.cache:\n",
        "            self.remove(self.cache[key])\n",
        "            self.insert(self.cache[key])\n",
        "            return self.cache[key].val\n",
        "\n",
        "        return -1\n",
        "\n",
        "\n",
        "    def put(self, key: int, value: int) -> None:\n",
        "        if key in self.cache:\n",
        "            self.remove(self.cache[key])\n",
        "        self.cache[key] = Node(key, value)\n",
        "        self.insert(self.cache[key])\n",
        "\n",
        "        if len(self.cache) > self.capacity:\n",
        "            lru = self.head.next\n",
        "            self.remove(lru)\n",
        "            del self.cache[lru.key]\n",
        "\n",
        "    def remove(self, node):\n",
        "        prev, nxt = node.prev, node.next\n",
        "        prev.next = nxt\n",
        "        nxt.prev = prev\n",
        "\n",
        "    def insert(self, node):\n",
        "        prev, nxt = self.tail.prev, self.tail\n",
        "        nxt.prev = node\n",
        "        prev.next = node\n",
        "        node.prev = prev\n",
        "        node.next = nxt\n"
      ]
    },
    {
      "cell_type": "markdown",
      "metadata": {
        "id": "7qrdjpaRA4PI"
      },
      "source": [
        "# Vertical Order Traversal of a Binary Tree ++"
      ]
    },
    {
      "cell_type": "code",
      "execution_count": null,
      "metadata": {
        "id": "lvoFBg1fA4yg"
      },
      "outputs": [],
      "source": [
        "# Vertical Order Traversal of a Binary Tree [https://leetcode.com/problems/vertical-order-traversal-of-a-binary-tree/]"
      ]
    },
    {
      "cell_type": "markdown",
      "metadata": {
        "id": "rcQ1UuTRWCnG"
      },
      "source": [
        "# Merge Intervals - Important"
      ]
    },
    {
      "cell_type": "code",
      "execution_count": null,
      "metadata": {
        "id": "M5Og7JznWECG"
      },
      "outputs": [],
      "source": [
        "# https://leetcode.com/problems/merge-intervals/\n",
        "# O(nlogn) time, O(n) space\n",
        "\n",
        "class Solution:\n",
        "    def merge(self, intervals: List[List[int]]) -> List[List[int]]:\n",
        "        intervals.sort(key= lambda x : x[0])\n",
        "        result = [intervals[0]]\n",
        "\n",
        "        for i in range(1, len(intervals)):\n",
        "            start, end = intervals[i][0], intervals[i][1]\n",
        "\n",
        "            if start > result[-1][1]:\n",
        "                result.append(intervals[i])\n",
        "\n",
        "            else:\n",
        "                if end > result[-1][1]:\n",
        "                    result[-1][1] = end\n",
        "\n",
        "        return result"
      ]
    },
    {
      "cell_type": "markdown",
      "metadata": {
        "id": "EhOI9nwQ4Txs"
      },
      "source": [
        "\n",
        "# Basic Calculator II - Important"
      ]
    },
    {
      "cell_type": "code",
      "execution_count": null,
      "metadata": {
        "colab": {
          "base_uri": "https://localhost:8080/"
        },
        "id": "OIqyl_Ac4U0Q",
        "outputId": "00410efd-2545-420f-c381-0fdc5d9c3727"
      },
      "outputs": [
        {
          "data": {
            "text/plain": [
              "2"
            ]
          },
          "execution_count": 8,
          "metadata": {},
          "output_type": "execute_result"
        }
      ],
      "source": [
        "# https://leetcode.com/problems/basic-calculator-ii/\n",
        "# O(N) time O(N) space\n",
        "\n",
        "class Solution:\n",
        "    def calculate(self, s: str) -> int:\n",
        "        if not s:\n",
        "            return 0\n",
        "\n",
        "        stack, num, sign = [], 0, '+'\n",
        "\n",
        "        for i, char in enumerate(s):\n",
        "            if char.isdigit():\n",
        "                num = num * 10 + int(char)\n",
        "\n",
        "            if char in ['+', '-', '*', '/'] or i == len(s) - 1:\n",
        "                if sign == '+':\n",
        "                    stack.append(num)\n",
        "                elif sign == '-':\n",
        "                    stack.append(-num)\n",
        "                elif sign == '*':\n",
        "                    stack.append(stack.pop() * num)\n",
        "                elif sign == '/':\n",
        "                    stack.append(int(stack.pop() / num))\n",
        "\n",
        "                num = 0\n",
        "                sign = char\n",
        "\n",
        "        return sum(stack)\n",
        "\n",
        "\n",
        "# O(n) time, O(1) space\n",
        "class Solution:\n",
        "    def calculate(self, s: str) -> int:\n",
        "        num, last, result, sign = 0, 0, 0, '+'\n",
        "\n",
        "        for i, char in enumerate(s):\n",
        "            if char.isdigit():\n",
        "                num = num * 10 + int(char)\n",
        "\n",
        "            if char in ['+', '-', '*', '/'] or i == len(s) - 1:\n",
        "                if sign == '+':\n",
        "                    result += last\n",
        "                    last = num\n",
        "                elif sign == '-':\n",
        "                    result += last\n",
        "                    last = -num\n",
        "                elif sign == '*':\n",
        "                    last *= num\n",
        "                elif sign == '/':\n",
        "                    last = int(last/num)\n",
        "                sign = char\n",
        "                num = 0\n",
        "\n",
        "        result += last\n",
        "        return result"
      ]
    },
    {
      "cell_type": "markdown",
      "metadata": {
        "id": "TYU92m4RBNb8"
      },
      "source": [
        "# Lowest Common Ancestor of a Binary Tree - Important"
      ]
    },
    {
      "cell_type": "code",
      "execution_count": null,
      "metadata": {
        "id": "ade67tnnBPEc"
      },
      "outputs": [],
      "source": [
        "# https://leetcode.com/problems/lowest-common-ancestor-of-a-binary-tree/\n",
        "\n",
        "# O(N) time, O(n) space\n",
        "\n",
        "class Solution:\n",
        "    def lowestCommonAncestor(self, root: 'TreeNode', p: 'TreeNode', q: 'TreeNode') -> 'TreeNode':\n",
        "        if root is None:\n",
        "            return None\n",
        "\n",
        "        if root == p or root == q:\n",
        "            return root\n",
        "\n",
        "        left = self.lowestCommonAncestor(root.left, p, q)\n",
        "        right = self.lowestCommonAncestor(root.right, p, q)\n",
        "\n",
        "        if left and right:\n",
        "            return root\n",
        "\n",
        "        return left if left else right"
      ]
    },
    {
      "cell_type": "markdown",
      "metadata": {
        "id": "v7fGHDz1S6bF"
      },
      "source": [
        "# Lowest Common Ancestor of a Binary Search Tree"
      ]
    },
    {
      "cell_type": "code",
      "execution_count": null,
      "metadata": {
        "id": "IKmlyajxS6x5"
      },
      "outputs": [],
      "source": [
        "# https://leetcode.com/problems/lowest-common-ancestor-of-a-binary-search-tree/\n",
        "# O(N) time, O(n) space\n",
        "# Recursive\n",
        "\n",
        "class Solution:\n",
        "    def lowestCommonAncestor(self, root: 'TreeNode', p: 'TreeNode', q: 'TreeNode') -> 'TreeNode':\n",
        "        parent, first, second = root.val, p.val, q.val\n",
        "\n",
        "        if first > parent and second > parent:\n",
        "            return self.lowestCommonAncestor(root.right, p, q)\n",
        "\n",
        "        elif first < parent and second < parent:\n",
        "            return self.lowestCommonAncestor(root.left, p, q)\n",
        "\n",
        "        else:\n",
        "            return root\n",
        "\n",
        "# O(N) time, O(1) space\n",
        "# Iterative\n",
        "class Solution:\n",
        "    def lowestCommonAncestor(self, root: 'TreeNode', p: 'TreeNode', q: 'TreeNode') -> 'TreeNode':\n",
        "        first, second = p.val, q.val\n",
        "\n",
        "        while root:\n",
        "            parent = root.val\n",
        "\n",
        "            if first > parent and second > parent:\n",
        "                root = root.right\n",
        "\n",
        "            elif first < parent and second < parent:\n",
        "                root = root.left\n",
        "\n",
        "            else:\n",
        "                return root"
      ]
    },
    {
      "cell_type": "markdown",
      "metadata": {
        "id": "VCJrZQX6TmDy"
      },
      "source": [
        "# Random Pick with Weight - Important"
      ]
    },
    {
      "cell_type": "code",
      "execution_count": null,
      "metadata": {
        "id": "RgvNO6Y0wDBr"
      },
      "outputs": [],
      "source": [
        "# https://leetcode.com/problems/random-pick-with-weight/\n",
        "\n",
        "class Solution:\n",
        "\n",
        "    def __init__(self, w: List[int]):\n",
        "        self.prefix_sum = []\n",
        "        temp = 0\n",
        "\n",
        "        for weight in w:\n",
        "            temp += weight\n",
        "            self.prefix_sum.append(temp)\n",
        "\n",
        "        self.total_sum = temp\n",
        "\n",
        "    def pickIndex(self) -> int:\n",
        "        target = self.total_sum * random.random()\n",
        "        low, high = 0, len(self.prefix_sum) - 1\n",
        "\n",
        "        while low < high:\n",
        "            mid = (low + high) // 2\n",
        "\n",
        "            if target < self.prefix_sum[mid]:\n",
        "                high = mid\n",
        "            else:\n",
        "                low = mid + 1\n",
        "\n",
        "        return low\n",
        "\n",
        "# INIT -> O(n) time O(n) space\n",
        "# pickIndex -> O(logn) time O(1) space"
      ]
    },
    {
      "cell_type": "markdown",
      "metadata": {
        "id": "r0KQlJCiz1Lm"
      },
      "source": [
        "# Dot Product of Two Sparse Vectors - Important\n",
        "\n"
      ]
    },
    {
      "cell_type": "code",
      "execution_count": null,
      "metadata": {
        "id": "Fh4-8tXdz3P-"
      },
      "outputs": [],
      "source": [
        "# https://leetcode.com/problems/dot-product-of-two-sparse-vectors/\n",
        "\n",
        "class SparseVector:\n",
        "    def __init__(self, nums: List[int]):\n",
        "        self.nums = nums\n",
        "\n",
        "    # Return the dotProduct of two sparse vectors\n",
        "    def dotProduct(self, vec: 'SparseVector') -> int:\n",
        "        nums2 = vec.nums\n",
        "\n",
        "        res = 0\n",
        "        for i in range(len(self.nums)):\n",
        "            if self.nums[i] == 0 or nums2[i] == 0:\n",
        "                continue\n",
        "\n",
        "            res += (self.nums[i] * nums2[i])\n",
        "\n",
        "        return res\n",
        "\n",
        "\n",
        "class SparseVector:\n",
        "    def __init__(self, nums: List[int]):\n",
        "        self.nonzeros = {}\n",
        "        for i, val in enumerate(nums):\n",
        "            if val != 0:\n",
        "                self.nonzeros[i] = val\n",
        "\n",
        "\n",
        "    # Return the dotProduct of two sparse vectors\n",
        "    def dotProduct(self, vec: 'SparseVector') -> int:\n",
        "        result = 0\n",
        "        for i, val in self.nonzeros.items():\n",
        "            if i in vec.nonzeros:\n",
        "                result += (vec.nonzeros[i] * val)\n",
        "\n",
        "        return result"
      ]
    },
    {
      "cell_type": "markdown",
      "metadata": {
        "id": "hsHZwZEf6C9I"
      },
      "source": [
        "# Top K Frequent Elements - Important\n",
        "\n"
      ]
    },
    {
      "cell_type": "code",
      "execution_count": null,
      "metadata": {
        "id": "LI6TkByI6FIJ"
      },
      "outputs": [],
      "source": [
        "# https://leetcode.com/problems/top-k-frequent-elements/\n",
        "\n",
        "class Solution:\n",
        "    def topKFrequent(self, nums: List[int], k: int) -> List[int]:\n",
        "        count = collections.Counter(nums)\n",
        "\n",
        "        res = sorted(count.items(), key = lambda k: k[1])[::-1][:k]\n",
        "\n",
        "        solu = []\n",
        "\n",
        "        for key, val in res:\n",
        "            solu.append(key)\n",
        "\n",
        "        return solu\n",
        "\n",
        "# O(nlogk) time  O(n + k) space\n",
        "class Solution:\n",
        "    def topKFrequent(self, nums: List[int], k: int) -> List[int]:\n",
        "        if k == len(nums):\n",
        "            return nums\n",
        "\n",
        "        count = collections.Counter(nums)\n",
        "\n",
        "        return heapq.nlargest(k, count.keys(), key=count.get)\n",
        "\n",
        "# O(n) time worst case O(n^2) O(n) space\n",
        "class Solution:\n",
        "    def topKFrequent(self, nums: List[int], k: int) -> List[int]:\n",
        "        def partition(left, right, pivot_idx):\n",
        "            pivot_freq = count[array[pivot_idx]]\n",
        "\n",
        "            array[pivot_idx], array[right] = array[right], array[pivot_idx]\n",
        "\n",
        "            result = left\n",
        "            for i in range(left, right):\n",
        "                if count[array[i]] < pivot_freq:\n",
        "                    array[result], array[i] = array[i], array[result]\n",
        "                    result += 1\n",
        "\n",
        "            array[result], array[right] = array[right], array[result]\n",
        "            return result\n",
        "\n",
        "        def quick_select(left, right, k_left):\n",
        "            if left == right:\n",
        "                return\n",
        "\n",
        "            idx = random.randint(left, right)\n",
        "\n",
        "            pivot_index = partition(left, right, idx)\n",
        "\n",
        "\n",
        "            if pivot_index == k_left:\n",
        "                return\n",
        "\n",
        "            elif k_left < pivot_index:\n",
        "                quick_select(left, pivot_index - 1, k_left)\n",
        "\n",
        "            else:\n",
        "                quick_select(pivot_index + 1, right, k_left)\n",
        "\n",
        "        count = collections.Counter(nums)\n",
        "        array = list(count.keys())\n",
        "        n = len(array)\n",
        "        quick_select(0, n - 1, n - k)\n",
        "\n",
        "        return array[n - k :]"
      ]
    },
    {
      "cell_type": "markdown",
      "metadata": {
        "id": "PGVqAw1G4rwE"
      },
      "source": [
        "# Simplify Path - Important"
      ]
    },
    {
      "cell_type": "code",
      "execution_count": null,
      "metadata": {
        "colab": {
          "base_uri": "https://localhost:8080/",
          "height": 35
        },
        "id": "p2QR6wSP4seI",
        "outputId": "9f7398fc-d87f-4435-d1e0-6e8b124d5851"
      },
      "outputs": [
        {
          "data": {
            "application/vnd.google.colaboratory.intrinsic+json": {
              "type": "string"
            },
            "text/plain": [
              "'/home/'"
            ]
          },
          "execution_count": 2,
          "metadata": {},
          "output_type": "execute_result"
        }
      ],
      "source": [
        "# https://leetcode.com/problems/simplify-path/\n",
        "# O(n) time, O(space)\n",
        "\n",
        "class Solution:\n",
        "    def simplifyPath(self, path: str) -> str:\n",
        "        stack = []\n",
        "        path = path.split('/')\n",
        "\n",
        "        for dirr in path:\n",
        "            if dirr == '..':\n",
        "                if stack:\n",
        "                    stack.pop()\n",
        "\n",
        "            elif dirr == '.' or dirr == '':\n",
        "                continue\n",
        "\n",
        "            else:\n",
        "                stack.append(dirr)\n",
        "\n",
        "\n",
        "        return '/' + '/'.join(stack)"
      ]
    },
    {
      "cell_type": "markdown",
      "metadata": {
        "id": "fkX8FP4lZ5Ld"
      },
      "source": [
        "# Buildings With an Ocean View - Important"
      ]
    },
    {
      "cell_type": "code",
      "execution_count": null,
      "metadata": {
        "id": "f2pBhUbRJR4v"
      },
      "outputs": [],
      "source": [
        "# https://leetcode.com/problems/buildings-with-an-ocean-view/\n",
        "# O(n) time and space\n",
        "# looking from left to right approach\n",
        "\n",
        "class Solution:\n",
        "    def findBuildings(self, heights: List[int]) -> List[int]:\n",
        "        answer = []\n",
        "\n",
        "        for i in range(len(heights)):\n",
        "            current = heights[i]\n",
        "            while answer and heights[answer[-1]] <= current:\n",
        "                answer.pop()\n",
        "\n",
        "            answer.append(i)\n",
        "\n",
        "        return answer"
      ]
    },
    {
      "cell_type": "markdown",
      "metadata": {
        "id": "02zfwkR10Xqz"
      },
      "source": [
        "# Copy List with Random Pointer - Important"
      ]
    },
    {
      "cell_type": "code",
      "execution_count": null,
      "metadata": {
        "id": "SE9fs35v0ZDs"
      },
      "outputs": [],
      "source": [
        "# https://leetcode.com/problems/copy-list-with-random-pointer/\n",
        "# O(n) time and space\n",
        "\n",
        "# iterative\n",
        "\n",
        "class Solution:\n",
        "    def __init__(self):\n",
        "        self.mapp = {}\n",
        "\n",
        "    def cloneNode(self, node):\n",
        "        if node:\n",
        "            if node in self.mapp:\n",
        "                return self.mapp[node]\n",
        "            else:\n",
        "                temp = Node(node.val, None, None)\n",
        "                self.mapp[node] = temp\n",
        "                return self.mapp[node]\n",
        "        return None\n",
        "\n",
        "    def copyRandomList(self, head: 'Optional[Node]') -> 'Optional[Node]':\n",
        "\n",
        "        if head is None:\n",
        "            return None\n",
        "\n",
        "        old_node = head\n",
        "        new_node = Node(head.val, None, None)\n",
        "\n",
        "        self.mapp[old_node] = new_node\n",
        "\n",
        "        while old_node:\n",
        "            new_node.next = self.cloneNode(old_node.next)\n",
        "            new_node.random = self.cloneNode(old_node.random)\n",
        "\n",
        "            old_node = old_node.next\n",
        "            new_node = new_node.next\n",
        "\n",
        "        return self.mapp[head]\n",
        "\n",
        "\n",
        "# O(n) time and space\n",
        "\n",
        "# iterative - Simplest\n",
        "class Solution:\n",
        "    def copyRandomList(self, head: 'Optional[Node]') -> 'Optional[Node]':\n",
        "        mapp = {None: None}\n",
        "\n",
        "        dummy = head\n",
        "\n",
        "        while dummy:\n",
        "            mapp[dummy] = Node(dummy.val)\n",
        "            dummy = dummy.next\n",
        "\n",
        "        curr = head\n",
        "        while curr:\n",
        "            clone_node = mapp[curr]\n",
        "            clone_node.next = mapp[curr.next]\n",
        "            clone_node.random = mapp[curr.random]\n",
        "            curr = curr.next\n",
        "\n",
        "        return mapp[head]\n",
        "\n",
        "\n",
        "\n",
        "# recursive\n",
        "class Solution(object):\n",
        "    def __init__(self):\n",
        "        # Dictionary which holds old nodes as keys and new nodes as its values.\n",
        "        self.visitedHash = {}\n",
        "\n",
        "    def copyRandomList(self, head):\n",
        "\n",
        "        if head == None:\n",
        "            return None\n",
        "\n",
        "        # If we have already processed the current node, then we simply return the cloned version of it.\n",
        "        if head in self.visitedHash:\n",
        "            return self.visitedHash[head]\n",
        "\n",
        "        # create a new node\n",
        "        # with the value same as old node.\n",
        "        node = Node(head.val, None, None)\n",
        "\n",
        "        # Save this value in the hash map. This is needed since there might be\n",
        "        # loops during traversal due to randomness of random pointers and this would help us avoid them.\n",
        "        self.visitedHash[head] = node\n",
        "\n",
        "        # Recursively copy the remaining linked list starting once from the next pointer and then from the random pointer.\n",
        "        # Thus we have two independent recursive calls.\n",
        "        # Finally we update the next and random pointers for the new node created.\n",
        "        node.next = self.copyRandomList(head.next)\n",
        "        node.random = self.copyRandomList(head.random)\n",
        "\n",
        "        return node"
      ]
    },
    {
      "cell_type": "markdown",
      "metadata": {
        "id": "RYavxmQQ04XU"
      },
      "source": [
        "# Add Strings"
      ]
    },
    {
      "cell_type": "code",
      "execution_count": null,
      "metadata": {
        "id": "p24lw1Dtu9B-"
      },
      "outputs": [],
      "source": [
        "# https://leetcode.com/problems/add-strings/\n",
        "\n",
        "class Solution:\n",
        "    def addStrings(self, num1: str, num2: str) -> str:\n",
        "        p1 = len(num1)-1\n",
        "        p2 = len(num2)-1\n",
        "\n",
        "\n",
        "        res = []\n",
        "        carry = 0\n",
        "        while p1 >= 0 or p2 >= 0:\n",
        "            x1 = int(num1[p1]) if p1 >= 0 else 0\n",
        "            x2 = int(num2[p2]) if p2 >= 0 else 0\n",
        "\n",
        "            res.append(str((x1+x2+carry)%10))\n",
        "            carry = (x1+x2+carry) // 10\n",
        "            p1 -= 1\n",
        "            p2 -= 1\n",
        "\n",
        "        if carry:\n",
        "            res.append(str(carry))\n",
        "\n",
        "        return \"\".join(res[::-1])"
      ]
    },
    {
      "cell_type": "markdown",
      "metadata": {
        "id": "SkITOKhcyWpm"
      },
      "source": [
        "#  Lowest Common Ancestor of a Binary Tree III - Important"
      ]
    },
    {
      "cell_type": "code",
      "execution_count": null,
      "metadata": {
        "id": "DOIaHX-LyXOc"
      },
      "outputs": [],
      "source": [
        "# https://leetcode.com/problems/lowest-common-ancestor-of-a-binary-tree-iii/\n",
        "\n",
        "class Solution:\n",
        "    def get_depth(self, p):\n",
        "\t\t# helper function to find the depth of the pointer in the tree\n",
        "        depth = 0\n",
        "        while p:\n",
        "            p = p.parent\n",
        "            depth += 1\n",
        "        return depth\n",
        "\n",
        "    def lowestCommonAncestor(self, p: 'Node', q: 'Node') -> 'Node':\n",
        "\t\t# find the depth of each pointer\n",
        "        p_depth = self.get_depth(p)\n",
        "        q_depth = self.get_depth(q)\n",
        "\n",
        "\t\t# Move the lower pointer up so that they are each at the same level.\n",
        "\t\t# For the smaller depth (p_depth < q_depth or q_depth < p_depth),\n",
        "\t\t# the loop will be skipped and the pointer will stay at the same depth.\n",
        "        for _ in range(p_depth - q_depth):\n",
        "            p = p.parent\n",
        "        for _ in range(q_depth - p_depth):\n",
        "            q = q.parent\n",
        "\n",
        "\t\t# Now that they are at the same depth, move them up the tree in parallel until they meet\n",
        "        while p != q:\n",
        "            p=p.parent\n",
        "            q=q.parent\n",
        "        return p"
      ]
    },
    {
      "cell_type": "markdown",
      "metadata": {
        "id": "m1yPAdAEywzi"
      },
      "source": [
        "# Binary Tree Right Side View - Important"
      ]
    },
    {
      "cell_type": "code",
      "execution_count": null,
      "metadata": {
        "id": "j8SUlfypyyO0"
      },
      "outputs": [],
      "source": [
        "# https://leetcode.com/problems/binary-tree-right-side-view/\n",
        "# O(n) time O(d) space\n",
        "\n",
        "class Solution:\n",
        "    def rightSideView(self, root: TreeNode) -> List[int]:\n",
        "        if root is None:\n",
        "            return []\n",
        "\n",
        "        queue = deque([root,])\n",
        "        rightside = []\n",
        "\n",
        "        while queue:\n",
        "            level_length = len(queue)\n",
        "\n",
        "            for i in range(level_length):\n",
        "                node = queue.popleft()\n",
        "                # if it's the rightmost element\n",
        "                if i == level_length - 1:\n",
        "                    rightside.append(node.val)\n",
        "\n",
        "                # add child nodes in the queue\n",
        "                if node.left:\n",
        "                    queue.append(node.left)\n",
        "                if node.right:\n",
        "                    queue.append(node.right)\n",
        "\n",
        "        return rightside"
      ]
    },
    {
      "cell_type": "markdown",
      "metadata": {
        "id": "sa12gAUX1sGi"
      },
      "source": [
        "# Nested List Weight Sum - Important"
      ]
    },
    {
      "cell_type": "code",
      "execution_count": null,
      "metadata": {
        "id": "Fu6nhvhP1ski"
      },
      "outputs": [],
      "source": [
        "# https://leetcode.com/problems/nested-list-weight-sum/\n",
        "# O(n) time, O(d) space\n",
        "\n",
        "class Solution:\n",
        "    def depthSum(self, nestedList: List[NestedInteger]) -> int:\n",
        "        return self.dfs(nestedList, 1)\n",
        "\n",
        "\n",
        "    def dfs(self, entries, depth):\n",
        "        total = 0\n",
        "        for entry in entries:\n",
        "            if entry.isInteger():\n",
        "                total += entry.getInteger() * depth\n",
        "            else:\n",
        "                total += self.dfs(entry.getList(), depth + 1)\n",
        "        return total"
      ]
    },
    {
      "cell_type": "markdown",
      "metadata": {
        "id": "skDrix_EDOSm"
      },
      "source": [
        "# Valid Palindrome"
      ]
    },
    {
      "cell_type": "code",
      "execution_count": null,
      "metadata": {
        "id": "vtuy6bhhDPGB"
      },
      "outputs": [],
      "source": [
        "# https://leetcode.com/problems/valid-palindrome/\n",
        "# O(n) time O(1) space\n",
        "\n",
        "class Solution:\n",
        "    def isPalindrome(self, s: str) -> bool:\n",
        "\n",
        "        i, j = 0, len(s) - 1\n",
        "\n",
        "        while i < j:\n",
        "            while i < j and not s[i].isalnum():\n",
        "                i += 1\n",
        "            while i < j and not s[j].isalnum():\n",
        "                j -= 1\n",
        "\n",
        "            if s[i].lower() != s[j].lower():\n",
        "                return False\n",
        "\n",
        "            i += 1\n",
        "            j -= 1\n",
        "\n",
        "        return True"
      ]
    },
    {
      "cell_type": "markdown",
      "metadata": {
        "id": "AjcQazvS4P3z"
      },
      "source": [
        "# Convert Binary Search Tree to Sorted Doubly Linked List"
      ]
    },
    {
      "cell_type": "code",
      "execution_count": null,
      "metadata": {
        "id": "hapOJIFi4QPy"
      },
      "outputs": [],
      "source": [
        "# https://leetcode.com/problems/convert-binary-search-tree-to-sorted-doubly-linked-list/\n",
        "# O(n) time O(n) space\n",
        "\n",
        "class Solution:\n",
        "    def treeToDoublyList(self, root: 'Optional[Node]') -> 'Optional[Node]':\n",
        "        if not root:\n",
        "            return None\n",
        "\n",
        "        self.head = None\n",
        "        self.tail = None\n",
        "\n",
        "        self.inorder(root)\n",
        "\n",
        "        self.head.left = self.tail\n",
        "        self.tail.right = self.head\n",
        "\n",
        "        return self.head\n",
        "\n",
        "    def inorder(self, node):\n",
        "        if node is None:\n",
        "            return\n",
        "\n",
        "        if node.left:\n",
        "            self.inorder(node.left)\n",
        "\n",
        "        if self.tail:\n",
        "            self.tail.right = node\n",
        "            node.left = self.tail\n",
        "\n",
        "        else:\n",
        "            self.head = node\n",
        "\n",
        "        self.tail = node\n",
        "\n",
        "        if node.right:\n",
        "            self.inorder(node.right)"
      ]
    },
    {
      "cell_type": "markdown",
      "metadata": {
        "id": "pg5wqDP652jD"
      },
      "source": [
        "# Exclusive Time of Functions - Important"
      ]
    },
    {
      "cell_type": "code",
      "execution_count": null,
      "metadata": {
        "id": "KUZxO3sM526M"
      },
      "outputs": [],
      "source": [
        "# https://leetcode.com/problems/exclusive-time-of-functions/\n",
        "# O(n) time O(n) space\n",
        "\n",
        "class Solution:\n",
        "    def exclusiveTime(self, n: int, logs: List[str]) -> List[int]:\n",
        "        ans = [0] * n\n",
        "        stack = []\n",
        "        prev_time = 0\n",
        "\n",
        "        for log in logs:\n",
        "            temp = log.split(':')\n",
        "            func_id, event, timestamp = int(temp[0]), temp[1], int(temp[2])\n",
        "\n",
        "            if event == 'start':\n",
        "                if stack:\n",
        "                    ans[stack[-1]] += timestamp - prev_time\n",
        "                stack.append(func_id)\n",
        "                prev_time = timestamp\n",
        "\n",
        "            else:\n",
        "                if stack:\n",
        "                    ans[stack.pop()] += timestamp - prev_time + 1\n",
        "                prev_time = timestamp + 1\n",
        "\n",
        "\n",
        "        return ans"
      ]
    },
    {
      "cell_type": "markdown",
      "metadata": {
        "id": "bjC8BljzMw-4"
      },
      "source": [
        "# Capacity To Ship Packages Within D Days"
      ]
    },
    {
      "cell_type": "code",
      "execution_count": null,
      "metadata": {
        "id": "HkFasLbVMxs-"
      },
      "outputs": [],
      "source": [
        "# https://leetcode.com/problems/capacity-to-ship-packages-within-d-days/\n",
        "# O(n) time O(1) space\n",
        "\n",
        "class Solution:\n",
        "    def shipWithinDays(self, weights: List[int], days: int) -> int:\n",
        "        left, right = max(weights), sum(weights)\n",
        "\n",
        "        while left < right:\n",
        "            mid = (left + right) // 2\n",
        "\n",
        "            if self.canShip(mid, weights, days):\n",
        "                right = mid\n",
        "            else:\n",
        "                left = mid + 1\n",
        "\n",
        "        return right\n",
        "\n",
        "\n",
        "    def canShip(self, capacity, weights, days):\n",
        "        current_weight = 0\n",
        "        current_days = 1\n",
        "\n",
        "        for w in weights:\n",
        "            current_weight += w\n",
        "\n",
        "            if current_weight > capacity:\n",
        "                current_weight = w\n",
        "                current_days += 1\n",
        "\n",
        "        return current_days <= days\n"
      ]
    },
    {
      "cell_type": "markdown",
      "metadata": {
        "id": "1374-lW_vOxY"
      },
      "source": [
        "# Diagonal Traverse - Important"
      ]
    },
    {
      "cell_type": "code",
      "execution_count": null,
      "metadata": {
        "id": "C5KGbivOvRrx"
      },
      "outputs": [],
      "source": [
        "# https://leetcode.com/problems/diagonal-traverse/\n",
        "\n",
        "# O(m x n) time, O(m x n) space\n",
        "\n",
        "class Solution:\n",
        "    def findDiagonalOrder(self, mat: List[List[int]]) -> List[int]:\n",
        "        mapp, ans = collections.defaultdict(list), []\n",
        "\n",
        "        for i in range(len(mat)):\n",
        "            for j in range(len(mat[0])):\n",
        "                mapp[i + j].append(mat[i][j])\n",
        "\n",
        "        for key, val in mapp.items():\n",
        "            if key % 2 == 0:\n",
        "                [ans.append(x) for x in val[::-1]]\n",
        "            else:\n",
        "                [ans.append(x) for x in val]\n",
        "\n",
        "        return ans\n",
        "\n",
        "# O(m x n) time, O(1) space\n",
        "class Solution:\n",
        "    def findDiagonalOrder(self, mat: List[List[int]]) -> List[int]:\n",
        "        ans, rows, cols = [], len(mat), len(mat[0])\n",
        "        cur_row, cur_col = 0, 0\n",
        "        going_up = True\n",
        "\n",
        "        while len(ans) != rows * cols:\n",
        "            if going_up:\n",
        "                while cur_row >= 0 and cur_col < cols:\n",
        "                    ans.append(mat[cur_row][cur_col])\n",
        "                    cur_row -= 1\n",
        "                    cur_col += 1\n",
        "\n",
        "                if cur_col == cols:\n",
        "                    cur_row += 2\n",
        "                    cur_col -= 1\n",
        "                else:\n",
        "                    cur_row += 1\n",
        "\n",
        "                going_up = False\n",
        "\n",
        "            else:\n",
        "                while cur_col >= 0 and cur_row < rows:\n",
        "                    ans.append(mat[cur_row][cur_col])\n",
        "                    cur_row += 1\n",
        "                    cur_col -= 1\n",
        "\n",
        "                if cur_row == rows:\n",
        "                    cur_col += 2\n",
        "                    cur_row -= 1\n",
        "                else:\n",
        "                    cur_col += 1\n",
        "                going_up = True\n",
        "\n",
        "        return ans\n",
        "\n"
      ]
    },
    {
      "cell_type": "markdown",
      "metadata": {
        "id": "O0YPg1SXRO3e"
      },
      "source": [
        "# Valid Word Abbreviation - Important"
      ]
    },
    {
      "cell_type": "code",
      "execution_count": null,
      "metadata": {
        "id": "vLCKUPPzRTj2"
      },
      "outputs": [],
      "source": [
        "# https://leetcode.com/problems/valid-word-abbreviation/description/\n",
        "\n",
        "class Solution:\n",
        "    def validWordAbbreviation(self, word: str, abbr: str) -> bool:\n",
        "        if len(abbr) > len(word):\n",
        "            return False\n",
        "\n",
        "        word_p, abbr_p = 0, 0\n",
        "\n",
        "        while word_p < len(word) and abbr_p < len(abbr):\n",
        "            if word[word_p] == abbr[abbr_p]:\n",
        "                word_p += 1\n",
        "                abbr_p += 1\n",
        "\n",
        "            elif abbr[abbr_p] == '0':\n",
        "                return False\n",
        "\n",
        "            elif abbr[abbr_p].isdigit():\n",
        "                skip = 0\n",
        "                while abbr_p < len(abbr) and abbr[abbr_p].isdigit():\n",
        "                    skip = (skip * 10) + int(abbr[abbr_p])\n",
        "                    abbr_p += 1\n",
        "\n",
        "                word_p += skip\n",
        "\n",
        "            else:\n",
        "                return False\n",
        "\n",
        "        return word_p == len(word) and abbr_p == len(abbr)"
      ]
    },
    {
      "cell_type": "markdown",
      "metadata": {
        "id": "zkEKozCybiOF"
      },
      "source": [
        "# Moving Average from Data Stream - Important\n",
        "\n"
      ]
    },
    {
      "cell_type": "code",
      "execution_count": null,
      "metadata": {
        "id": "-pzNbKa4bj-K"
      },
      "outputs": [],
      "source": [
        "# https://leetcode.com/problems/moving-average-from-data-stream/description/\n",
        "\n",
        "from collections import deque\n",
        "class MovingAverage:\n",
        "    def __init__(self, size: int):\n",
        "        \"\"\"\n",
        "        Initialize your data structure here.\n",
        "        \"\"\"\n",
        "        self.length = 0\n",
        "        self.max = size\n",
        "        self.sum = 0\n",
        "        self.queue = deque()\n",
        "\n",
        "    def next(self, val: int) -> float:\n",
        "        if self.length < self.max:\n",
        "            self.length +=1\n",
        "            self.queue.append(val)\n",
        "            self.sum += val\n",
        "        else:\n",
        "            self.sum -= self.queue.popleft()\n",
        "            self.queue.append(val)\n",
        "            self.sum += val\n",
        "        return self.sum/self.length\n"
      ]
    },
    {
      "cell_type": "markdown",
      "metadata": {
        "id": "HHjyk_CYzCm9"
      },
      "source": [
        "# Maximum Depth of Binary Tree"
      ]
    },
    {
      "cell_type": "code",
      "execution_count": null,
      "metadata": {
        "id": "qVoltKZ1zEEV"
      },
      "outputs": [],
      "source": [
        "# https://leetcode.com/problems/maximum-depth-of-binary-tree/description/\n",
        "# O(n) time, log(n) if the tree is balanced, O(n) space\n",
        "\n",
        "\n",
        "class Solution:\n",
        "    def maxDepth(self, root: Optional[TreeNode]) -> int:\n",
        "        # if root is None:\n",
        "        #     return 0\n",
        "\n",
        "        # return 1 + max(self.maxDepth(root.left), self.maxDepth(root.right))\n",
        "\n",
        "        stack = [[root, 1]]\n",
        "        result = 0\n",
        "\n",
        "        while stack:\n",
        "            node, depth = stack.pop()\n",
        "            if node:\n",
        "                result = max(depth, result)\n",
        "                stack.append([node.left, depth + 1])\n",
        "                stack.append([node.right, depth + 1])\n",
        "\n",
        "        return result\n"
      ]
    },
    {
      "cell_type": "markdown",
      "metadata": {
        "id": "YsvauJdZzPRP"
      },
      "source": [
        "# Minimum Depth of Binary Tree"
      ]
    },
    {
      "cell_type": "code",
      "execution_count": null,
      "metadata": {
        "id": "Qlja8rL8zPp8"
      },
      "outputs": [],
      "source": [
        "# https://leetcode.com/problems/minimum-depth-of-binary-tree/description/\n",
        "\n",
        "# O(n) time, log(n) if the tree is balanced, O(n) space\n",
        "\n",
        "class Solution:\n",
        "    def minDepth(self, root: Optional[TreeNode]) -> int:\n",
        "        if not root:\n",
        "            return 0\n",
        "\n",
        "        q = deque([(root, 1)])\n",
        "        result = 0\n",
        "\n",
        "        while q:\n",
        "            node, depth = q.popleft()\n",
        "            if node:\n",
        "                result = max(result, depth)\n",
        "                if not node.left and not node.right:\n",
        "                    return result\n",
        "\n",
        "                q.append((node.left, depth + 1))\n",
        "                q.append((node.right, depth + 1))\n"
      ]
    },
    {
      "cell_type": "markdown",
      "metadata": {
        "id": "CTbkfA9Z5D4t"
      },
      "source": [
        "# Longest Substring Without Repeating Characters"
      ]
    },
    {
      "cell_type": "code",
      "execution_count": null,
      "metadata": {
        "id": "dVpx5R_t5ETA"
      },
      "outputs": [],
      "source": [
        "# https://leetcode.com/problems/longest-substring-without-repeating-characters/description/\n",
        "\n",
        "class Solution:\n",
        "    def lengthOfLongestSubstring(self, s: str) -> int:\n",
        "        if len(s) == 0:\n",
        "            return 0\n",
        "\n",
        "        i, j = 0, 0\n",
        "        count = 0\n",
        "        sett = set()\n",
        "\n",
        "        while i < len(s) and j < len(s):\n",
        "            if s[j] not in sett:\n",
        "                sett.add(s[j])\n",
        "                j += 1\n",
        "                count = max(count, j - i)\n",
        "\n",
        "            else:\n",
        "                sett.remove(s[i])\n",
        "                i += 1\n",
        "                count = max(count, j - i)\n",
        "\n",
        "        return count\n",
        "\n"
      ]
    },
    {
      "cell_type": "markdown",
      "metadata": {
        "id": "1Wv6-mGcRW7u"
      },
      "source": [
        "# Range Sum Query - Immutable"
      ]
    },
    {
      "cell_type": "code",
      "execution_count": null,
      "metadata": {
        "id": "_W0isa65RXbN"
      },
      "outputs": [],
      "source": [
        "# https://leetcode.com/problems/range-sum-query-immutable/\n",
        "\n",
        "class NumArray:\n",
        "\n",
        "    def __init__(self, nums: List[int]): # O(n) time and O(n) space\n",
        "        self.prefix_sum = nums\n",
        "\n",
        "        for i in range(len(nums) - 1):\n",
        "            self.prefix_sum[i + 1] += self.prefix_sum[i]\n",
        "\n",
        "\n",
        "    def sumRange(self, left: int, right: int) -> int:  # O(1) time\n",
        "        if left == 0:\n",
        "            return self.prefix_sum[right]\n",
        "        return self.prefix_sum[right] - self.prefix_sum[left-1]\n"
      ]
    },
    {
      "cell_type": "markdown",
      "metadata": {
        "id": "msMHJRORTsWX"
      },
      "source": [
        "# Longest Palindromic Substring"
      ]
    },
    {
      "cell_type": "code",
      "execution_count": null,
      "metadata": {
        "id": "PI0zSG9GTt6_"
      },
      "outputs": [],
      "source": [
        "# https://leetcode.com/problems/longest-palindromic-substring/\n",
        "\n",
        "class Solution:\n",
        "    def longestPalindrome(self, s: str) -> str:\n",
        "        result = \"\"\n",
        "\n",
        "        def check(s, i, j):\n",
        "            while i >= 0 and j < len(s) and s[i] == s[j]:\n",
        "                i -= 1\n",
        "                j += 1\n",
        "\n",
        "            return s[i + 1 : j]\n",
        "\n",
        "        for i in range(len(s)):\n",
        "            # odd length\n",
        "            odd = check(s, i, i)\n",
        "            # even length\n",
        "            even = check(s, i, i + 1)\n",
        "\n",
        "            if len(odd) > len(result):\n",
        "                result = odd\n",
        "\n",
        "            if len(even) > len(result):\n",
        "                result = even\n",
        "\n",
        "        return result"
      ]
    },
    {
      "cell_type": "markdown",
      "metadata": {
        "id": "VQ64dMdqT6Ba"
      },
      "source": [
        "# Diameter of Binary Tree - Important"
      ]
    },
    {
      "cell_type": "code",
      "execution_count": null,
      "metadata": {
        "id": "qorouJA2T6e6"
      },
      "outputs": [],
      "source": [
        "# https://leetcode.com/problems/diameter-of-binary-tree/\n",
        "\n",
        "# O(n) time O(h) space\n",
        "\n",
        "class Solution:\n",
        "    def diameterOfBinaryTree(self, root: Optional[TreeNode]) -> int:\n",
        "        self.diameter = 0\n",
        "\n",
        "        self.getDiameter(root)\n",
        "\n",
        "        return self.diameter\n",
        "\n",
        "    def getDiameter(self, root):\n",
        "        if root is None:\n",
        "            return 0\n",
        "\n",
        "        left_path = self.getDiameter(root.left)\n",
        "        right_path = self.getDiameter(root.right)\n",
        "\n",
        "        self.diameter = max(left_path + right_path, self.diameter)\n",
        "\n",
        "        return  max(left_path, right_path) + 1\n",
        "\n",
        "\n",
        "# O(n) time O(n) space\n",
        "\n",
        "class Solution:\n",
        "    def diameterOfBinaryTree(self, root: Optional[TreeNode]) -> int:\n",
        "        result = 0\n",
        "\n",
        "\n",
        "        def dfs(root):\n",
        "            nonlocal result\n",
        "\n",
        "            if not root:\n",
        "                return 0\n",
        "\n",
        "            left = dfs(root.left)\n",
        "            right = dfs(root.right)\n",
        "\n",
        "            result = max(result, left + right)\n",
        "\n",
        "            return 1 + max(left, right)\n",
        "\n",
        "        dfs(root)\n",
        "\n",
        "        return result\n",
        "\n"
      ]
    },
    {
      "cell_type": "markdown",
      "metadata": {
        "id": "WvrtPy054HaK"
      },
      "source": [
        "# Search a 2D Matrix - Important"
      ]
    },
    {
      "cell_type": "code",
      "execution_count": null,
      "metadata": {
        "id": "GkC_gney4I38"
      },
      "outputs": [],
      "source": [
        "# https://leetcode.com/problems/search-a-2d-matrix/\n",
        "\n",
        "class Solution:\n",
        "    def searchMatrix(self, matrix: List[List[int]], target: int) -> bool:\n",
        "        top, bottom = 0, len(matrix) - 1\n",
        "\n",
        "        while top <= bottom:\n",
        "            mid = (top + bottom) // 2\n",
        "            if matrix[mid][-1] < target:\n",
        "                top = mid + 1\n",
        "            elif matrix[mid][0] > target:\n",
        "                bottom = mid - 1\n",
        "            else:\n",
        "                break\n",
        "\n",
        "        if top > bottom:\n",
        "            return False\n",
        "\n",
        "        left, right = 0, len(matrix[0]) - 1\n",
        "        row = (top + bottom) // 2\n",
        "\n",
        "        while left <= right:\n",
        "            mid = (left + right) // 2\n",
        "            if matrix[row][mid] == target:\n",
        "                return True\n",
        "            elif matrix[row][mid] < target:\n",
        "                left = mid + 1\n",
        "            else:\n",
        "                right = mid - 1\n",
        "\n",
        "        return False\n"
      ]
    },
    {
      "cell_type": "markdown",
      "metadata": {
        "id": "GBgLgcOHf1hM"
      },
      "source": [
        "# Min Stack"
      ]
    },
    {
      "cell_type": "code",
      "execution_count": null,
      "metadata": {
        "id": "8OL8X6Ubf1_M"
      },
      "outputs": [],
      "source": [
        "# https://leetcode.com/problems/min-stack/\n",
        "\n",
        "class MinStack:\n",
        "\n",
        "    def __init__(self):\n",
        "        self.stack = []\n",
        "        self.minstack = []\n",
        "        self.min = float(\"inf\")\n",
        "\n",
        "    def push(self, val: int) -> None:\n",
        "        self.stack.append(val)\n",
        "\n",
        "        if not self.minstack:\n",
        "            self.minstack.append(val)\n",
        "\n",
        "        elif val <= self.minstack[-1]:\n",
        "            self.minstack.append(val)\n",
        "\n",
        "    def pop(self) -> None:\n",
        "        if self.stack[-1] == self.minstack[-1]:\n",
        "            self.minstack.pop()\n",
        "        self.stack.pop()\n",
        "\n",
        "\n",
        "    def top(self) -> int:\n",
        "        return self.stack[-1]\n",
        "\n",
        "\n",
        "    def getMin(self) -> int:\n",
        "        return self.minstack[-1]\n",
        "\n",
        "\n",
        "\n",
        "# Your MinStack object will be instantiated and called as such:\n",
        "# obj = MinStack()\n",
        "# obj.push(val)\n",
        "# obj.pop()\n",
        "# param_3 = obj.top()\n",
        "# param_4 = obj.getMin()"
      ]
    },
    {
      "cell_type": "markdown",
      "metadata": {
        "id": "zsJcNKJof_WV"
      },
      "source": [
        "# Verifying an Alien Dictionary - Important"
      ]
    },
    {
      "cell_type": "code",
      "execution_count": null,
      "metadata": {
        "id": "SNqBAhTTf_zh"
      },
      "outputs": [],
      "source": [
        "# https://leetcode.com/problems/verifying-an-alien-dictionary/description/\n",
        "\n",
        "class Solution:\n",
        "    def isAlienSorted(self, words: List[str], order: str) -> bool:\n",
        "        mapp_ = {}\n",
        "        count = 1\n",
        "\n",
        "        for char in order:\n",
        "            mapp_[char] = count\n",
        "            count += 1\n",
        "\n",
        "        for i in range(1, len(words)):\n",
        "            first, second = words[i-1], words[i]\n",
        "\n",
        "            l, r = 0, 0\n",
        "            while l < len(first) and r < len(second):\n",
        "                if (first[l] == second[r]):\n",
        "                    l += 1\n",
        "                    r += 1\n",
        "                elif (mapp_[first[l]] < mapp_[second[r]]):\n",
        "                    break\n",
        "                else:\n",
        "                    return False\n",
        "\n",
        "            if l < len(first) and r >= len(second):\n",
        "                return False\n",
        "\n",
        "        return True\n"
      ]
    },
    {
      "cell_type": "markdown",
      "metadata": {
        "id": "MkFursY79TrE"
      },
      "source": [
        "# Range Sum of BST - Important"
      ]
    },
    {
      "cell_type": "code",
      "execution_count": null,
      "metadata": {
        "id": "X6NNMggR9Vad"
      },
      "outputs": [],
      "source": [
        "# https://leetcode.com/problems/range-sum-of-bst/description/\n",
        "\n",
        "# O(n) time, O(n) space\n",
        "\n",
        "class Solution:\n",
        "    def rangeSumBST(self, root: Optional[TreeNode], low: int, high: int) -> int:\n",
        "        if not root:\n",
        "            return 0\n",
        "\n",
        "        result = 0\n",
        "\n",
        "        def dfs(root):\n",
        "            nonlocal result\n",
        "            if root:\n",
        "                if low <= root.val <= high:\n",
        "                    result += root.val\n",
        "                if low < root.val:\n",
        "                    dfs(root.left)\n",
        "                if root.val < high:\n",
        "                    dfs(root.right)\n",
        "\n",
        "        dfs(root)\n",
        "        return result\n",
        "\n",
        "\n",
        "class Solution:\n",
        "    def rangeSumBST(self, root: Optional[TreeNode], low: int, high: int) -> int:\n",
        "        if not root:\n",
        "            return 0\n",
        "\n",
        "        stack = [root]\n",
        "        result = 0\n",
        "\n",
        "        while stack:\n",
        "            node = stack.pop()\n",
        "            if node:\n",
        "                if low <= node.val <= high:\n",
        "                    result += node.val\n",
        "\n",
        "                if low < node.val:\n",
        "                    stack.append(node.left)\n",
        "\n",
        "                if node.val < high:\n",
        "                    stack.append(node.right)\n",
        "\n",
        "        return result"
      ]
    },
    {
      "cell_type": "markdown",
      "metadata": {
        "id": "HouAD__QGaum"
      },
      "source": [
        "# Convert Binary Search Tree to Sorted Doubly Linked List - Important"
      ]
    },
    {
      "cell_type": "code",
      "execution_count": null,
      "metadata": {
        "id": "sIGurg9vGbPn"
      },
      "outputs": [],
      "source": [
        "# https://leetcode.com/problems/convert-binary-search-tree-to-sorted-doubly-linked-list/description/\n",
        "\n",
        "# O(n) time, O(n) space\n",
        "# we use inorder traversal\n",
        "\n",
        "\n",
        "class Solution:\n",
        "    def treeToDoublyList(self, root: 'Optional[Node]') -> 'Optional[Node]':\n",
        "        if not root:\n",
        "            return None\n",
        "\n",
        "        first, last = None, None\n",
        "\n",
        "        def inorder(node):\n",
        "            nonlocal first, last\n",
        "            if node:\n",
        "                inorder(node.left)\n",
        "\n",
        "                if last:\n",
        "                    last.right = node\n",
        "                    node.left = last\n",
        "                else:\n",
        "                    first = node\n",
        "\n",
        "                last = node\n",
        "\n",
        "                inorder(node.right)\n",
        "\n",
        "        inorder(root)\n",
        "        first.left = last\n",
        "        last.right = first\n",
        "\n",
        "        return first\n",
        "\n",
        "\n",
        "\n"
      ]
    },
    {
      "cell_type": "markdown",
      "metadata": {
        "id": "RjRshSTjLhth"
      },
      "source": [
        "# Minimum Add to Make Parentheses Valid - Important"
      ]
    },
    {
      "cell_type": "code",
      "execution_count": null,
      "metadata": {
        "id": "37Xg9MS_LiXZ"
      },
      "outputs": [],
      "source": [
        "# https://leetcode.com/problems/minimum-add-to-make-parentheses-valid/description/\n",
        "\n",
        "# O(n) time, O(n) space\n",
        "\n",
        "class Solution:\n",
        "    def minAddToMakeValid(self, s: str) -> int:\n",
        "        stack = []\n",
        "\n",
        "        for bracket in s:\n",
        "            if bracket == '(':\n",
        "                stack.append(bracket)\n",
        "\n",
        "            if bracket == ')':\n",
        "                if stack and stack[-1] == '(':\n",
        "                    stack.pop()\n",
        "                else:\n",
        "                    stack.append(bracket)\n",
        "\n",
        "        return len(stack)\n",
        "\n",
        "\n",
        "# O(n) time, O(1) space\n",
        "class Solution:\n",
        "    def minAddToMakeValid(self, s: str) -> int:\n",
        "        add, open_bracket = 0, 0\n",
        "\n",
        "        for bracket in s:\n",
        "            if bracket == '(':\n",
        "                open_bracket += 1\n",
        "            else:\n",
        "                open_bracket -= 1\n",
        "\n",
        "            if open_bracket == -1:\n",
        "                add += 1\n",
        "                open_bracket += 1\n",
        "\n",
        "        return add + open_bracket"
      ]
    },
    {
      "cell_type": "markdown",
      "metadata": {
        "id": "F_-6IkDgh6ZW"
      },
      "source": [
        "# Interval List Intersections - Important"
      ]
    },
    {
      "cell_type": "code",
      "execution_count": null,
      "metadata": {
        "id": "FPZzCZyuh657"
      },
      "outputs": [],
      "source": [
        "# https://leetcode.com/problems/interval-list-intersections/description/\n",
        "\n",
        "# O(m + n) time, O(m + n) space\n",
        "\n",
        "class Solution:\n",
        "    def intervalIntersection(self, firstList: List[List[int]], secondList: List[List[int]]) -> List[List[int]]:\n",
        "\n",
        "        if not firstList or not secondList:\n",
        "            return []\n",
        "\n",
        "        i, j, ans = 0, 0, []\n",
        "\n",
        "        while i < len(firstList) and j < len(secondList):\n",
        "            start = max(firstList[i][0], secondList[j][0])\n",
        "            end = min(firstList[i][1], secondList[j][1])\n",
        "\n",
        "            if start <= end:\n",
        "                ans.append([start, end])\n",
        "\n",
        "            if firstList[i][1] < secondList[j][1]:\n",
        "                i += 1\n",
        "            else:\n",
        "                j += 1\n",
        "\n",
        "        return ans"
      ]
    },
    {
      "cell_type": "markdown",
      "metadata": {
        "id": "W9FDUZ6HZIDj"
      },
      "source": [
        "# Insert into a Sorted Circular Linked List - Important"
      ]
    },
    {
      "cell_type": "code",
      "execution_count": null,
      "metadata": {
        "id": "HFcR3h7RZIq8"
      },
      "outputs": [],
      "source": [
        "# https://leetcode.com/problems/insert-into-a-sorted-circular-linked-list/description/\n",
        "\n",
        "\n",
        "\"\"\"\n",
        "4 cases to remember,\n",
        "if LL is empty, we creaate a need node and link it to itself and return the node\n",
        "\n",
        "if we find the slot to put the new node.\n",
        "\n",
        "if we have to insert at the edge. Basically the end and beginning of the sorted LL\n",
        "\n",
        "if all the values in LL are the same\n",
        "\"\"\"\n",
        "\n",
        "\n",
        "\"\"\"\n",
        "# Definition for a Node.\n",
        "class Node:\n",
        "    def __init__(self, val=None, next=None):\n",
        "        self.val = val\n",
        "        self.next = next\n",
        "\"\"\"\n",
        "\n",
        "# O(n) time, O(1) space\n",
        "\n",
        "class Solution:\n",
        "    def insert(self, head: 'Optional[Node]', insertVal: int) -> 'Node':\n",
        "        # if LL is empty, we creaate a need node and link it to itself and return the node\n",
        "        if not head:\n",
        "            new_node = Node(insertVal)\n",
        "            new_node.next = new_node\n",
        "            return new_node\n",
        "\n",
        "        cur = head\n",
        "\n",
        "        while cur.next != head:\n",
        "            # if we find the slot to put the new node.\n",
        "            if cur.val <= insertVal <= cur.next.val:\n",
        "                new_node = Node(insertVal, cur.next)\n",
        "                cur.next = new_node\n",
        "\n",
        "                return head\n",
        "\n",
        "            elif cur.val > cur.next.val:\n",
        "                # if we have to insert at the edge. Basically the end and beginning of the sorted LL\n",
        "                if insertVal >= cur.val or insertVal <= cur.next.val:\n",
        "                    new_node = Node(insertVal, cur.next)\n",
        "                    cur.next = new_node\n",
        "                    return head\n",
        "\n",
        "            cur = cur.next\n",
        "\n",
        "        # if all the values in LL are the same\n",
        "        new_node = Node(insertVal, cur.next)\n",
        "        cur.next = new_node\n",
        "\n",
        "        return head\n"
      ]
    },
    {
      "cell_type": "markdown",
      "metadata": {
        "id": "7XAgt0Ly4FJm"
      },
      "source": [
        "# Custom Sort String - Important"
      ]
    },
    {
      "cell_type": "code",
      "execution_count": null,
      "metadata": {
        "id": "EQQkNH3w4F9K"
      },
      "outputs": [],
      "source": [
        "# https://leetcode.com/problems/custom-sort-string/description/\n",
        "\n",
        "# O(n) time, O(n) space\n",
        "\n",
        "class Solution:\n",
        "    def customSortString(self, order: str, s: str) -> str:\n",
        "        count = collections.Counter(s)\n",
        "        result = []\n",
        "\n",
        "        for char in order:\n",
        "            result.append(char * count[char])\n",
        "            count[char] = 0\n",
        "\n",
        "        for char in count:\n",
        "            if count[char]:\n",
        "                result.append(char * count[char])\n",
        "\n",
        "        return ''.join(result)\n",
        "\n",
        "\n",
        "# O(s) space O(s + t) time\n",
        "from collections import defaultdict\n",
        "class Solution:\n",
        "    def customSortString(self, order: str, s: str) -> str:\n",
        "        mapp, ans = defaultdict(int), []\n",
        "\n",
        "        for letter in s:\n",
        "            if letter not in mapp:\n",
        "                mapp[letter] = 0\n",
        "            mapp[letter] += 1\n",
        "\n",
        "        for l in order:\n",
        "            ans.append(l * mapp[l])\n",
        "            mapp[l] = 0\n",
        "\n",
        "        for l in mapp:\n",
        "            ans.append(l * mapp[l])\n",
        "\n",
        "\n",
        "        return ''.join(ans)\n"
      ]
    },
    {
      "cell_type": "markdown",
      "metadata": {
        "id": "8yk529sj4Qt5"
      },
      "source": [
        "# Shortest Path in Binary Matrix - Important"
      ]
    },
    {
      "cell_type": "code",
      "execution_count": null,
      "metadata": {
        "id": "vNGirl314RYG"
      },
      "outputs": [],
      "source": [
        "# https://leetcode.com/problems/shortest-path-in-binary-matrix/description/\n",
        "\n",
        "# O(n) time, O(n) space\n",
        "\n",
        "class Solution:\n",
        "    def shortestPathBinaryMatrix(self, grid: List[List[int]]) -> int:\n",
        "        max_row, max_col = len(grid) - 1, len(grid[0]) - 1\n",
        "\n",
        "        def helper(r, c):\n",
        "            bounds = [[-1,0], [1,0], [0,-1], [0,1], [1,1], [1, -1], [-1, 1], [-1, -1]]\n",
        "\n",
        "            for row, col in bounds:\n",
        "                new_row = r + row\n",
        "                new_col = c + col\n",
        "                if new_row < 0 or new_row > max_row or new_col < 0 or new_col > max_col or grid[new_row][new_col] != 0:\n",
        "                    continue\n",
        "\n",
        "                yield (new_row, new_col)\n",
        "\n",
        "        if grid[0][0] != 0 or grid[max_row][max_col] != 0:\n",
        "            return -1\n",
        "\n",
        "        queue = deque([(0,0,1)])\n",
        "        visited = set((0,0))\n",
        "\n",
        "        while queue:\n",
        "            row, col, dist = queue.popleft()\n",
        "\n",
        "            if row == max_row and col == max_col:\n",
        "                return dist\n",
        "\n",
        "            for neigh in helper(row, col):\n",
        "                if neigh in visited:\n",
        "                    continue\n",
        "\n",
        "                queue.append((*neigh, dist + 1))\n",
        "                visited.add(neigh)\n",
        "\n",
        "        return -1\n"
      ]
    },
    {
      "cell_type": "markdown",
      "metadata": {
        "id": "w271mkGfiQk3"
      },
      "source": [
        "# Sum Root to Leaf Numbers - Important"
      ]
    },
    {
      "cell_type": "code",
      "execution_count": null,
      "metadata": {
        "id": "mEykPjU7iRd_"
      },
      "outputs": [],
      "source": [
        "# https://leetcode.com/problems/sum-root-to-leaf-numbers/description/\n",
        "\n",
        "# O(n) time, O(h) space, h is height of the tree\n",
        "class Solution:\n",
        "    def sumNumbers(self, root: Optional[TreeNode]) -> int:\n",
        "        if not root:\n",
        "            return 0\n",
        "\n",
        "        result = 0\n",
        "\n",
        "        stack = [(root, 0)]\n",
        "\n",
        "        while stack:\n",
        "            node, curr_sum = stack.pop()\n",
        "\n",
        "            if node:\n",
        "                curr_sum = curr_sum * 10 + node.val\n",
        "\n",
        "                if node.left == None and node.right == None:\n",
        "                    result += curr_sum\n",
        "                else:\n",
        "                    stack.append((node.left, curr_sum))\n",
        "                    stack.append((node.right, curr_sum))\n",
        "\n",
        "        return result\n",
        "\n"
      ]
    },
    {
      "cell_type": "markdown",
      "metadata": {
        "id": "GbBtNRw3PwUu"
      },
      "source": [
        "# Group Shifted Strings - Important"
      ]
    },
    {
      "cell_type": "code",
      "execution_count": null,
      "metadata": {
        "id": "XYH5gB5wPx9Z"
      },
      "outputs": [],
      "source": [
        "# https://leetcode.com/problems/group-shifted-strings/description/\n",
        "\n",
        "# O(n * k) time, O(n * k) space, n = number of strings, k = max length of the individual string\n",
        "\n",
        "\n",
        "class Solution:\n",
        "    def groupStrings(self, strings: List[str]) -> List[List[str]]:\n",
        "        mapp = collections.defaultdict(list)\n",
        "\n",
        "        for string in strings:\n",
        "            if len(string) == 1:\n",
        "                mapp[(-1)].append(string)\n",
        "\n",
        "            else:\n",
        "                sequence = []\n",
        "                i = 1\n",
        "\n",
        "                while i < len(string):\n",
        "                    sequence_value = (ord(string[i]) - ord(string[i-1])) % 26\n",
        "                    sequence.append(sequence_value)\n",
        "                    i += 1\n",
        "\n",
        "                mapp[tuple(sequence)].append(string)\n",
        "\n",
        "        return mapp.values()"
      ]
    },
    {
      "cell_type": "markdown",
      "metadata": {
        "id": "ckvThQhuQK1G"
      },
      "source": [
        "# Toeplitz Matrix - Important"
      ]
    },
    {
      "cell_type": "code",
      "execution_count": null,
      "metadata": {
        "id": "Zk8aVlQ7QLei"
      },
      "outputs": [],
      "source": [
        "# https://leetcode.com/problems/toeplitz-matrix/\n",
        "\n",
        "\"\"\"\n",
        "1 (0, 0) 2 (0, 1) 3 (0, 2) 4 (0, 3)\n",
        "5 (1, 0) 1 (1, 1) 2 (1, 2) 3 (1, 3)\n",
        "9 (2, 0) 5 (2, 1) 1 (2, 2) 2 (2, 3)\n",
        "\n",
        "3, 4 matrix\n",
        "\n",
        "set = 1 2\n",
        "m. = 3\n",
        "n = 4\n",
        "\n",
        "1 => [(0, 0), (1, 1), (2, 2)]\n",
        "\n",
        "r, c += 1 <= r, 1 <= c\n",
        "\n",
        "\n",
        "\"\"\"\n",
        "\n",
        "# O(n) time, O(1) space\n",
        "\n",
        "class Solution:\n",
        "    def isToeplitzMatrix(self, matrix: List[List[int]]) -> bool:\n",
        "        def diagonal_univalue(r, c, val):\n",
        "            while r < len(matrix) and c < len(matrix[0]):\n",
        "                if matrix[r][c] != val:\n",
        "                    return False\n",
        "                r += 1\n",
        "                c += 1\n",
        "\n",
        "            return True\n",
        "\n",
        "        # go throught the top values first by col\n",
        "        for col in range(len(matrix[0])):\n",
        "            if not diagonal_univalue(0, col, matrix[0][col]):\n",
        "                return False\n",
        "        # then the rows from index 1 to the end\n",
        "        for row in range(1, len(matrix)):\n",
        "            if not diagonal_univalue(row, 0, matrix[row][0]):\n",
        "                return False\n",
        "\n",
        "        return True\n"
      ]
    },
    {
      "cell_type": "markdown",
      "metadata": {
        "id": "1rFwDHeM4S5T"
      },
      "source": [
        "# Random Pick Index - Important"
      ]
    },
    {
      "cell_type": "code",
      "execution_count": null,
      "metadata": {
        "id": "TMK87CNg4TbT"
      },
      "outputs": [],
      "source": [
        "# https://leetcode.com/problems/random-pick-index/description/\n",
        "\n",
        "class Solution:\n",
        "\n",
        "    # O(n) time, O(n) space\n",
        "    def __init__(self, nums: List[int]):\n",
        "        self.nums = nums\n",
        "        self.dict = collections.defaultdict(list)\n",
        "\n",
        "        for i in range(len(nums)):\n",
        "            self.dict[nums[i]].append(i)\n",
        "\n",
        "    # O(1) time, O(1) space\n",
        "    def pick(self, target: int) -> int:\n",
        "        if target in self.dict:\n",
        "            option = self.dict[target]\n",
        "            random_idx = random.randint(0, len(option) - 1)\n",
        "            return option[random_idx]\n",
        "\n",
        "\n",
        "class Solution:\n",
        "\n",
        "    def __init__(self, nums: List[int]):\n",
        "        self.nums = nums\n",
        "\n",
        "    # O(n) time, O(1) space\n",
        "    def pick(self, target: int) -> int:\n",
        "        count = 0\n",
        "        pick_idx = 0\n",
        "\n",
        "        for i, num in enumerate(self.nums):\n",
        "            if num == target:\n",
        "                count += 1\n",
        "\n",
        "                if random.randint(1, count) == count:\n",
        "                    pick_idx = i\n",
        "\n",
        "        return pick_idx\n"
      ]
    },
    {
      "cell_type": "markdown",
      "metadata": {
        "id": "akpBgQfmEVwD"
      },
      "source": [
        "# Closest Binary Search Tree Value - Important"
      ]
    },
    {
      "cell_type": "code",
      "execution_count": null,
      "metadata": {
        "id": "IoY9A6L9EWRm"
      },
      "outputs": [],
      "source": [
        "# https://leetcode.com/problems/closest-binary-search-tree-value/description/\n",
        "\n",
        "\n",
        "# O(h) time, O(1) space\n",
        "class Solution:\n",
        "    def closestValue(self, root: Optional[TreeNode], target: float) -> int:\n",
        "        closest = root.val\n",
        "\n",
        "        while root:\n",
        "            closest = min(root.val, closest, key=lambda x: (abs(target - x), x))\n",
        "            if target < root.val:\n",
        "                root = root.left\n",
        "            else:\n",
        "                root = root.right\n",
        "        return closest"
      ]
    },
    {
      "cell_type": "markdown",
      "metadata": {
        "id": "XuuatevgcalU"
      },
      "source": [
        "# Letter Combinations of a Phone Number - Important"
      ]
    },
    {
      "cell_type": "code",
      "execution_count": null,
      "metadata": {
        "id": "U59hFyM5cbKX"
      },
      "outputs": [],
      "source": [
        "# https://leetcode.com/problems/letter-combinations-of-a-phone-number/\n",
        "\n",
        "# O(N^4 * N) time O(N) space\n",
        "\n",
        "class Solution:\n",
        "    def letterCombinations(self, digits: str) -> List[str]:\n",
        "        if len(digits) == 0:\n",
        "            return []\n",
        "\n",
        "        letters = {\n",
        "            \"2\": \"abc\",\n",
        "            \"3\": \"def\",\n",
        "            \"4\": \"ghi\",\n",
        "            \"5\": \"jkl\",\n",
        "            \"6\": \"mno\",\n",
        "            \"7\": \"pqrs\",\n",
        "            \"8\": \"tuv\",\n",
        "            \"9\": \"wxyz\",\n",
        "        }\n",
        "\n",
        "        if len(digits) == 1:\n",
        "            return list(letters[digits[0]])\n",
        "\n",
        "        combinations = []\n",
        "\n",
        "        def backtrack(index, path):\n",
        "            if len(path) == len(digits):\n",
        "                combinations.append(''.join(path))\n",
        "                return\n",
        "\n",
        "            for letter in letters[digits[index]]:\n",
        "                path.append(letter)\n",
        "                backtrack(index + 1, path)\n",
        "                path.pop()\n",
        "\n",
        "        backtrack(0, [])\n",
        "        return combinations"
      ]
    },
    {
      "cell_type": "markdown",
      "source": [
        "# Merge Sorted Array - Important"
      ],
      "metadata": {
        "id": "OxqFC2jMtGtJ"
      }
    },
    {
      "cell_type": "code",
      "source": [
        "# https://leetcode.com/problems/merge-sorted-array/description/\n",
        "\n",
        "# O(n + m) time, O(1) space\n",
        "class Solution:\n",
        "    def merge(self, nums1: List[int], m: int, nums2: List[int], n: int) -> None:\n",
        "        \"\"\"\n",
        "        Do not return anything, modify nums1 in-place instead.\n",
        "        \"\"\"\n",
        "        i, j, k = m - 1, n - 1, m + n - 1\n",
        "\n",
        "        while i >= 0 and j >= 0:\n",
        "            if nums1[i] <= nums2[j]:\n",
        "                nums1[k] = nums2[j]\n",
        "                j -= 1\n",
        "            else:\n",
        "                nums1[k] = nums1[i]\n",
        "                i -= 1\n",
        "            k -= 1\n",
        "\n",
        "        while j >= 0:\n",
        "            nums1[k] = nums2[j]\n",
        "            j -= 1\n",
        "            k -= 1\n",
        "\n",
        "\n",
        "# Merge Sorted Array [https://leetcode.com/problems/merge-sorted-array/]\n",
        "# O(n + m) time O(1) space\n",
        "\n",
        "class Solution:\n",
        "    def merge(self, nums1: List[int], m: int, nums2: List[int], n: int) -> None:\n",
        "        \"\"\"\n",
        "        Do not return anything, modify nums1 in-place instead.\n",
        "        \"\"\"\n",
        "\n",
        "        p1, p2 = m-1, n-1\n",
        "\n",
        "        for i in range(len(nums1) -1, -1, -1):\n",
        "            if p2 < 0:\n",
        "                break\n",
        "            if p1 >=0 and nums1[p1] > nums2[p2]:\n",
        "                nums1[i] = nums1[p1]\n",
        "                p1 -= 1\n",
        "            else:\n",
        "                nums1[i] = nums2[p2]\n",
        "                p2 -= 1\n",
        "\n",
        "\n",
        "        print(p1, p2)"
      ],
      "metadata": {
        "id": "BMAzgWPatH2j"
      },
      "execution_count": null,
      "outputs": []
    },
    {
      "cell_type": "markdown",
      "source": [
        "# Move Zeroes - Important"
      ],
      "metadata": {
        "id": "eGPjRghQy1fg"
      }
    },
    {
      "cell_type": "code",
      "source": [
        "# https://leetcode.com/problems/move-zeroes/description/\n",
        "\n",
        "# O(n) time, O(1) space\n",
        "\n",
        "class Solution:\n",
        "    def moveZeroes(self, nums: List[int]) -> None:\n",
        "        \"\"\"\n",
        "        Do not return anything, modify nums in-place instead.\n",
        "        \"\"\"\n",
        "\n",
        "        i = 0\n",
        "\n",
        "        while i < len(nums):\n",
        "            if nums[i] == 0:\n",
        "                j = i + 1\n",
        "                while j < len(nums):\n",
        "                    if nums[j] != 0:\n",
        "                        nums[i], nums[j] = nums[j], nums[i]\n",
        "                        break\n",
        "                    j += 1\n",
        "\n",
        "                i += 1\n",
        "            else:\n",
        "                i += 1\n",
        "\n",
        "\n",
        "# O(n) time, O(1) space\n",
        "\n",
        "\n",
        "class Solution:\n",
        "def moveZeroes(self, nums: List[int]) -> None:\n",
        "    \"\"\"\n",
        "    Do not return anything, modify nums in-place instead.\n",
        "    \"\"\"\n",
        "    l = 0\n",
        "    for r in range(len(nums)):\n",
        "        if nums[r] != 0:\n",
        "            nums[l], nums[r] = nums[r], nums[l]\n",
        "            l += 1\n"
      ],
      "metadata": {
        "id": "qAcrPDpmy17o"
      },
      "execution_count": null,
      "outputs": []
    },
    {
      "cell_type": "markdown",
      "source": [
        "# Clone Graph - Important"
      ],
      "metadata": {
        "id": "NK4QRAny__sf"
      }
    },
    {
      "cell_type": "code",
      "source": [
        "# https://leetcode.com/problems/clone-graph/\n",
        "\n",
        "# O(v + e) time, O(n) space\n",
        "class Solution:\n",
        "    def cloneGraph(self, node: Optional['Node']) -> Optional['Node']:\n",
        "        visited = {}\n",
        "\n",
        "        def dfs(node):\n",
        "            if node in visited:\n",
        "                return visited[node]\n",
        "\n",
        "            clone = Node(node.val)\n",
        "            visited[node] = clone\n",
        "\n",
        "            for nei in node.neighbors:\n",
        "                clone.neighbors.append(dfs(nei))\n",
        "\n",
        "            return clone\n",
        "\n",
        "        return dfs(node) if node else None"
      ],
      "metadata": {
        "id": "dcR9TorfAANR"
      },
      "execution_count": null,
      "outputs": []
    },
    {
      "cell_type": "markdown",
      "source": [
        "# Stickers to Spell Word - Important"
      ],
      "metadata": {
        "id": "1G58OHBZOoWW"
      }
    },
    {
      "cell_type": "code",
      "source": [
        "# https://leetcode.com/problems/stickers-to-spell-word/description/  - Meta Variation\n",
        "# https://leetcode.com/discuss/interview-question/4835013/Meta-Minimum-Stickers-Required\n",
        "\n",
        "# O(len(word) + len(sticker)) time, O(1) space because the counter will have a max of 26\n",
        "\n",
        "import math\n",
        "import collections\n",
        "def minStickers(word, sticker):\n",
        "    word_count = collections.Counter(word)\n",
        "    sticker_count = collections.Counter(sticker)\n",
        "\n",
        "    stickers = 0\n",
        "\n",
        "    for letter, count in word_count.items():\n",
        "        if letter in sticker_count:\n",
        "            stickers = max(stickers, math.ceil(count / sticker_count[letter]))\n",
        "        else:\n",
        "            return -1\n",
        "\n",
        "    return stickers\n",
        "\n",
        "\n",
        "minStickers(\"bbbbbbbbbbbaaaaaaaaaaaaaaaac\", \"bba\")"
      ],
      "metadata": {
        "colab": {
          "base_uri": "https://localhost:8080/"
        },
        "id": "hYwGYEBdOpZl",
        "outputId": "027a892b-f538-4a9b-e57b-ed6aa3dab82d"
      },
      "execution_count": null,
      "outputs": [
        {
          "output_type": "execute_result",
          "data": {
            "text/plain": [
              "-1"
            ]
          },
          "metadata": {},
          "execution_count": 5
        }
      ]
    }
  ],
  "metadata": {
    "colab": {
      "toc_visible": true,
      "provenance": []
    },
    "kernelspec": {
      "display_name": "Python 3",
      "name": "python3"
    },
    "language_info": {
      "name": "python"
    }
  },
  "nbformat": 4,
  "nbformat_minor": 0
}